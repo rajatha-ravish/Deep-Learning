{
 "cells": [
  {
   "cell_type": "markdown",
   "metadata": {},
   "source": [
    "##### Import Libraries"
   ]
  },
  {
   "cell_type": "code",
   "execution_count": 21,
   "metadata": {
    "colab": {
     "base_uri": "https://localhost:8080/",
     "height": 35
    },
    "id": "foXDIyNWamXG",
    "outputId": "095ba26d-738b-495c-8833-94e0bf62d266"
   },
   "outputs": [
    {
     "name": "stdout",
     "output_type": "stream",
     "text": [
      "2.3.0\n"
     ]
    }
   ],
   "source": [
    "from __future__ import absolute_import, division, print_function, unicode_literals\n",
    "import tensorflow as tf\n",
    "from tensorflow import keras\n",
    "import numpy as np\n",
    "import matplotlib.pyplot as plt\n",
    "import pandas as pd\n",
    "import cv2\n",
    "from keras.models import Sequential\n",
    "from keras.layers import Dense\n",
    "from keras.layers import Dropout\n",
    "from keras.layers import Flatten\n",
    "from keras.layers import Activation\n",
    "from keras.layers.convolutional import Conv2D\n",
    "from keras.layers.convolutional import MaxPooling2D\n",
    "from keras.layers import BatchNormalization\n",
    "from sklearn import preprocessing\n",
    "from keras.preprocessing.image import ImageDataGenerator\n",
    "from keras.preprocessing import image\n",
    "from keras.callbacks import EarlyStopping\n",
    "from keras import models\n",
    "from keras import layers\n",
    "from keras import optimizers\n",
    "\n",
    "\n",
    "print(tf.__version__)"
   ]
  },
  {
   "cell_type": "markdown",
   "metadata": {
    "id": "kX-ut910WiSv"
   },
   "source": [
    "##### Mount Drive to access Data"
   ]
  },
  {
   "cell_type": "code",
   "execution_count": 22,
   "metadata": {
    "colab": {
     "base_uri": "https://localhost:8080/",
     "height": 35
    },
    "id": "hRK9ACDjbr8i",
    "outputId": "74d35b2b-a1cc-4fc0-d685-605adc3d8134"
   },
   "outputs": [
    {
     "name": "stdout",
     "output_type": "stream",
     "text": [
      "Drive already mounted at /content/drive; to attempt to forcibly remount, call drive.mount(\"/content/drive\", force_remount=True).\n"
     ]
    }
   ],
   "source": [
    "from google.colab import drive\n",
    "drive.mount('/content/drive')"
   ]
  },
  {
   "cell_type": "code",
   "execution_count": 23,
   "metadata": {
    "colab": {
     "base_uri": "https://localhost:8080/",
     "height": 35
    },
    "id": "W23RPuVKb-3G",
    "outputId": "5b67d6e0-8019-4223-bea1-82f7b8a9e170"
   },
   "outputs": [
    {
     "name": "stdout",
     "output_type": "stream",
     "text": [
      "Done!\n"
     ]
    }
   ],
   "source": [
    "# unzip the folder\n",
    "from zipfile import ZipFile\n",
    "filename = \"drive/My Drive/JF30-1.zip\"\n",
    "with ZipFile(filename, 'r') as zip:\n",
    "  zip.extractall()\n",
    "  print(\"Done!\")"
   ]
  },
  {
   "cell_type": "markdown",
   "metadata": {
    "id": "iVxiSdWcWsGN"
   },
   "source": [
    "##### Import Data"
   ]
  },
  {
   "cell_type": "code",
   "execution_count": 24,
   "metadata": {
    "colab": {
     "base_uri": "https://localhost:8080/",
     "height": 203
    },
    "id": "_JhJ2yRLb7iu",
    "outputId": "c0c5abbf-94cd-43a3-95a4-53a8e2600104"
   },
   "outputs": [
    {
     "data": {
      "text/html": [
       "<div>\n",
       "<style scoped>\n",
       "    .dataframe tbody tr th:only-of-type {\n",
       "        vertical-align: middle;\n",
       "    }\n",
       "\n",
       "    .dataframe tbody tr th {\n",
       "        vertical-align: top;\n",
       "    }\n",
       "\n",
       "    .dataframe thead th {\n",
       "        text-align: right;\n",
       "    }\n",
       "</style>\n",
       "<table border=\"1\" class=\"dataframe\">\n",
       "  <thead>\n",
       "    <tr style=\"text-align: right;\">\n",
       "      <th></th>\n",
       "      <th>image</th>\n",
       "      <th>label</th>\n",
       "    </tr>\n",
       "  </thead>\n",
       "  <tbody>\n",
       "    <tr>\n",
       "      <th>28</th>\n",
       "      <td>JFT_00078.jpg</td>\n",
       "      <td>3</td>\n",
       "    </tr>\n",
       "    <tr>\n",
       "      <th>1136</th>\n",
       "      <td>JFT_00936.jpg</td>\n",
       "      <td>20</td>\n",
       "    </tr>\n",
       "    <tr>\n",
       "      <th>1232</th>\n",
       "      <td>JFT_01096.jpg</td>\n",
       "      <td>23</td>\n",
       "    </tr>\n",
       "    <tr>\n",
       "      <th>863</th>\n",
       "      <td>JFT_00485.jpg</td>\n",
       "      <td>10</td>\n",
       "    </tr>\n",
       "    <tr>\n",
       "      <th>536</th>\n",
       "      <td>JFT_01421.jpg</td>\n",
       "      <td>29</td>\n",
       "    </tr>\n",
       "  </tbody>\n",
       "</table>\n",
       "</div>"
      ],
      "text/plain": [
       "              image label\n",
       "28    JFT_00078.jpg     3\n",
       "1136  JFT_00936.jpg    20\n",
       "1232  JFT_01096.jpg    23\n",
       "863   JFT_00485.jpg    10\n",
       "536   JFT_01421.jpg    29"
      ]
     },
     "execution_count": 24,
     "metadata": {
      "tags": []
     },
     "output_type": "execute_result"
    }
   ],
   "source": [
    "classlabels = open(\"classlabels.txt\", \"r\")\n",
    "image = []\n",
    "label = []\n",
    "\n",
    "for line in classlabels:\n",
    "    words = line.split()\n",
    "    image.append(words[0][:-1])\n",
    "    label.append(words[1])\n",
    "\n",
    "df = pd.DataFrame([], columns = [\"image\", \"label\"])\n",
    "df['image'] = image\n",
    "df['label'] = label\n",
    "\n",
    "\n",
    "df2 = df.reindex(np.random.permutation(df.index))\n",
    "df2.head()"
   ]
  },
  {
   "cell_type": "code",
   "execution_count": 25,
   "metadata": {
    "colab": {
     "base_uri": "https://localhost:8080/",
     "height": 35
    },
    "id": "S6wS4S50cyw7",
    "outputId": "3353aa45-5c67-4e83-cca3-f5ccb1e673c3"
   },
   "outputs": [
    {
     "data": {
      "text/plain": [
       "(1479, 2)"
      ]
     },
     "execution_count": 25,
     "metadata": {
      "tags": []
     },
     "output_type": "execute_result"
    }
   ],
   "source": [
    "df2.shape"
   ]
  },
  {
   "cell_type": "code",
   "execution_count": 26,
   "metadata": {
    "id": "xwmx9akoc4Ue"
   },
   "outputs": [],
   "source": [
    "train_df = df2.head(1200)\n",
    "test_df = df2.tail(279)"
   ]
  },
  {
   "cell_type": "markdown",
   "metadata": {
    "id": "-EI6QW9cW2Br"
   },
   "source": [
    "##### Preprocess Dataset"
   ]
  },
  {
   "cell_type": "code",
   "execution_count": 27,
   "metadata": {
    "colab": {
     "base_uri": "https://localhost:8080/",
     "height": 35
    },
    "id": "J4DPBmTqdDV5",
    "outputId": "bca86fdf-88ec-4575-cbfb-f6b3ab5ddf3b"
   },
   "outputs": [
    {
     "name": "stdout",
     "output_type": "stream",
     "text": [
      "Found 1200 validated image filenames belonging to 30 classes.\n"
     ]
    }
   ],
   "source": [
    "#Training data with augmentation\n",
    "train_datagen = ImageDataGenerator(\n",
    "    rescale=1./255,\n",
    "    rotation_range=40,\n",
    "    width_shift_range=0.3,\n",
    "    height_shift_range=0.3,\n",
    "    horizontal_flip=True)\n",
    "# Data generator for training data\n",
    "train_generator = train_datagen.flow_from_dataframe(\n",
    "dataframe=train_df,\n",
    "x_col = \"image\",\n",
    "y_col = \"label\",\n",
    "directory=\"./jpg/\",\n",
    "target_size=(128, 128))"
   ]
  },
  {
   "cell_type": "code",
   "execution_count": 28,
   "metadata": {
    "colab": {
     "base_uri": "https://localhost:8080/",
     "height": 35
    },
    "id": "qo_0_XepdOVX",
    "outputId": "3cd44108-20c1-4418-ca92-26e162612a9f"
   },
   "outputs": [
    {
     "name": "stdout",
     "output_type": "stream",
     "text": [
      "Found 279 validated image filenames belonging to 30 classes.\n"
     ]
    }
   ],
   "source": [
    "test_datagen = ImageDataGenerator(\n",
    "    rescale=1./255,\n",
    "    rotation_range=40,\n",
    "    width_shift_range=0.3,\n",
    "    height_shift_range=0.3,\n",
    "    horizontal_flip=True)\n",
    "# Data Generator for Test data\n",
    "test_generator = test_datagen.flow_from_dataframe(\n",
    "dataframe=test_df,\n",
    "x_col = \"image\",\n",
    "y_col = \"label\",\n",
    "directory=\"./jpg/\",\n",
    "class_mode = \"categorical\",\n",
    "target_size=(128, 128),\n",
    "shuffle=False)"
   ]
  },
  {
   "cell_type": "markdown",
   "metadata": {
    "id": "pmo37rVFW9Mf"
   },
   "source": [
    "##### Baseline"
   ]
  },
  {
   "cell_type": "code",
   "execution_count": 29,
   "metadata": {
    "colab": {
     "base_uri": "https://localhost:8080/",
     "height": 580
    },
    "id": "5myP4IDcdVor",
    "outputId": "c3fe70e7-6a66-4928-efc1-ab6255b5a06a"
   },
   "outputs": [
    {
     "name": "stdout",
     "output_type": "stream",
     "text": [
      "Distribution of testing target variable::\n",
      "29    5.376344\n",
      "11    5.017921\n",
      "19    5.017921\n",
      "23    5.017921\n",
      "24    5.017921\n",
      "22    4.659498\n",
      "5     4.659498\n",
      "6     4.659498\n",
      "10    4.301075\n",
      "2     3.942652\n",
      "9     3.942652\n",
      "4     3.942652\n",
      "3     3.584229\n",
      "28    3.584229\n",
      "14    3.584229\n",
      "13    3.225806\n",
      "18    3.225806\n",
      "27    3.225806\n",
      "12    3.225806\n",
      "7     3.225806\n",
      "20    3.225806\n",
      "17    2.508961\n",
      "8     2.508961\n",
      "25    2.508961\n",
      "21    1.792115\n",
      "26    1.433692\n",
      "16    1.433692\n",
      "15    1.075269\n",
      "30    0.716846\n",
      "1     0.358423\n",
      "Name: label, dtype: float64\n"
     ]
    }
   ],
   "source": [
    "print(\"Distribution of testing target variable::\")\n",
    "frequency = test_df['label'].value_counts(normalize =True)\n",
    "print(frequency*100)\n",
    "#Baseline is 5.37%"
   ]
  },
  {
   "cell_type": "markdown",
   "metadata": {
    "id": "IqToU4GWXBlQ"
   },
   "source": [
    "##### Load VGG Model"
   ]
  },
  {
   "cell_type": "code",
   "execution_count": 30,
   "metadata": {
    "colab": {
     "base_uri": "https://localhost:8080/",
     "height": 827
    },
    "id": "95T1Hi_Ddm20",
    "outputId": "b9017eed-911e-4911-8c0c-ea1ae4c24f4a"
   },
   "outputs": [
    {
     "name": "stdout",
     "output_type": "stream",
     "text": [
      "Model: \"vgg16\"\n",
      "_________________________________________________________________\n",
      "Layer (type)                 Output Shape              Param #   \n",
      "=================================================================\n",
      "input_2 (InputLayer)         [(None, 128, 128, 3)]     0         \n",
      "_________________________________________________________________\n",
      "block1_conv1 (Conv2D)        (None, 128, 128, 64)      1792      \n",
      "_________________________________________________________________\n",
      "block1_conv2 (Conv2D)        (None, 128, 128, 64)      36928     \n",
      "_________________________________________________________________\n",
      "block1_pool (MaxPooling2D)   (None, 64, 64, 64)        0         \n",
      "_________________________________________________________________\n",
      "block2_conv1 (Conv2D)        (None, 64, 64, 128)       73856     \n",
      "_________________________________________________________________\n",
      "block2_conv2 (Conv2D)        (None, 64, 64, 128)       147584    \n",
      "_________________________________________________________________\n",
      "block2_pool (MaxPooling2D)   (None, 32, 32, 128)       0         \n",
      "_________________________________________________________________\n",
      "block3_conv1 (Conv2D)        (None, 32, 32, 256)       295168    \n",
      "_________________________________________________________________\n",
      "block3_conv2 (Conv2D)        (None, 32, 32, 256)       590080    \n",
      "_________________________________________________________________\n",
      "block3_conv3 (Conv2D)        (None, 32, 32, 256)       590080    \n",
      "_________________________________________________________________\n",
      "block3_pool (MaxPooling2D)   (None, 16, 16, 256)       0         \n",
      "_________________________________________________________________\n",
      "block4_conv1 (Conv2D)        (None, 16, 16, 512)       1180160   \n",
      "_________________________________________________________________\n",
      "block4_conv2 (Conv2D)        (None, 16, 16, 512)       2359808   \n",
      "_________________________________________________________________\n",
      "block4_conv3 (Conv2D)        (None, 16, 16, 512)       2359808   \n",
      "_________________________________________________________________\n",
      "block4_pool (MaxPooling2D)   (None, 8, 8, 512)         0         \n",
      "_________________________________________________________________\n",
      "block5_conv1 (Conv2D)        (None, 8, 8, 512)         2359808   \n",
      "_________________________________________________________________\n",
      "block5_conv2 (Conv2D)        (None, 8, 8, 512)         2359808   \n",
      "_________________________________________________________________\n",
      "block5_conv3 (Conv2D)        (None, 8, 8, 512)         2359808   \n",
      "_________________________________________________________________\n",
      "block5_pool (MaxPooling2D)   (None, 4, 4, 512)         0         \n",
      "=================================================================\n",
      "Total params: 14,714,688\n",
      "Trainable params: 14,714,688\n",
      "Non-trainable params: 0\n",
      "_________________________________________________________________\n"
     ]
    }
   ],
   "source": [
    "from keras.applications import VGG16\n",
    "\n",
    "vgg_conv = VGG16(weights='imagenet', include_top=False, input_shape=(128, 128, 3))\n",
    "\n",
    "vgg_conv.summary()"
   ]
  },
  {
   "cell_type": "markdown",
   "metadata": {
    "id": "I1inkHPZXLF2"
   },
   "source": [
    "##### Train last 4 layer"
   ]
  },
  {
   "cell_type": "code",
   "execution_count": 31,
   "metadata": {
    "colab": {
     "base_uri": "https://localhost:8080/",
     "height": 351
    },
    "id": "WIlPoMYJd7XR",
    "outputId": "76f37a89-25bd-45a8-e2dd-1bdaa8989b8f"
   },
   "outputs": [
    {
     "name": "stdout",
     "output_type": "stream",
     "text": [
      "<tensorflow.python.keras.engine.input_layer.InputLayer object at 0x7f482344fb70> False\n",
      "<tensorflow.python.keras.layers.convolutional.Conv2D object at 0x7f48273592b0> False\n",
      "<tensorflow.python.keras.layers.convolutional.Conv2D object at 0x7f4823456518> False\n",
      "<tensorflow.python.keras.layers.pooling.MaxPooling2D object at 0x7f4823456908> False\n",
      "<tensorflow.python.keras.layers.convolutional.Conv2D object at 0x7f48273592e8> False\n",
      "<tensorflow.python.keras.layers.convolutional.Conv2D object at 0x7f4831e7cb00> False\n",
      "<tensorflow.python.keras.layers.pooling.MaxPooling2D object at 0x7f4825564f28> False\n",
      "<tensorflow.python.keras.layers.convolutional.Conv2D object at 0x7f48315a05c0> False\n",
      "<tensorflow.python.keras.layers.convolutional.Conv2D object at 0x7f48315ad438> False\n",
      "<tensorflow.python.keras.layers.convolutional.Conv2D object at 0x7f48315ad860> False\n",
      "<tensorflow.python.keras.layers.pooling.MaxPooling2D object at 0x7f48315b8438> False\n",
      "<tensorflow.python.keras.layers.convolutional.Conv2D object at 0x7f48315b8c18> False\n",
      "<tensorflow.python.keras.layers.convolutional.Conv2D object at 0x7f483160da90> False\n",
      "<tensorflow.python.keras.layers.convolutional.Conv2D object at 0x7f483160db70> False\n",
      "<tensorflow.python.keras.layers.pooling.MaxPooling2D object at 0x7f4831619780> False\n",
      "<tensorflow.python.keras.layers.convolutional.Conv2D object at 0x7f48316232b0> True\n",
      "<tensorflow.python.keras.layers.convolutional.Conv2D object at 0x7f4831623eb8> True\n",
      "<tensorflow.python.keras.layers.convolutional.Conv2D object at 0x7f483162b550> True\n",
      "<tensorflow.python.keras.layers.pooling.MaxPooling2D object at 0x7f483162b4e0> True\n"
     ]
    }
   ],
   "source": [
    "for layer in vgg_conv.layers[:-4]:\n",
    "  layer.trainable = False\n",
    "\n",
    "# To chk trainable status\n",
    "for layer in vgg_conv.layers:\n",
    "  print(layer, layer.trainable)"
   ]
  },
  {
   "cell_type": "markdown",
   "metadata": {
    "id": "GvpxKcJ0XYPc"
   },
   "source": [
    "##### Build Model"
   ]
  },
  {
   "cell_type": "code",
   "execution_count": 32,
   "metadata": {
    "colab": {
     "base_uri": "https://localhost:8080/",
     "height": 439
    },
    "id": "Ne97u_b_eRKL",
    "outputId": "39826b5c-bb54-40ec-d925-3ac3db945a1b"
   },
   "outputs": [
    {
     "name": "stdout",
     "output_type": "stream",
     "text": [
      "Model: \"sequential_1\"\n",
      "_________________________________________________________________\n",
      "Layer (type)                 Output Shape              Param #   \n",
      "=================================================================\n",
      "vgg16 (Functional)           (None, 4, 4, 512)         14714688  \n",
      "_________________________________________________________________\n",
      "flatten_1 (Flatten)          (None, 8192)              0         \n",
      "_________________________________________________________________\n",
      "dense_2 (Dense)              (None, 512)               4194816   \n",
      "_________________________________________________________________\n",
      "batch_normalization_1 (Batch (None, 512)               2048      \n",
      "_________________________________________________________________\n",
      "activation_2 (Activation)    (None, 512)               0         \n",
      "_________________________________________________________________\n",
      "dropout_1 (Dropout)          (None, 512)               0         \n",
      "_________________________________________________________________\n",
      "dense_3 (Dense)              (None, 30)                15390     \n",
      "_________________________________________________________________\n",
      "activation_3 (Activation)    (None, 30)                0         \n",
      "=================================================================\n",
      "Total params: 18,926,942\n",
      "Trainable params: 11,290,654\n",
      "Non-trainable params: 7,636,288\n",
      "_________________________________________________________________\n"
     ]
    }
   ],
   "source": [
    "model = models.Sequential()\n",
    "model.add(vgg_conv)\n",
    "model.add(Flatten())\n",
    "model.add(Dense(512))\n",
    "model.add(BatchNormalization())\n",
    "model.add(Activation('relu'))\n",
    "model.add(Dropout(0.5))\n",
    "model.add(Dense(30))\n",
    "model.add(Activation('softmax'))  \n",
    "    \n",
    "model.summary()"
   ]
  },
  {
   "cell_type": "code",
   "execution_count": 33,
   "metadata": {
    "id": "jvxqZeL8flsR"
   },
   "outputs": [],
   "source": [
    "## Compile\n",
    "model.compile(optimizer=tf.keras.optimizers.Adam(),\n",
    "              loss= 'categorical_crossentropy',\n",
    "              metrics=['accuracy'])"
   ]
  },
  {
   "cell_type": "code",
   "execution_count": 34,
   "metadata": {
    "colab": {
     "base_uri": "https://localhost:8080/",
     "height": 1000
    },
    "id": "EYskYBqdf1rS",
    "outputId": "3adad548-3381-46e2-9bf4-830b9eabba19"
   },
   "outputs": [
    {
     "name": "stdout",
     "output_type": "stream",
     "text": [
      "Epoch 1/40\n",
      "38/38 [==============================] - 312s 8s/step - loss: 2.2711 - accuracy: 0.3625 - val_loss: 22.3144 - val_accuracy: 0.1398\n",
      "Epoch 2/40\n",
      "38/38 [==============================] - 310s 8s/step - loss: 1.0220 - accuracy: 0.6783 - val_loss: 5.4425 - val_accuracy: 0.3763\n",
      "Epoch 3/40\n",
      "38/38 [==============================] - 308s 8s/step - loss: 0.6869 - accuracy: 0.7800 - val_loss: 3.9732 - val_accuracy: 0.3548\n",
      "Epoch 4/40\n",
      "38/38 [==============================] - 306s 8s/step - loss: 0.4723 - accuracy: 0.8575 - val_loss: 0.5427 - val_accuracy: 0.8100\n",
      "Epoch 5/40\n",
      "38/38 [==============================] - 312s 8s/step - loss: 0.3804 - accuracy: 0.8925 - val_loss: 1.4275 - val_accuracy: 0.6201\n",
      "Epoch 6/40\n",
      "38/38 [==============================] - 307s 8s/step - loss: 0.3454 - accuracy: 0.8867 - val_loss: 1.2924 - val_accuracy: 0.6344\n",
      "Epoch 7/40\n",
      "38/38 [==============================] - 311s 8s/step - loss: 0.2958 - accuracy: 0.9083 - val_loss: 0.3002 - val_accuracy: 0.9140\n",
      "Epoch 8/40\n",
      "38/38 [==============================] - 309s 8s/step - loss: 0.2404 - accuracy: 0.9275 - val_loss: 1.8172 - val_accuracy: 0.5842\n",
      "Epoch 9/40\n",
      "38/38 [==============================] - 310s 8s/step - loss: 0.2278 - accuracy: 0.9317 - val_loss: 1.4129 - val_accuracy: 0.6487\n",
      "Epoch 10/40\n",
      "38/38 [==============================] - 308s 8s/step - loss: 0.1982 - accuracy: 0.9342 - val_loss: 0.7245 - val_accuracy: 0.8244\n",
      "Epoch 11/40\n",
      "38/38 [==============================] - 310s 8s/step - loss: 0.1983 - accuracy: 0.9400 - val_loss: 0.5932 - val_accuracy: 0.8423\n",
      "Epoch 12/40\n",
      "38/38 [==============================] - 307s 8s/step - loss: 0.1725 - accuracy: 0.9483 - val_loss: 0.4982 - val_accuracy: 0.8602\n",
      "Epoch 13/40\n",
      "38/38 [==============================] - 312s 8s/step - loss: 0.1479 - accuracy: 0.9558 - val_loss: 0.3726 - val_accuracy: 0.8638\n",
      "Epoch 14/40\n",
      "38/38 [==============================] - 308s 8s/step - loss: 0.1452 - accuracy: 0.9558 - val_loss: 0.2878 - val_accuracy: 0.9211\n",
      "Epoch 15/40\n",
      "38/38 [==============================] - 312s 8s/step - loss: 0.1223 - accuracy: 0.9617 - val_loss: 0.3917 - val_accuracy: 0.8746\n",
      "Epoch 16/40\n",
      "38/38 [==============================] - 309s 8s/step - loss: 0.1208 - accuracy: 0.9625 - val_loss: 0.3972 - val_accuracy: 0.8781\n",
      "Epoch 17/40\n",
      "38/38 [==============================] - 312s 8s/step - loss: 0.1377 - accuracy: 0.9550 - val_loss: 0.7607 - val_accuracy: 0.8065\n",
      "Epoch 18/40\n",
      "38/38 [==============================] - 310s 8s/step - loss: 0.1422 - accuracy: 0.9542 - val_loss: 0.3610 - val_accuracy: 0.8996\n",
      "Epoch 19/40\n",
      "38/38 [==============================] - 312s 8s/step - loss: 0.1131 - accuracy: 0.9650 - val_loss: 0.2950 - val_accuracy: 0.9068\n",
      "Epoch 20/40\n",
      "38/38 [==============================] - 311s 8s/step - loss: 0.0971 - accuracy: 0.9675 - val_loss: 0.3136 - val_accuracy: 0.8961\n",
      "Epoch 21/40\n",
      "38/38 [==============================] - 308s 8s/step - loss: 0.1173 - accuracy: 0.9650 - val_loss: 0.6482 - val_accuracy: 0.8351\n",
      "Epoch 22/40\n",
      "38/38 [==============================] - 310s 8s/step - loss: 0.1075 - accuracy: 0.9650 - val_loss: 0.3757 - val_accuracy: 0.8746\n",
      "Epoch 23/40\n",
      "38/38 [==============================] - 307s 8s/step - loss: 0.0762 - accuracy: 0.9792 - val_loss: 0.2554 - val_accuracy: 0.9355\n",
      "Epoch 24/40\n",
      "38/38 [==============================] - 311s 8s/step - loss: 0.1336 - accuracy: 0.9583 - val_loss: 0.2198 - val_accuracy: 0.9176\n",
      "Epoch 25/40\n",
      "38/38 [==============================] - 308s 8s/step - loss: 0.0899 - accuracy: 0.9742 - val_loss: 0.2052 - val_accuracy: 0.9355\n",
      "Epoch 26/40\n",
      "38/38 [==============================] - 311s 8s/step - loss: 0.0803 - accuracy: 0.9750 - val_loss: 0.4045 - val_accuracy: 0.9068\n",
      "Epoch 27/40\n",
      "38/38 [==============================] - 308s 8s/step - loss: 0.0666 - accuracy: 0.9783 - val_loss: 0.1610 - val_accuracy: 0.9498\n",
      "Epoch 28/40\n",
      "38/38 [==============================] - 310s 8s/step - loss: 0.0474 - accuracy: 0.9900 - val_loss: 0.1559 - val_accuracy: 0.9534\n",
      "Epoch 29/40\n",
      "38/38 [==============================] - 308s 8s/step - loss: 0.0660 - accuracy: 0.9758 - val_loss: 0.3086 - val_accuracy: 0.9140\n",
      "Epoch 30/40\n",
      "38/38 [==============================] - 311s 8s/step - loss: 0.0731 - accuracy: 0.9758 - val_loss: 0.3681 - val_accuracy: 0.8674\n",
      "Epoch 31/40\n",
      "38/38 [==============================] - 308s 8s/step - loss: 0.0652 - accuracy: 0.9792 - val_loss: 0.2998 - val_accuracy: 0.9068\n",
      "Epoch 32/40\n",
      "38/38 [==============================] - 313s 8s/step - loss: 0.0528 - accuracy: 0.9842 - val_loss: 0.3631 - val_accuracy: 0.8853\n",
      "Epoch 33/40\n",
      "38/38 [==============================] - 309s 8s/step - loss: 0.0683 - accuracy: 0.9775 - val_loss: 0.3456 - val_accuracy: 0.8996\n",
      "Epoch 34/40\n",
      "38/38 [==============================] - 311s 8s/step - loss: 0.0967 - accuracy: 0.9675 - val_loss: 0.3199 - val_accuracy: 0.8996\n",
      "Epoch 35/40\n",
      "38/38 [==============================] - 308s 8s/step - loss: 0.0596 - accuracy: 0.9792 - val_loss: 0.2311 - val_accuracy: 0.9462\n",
      "Epoch 36/40\n",
      "38/38 [==============================] - 312s 8s/step - loss: 0.0972 - accuracy: 0.9700 - val_loss: 0.3548 - val_accuracy: 0.9032\n",
      "Epoch 37/40\n",
      "38/38 [==============================] - 309s 8s/step - loss: 0.0399 - accuracy: 0.9917 - val_loss: 0.4721 - val_accuracy: 0.8889\n",
      "Epoch 38/40\n",
      "38/38 [==============================] - 311s 8s/step - loss: 0.0476 - accuracy: 0.9858 - val_loss: 0.1824 - val_accuracy: 0.9498\n",
      "Epoch 39/40\n",
      "38/38 [==============================] - 308s 8s/step - loss: 0.0604 - accuracy: 0.9808 - val_loss: 0.3280 - val_accuracy: 0.9176\n",
      "Epoch 40/40\n",
      "38/38 [==============================] - 309s 8s/step - loss: 0.0896 - accuracy: 0.9783 - val_loss: 0.1961 - val_accuracy: 0.9355\n"
     ]
    }
   ],
   "source": [
    "# Train model\n",
    "history = model.fit_generator(train_generator,\n",
    "epochs=40,\n",
    "validation_data=test_generator,\n",
    "verbose=1)"
   ]
  },
  {
   "cell_type": "code",
   "execution_count": 35,
   "metadata": {
    "colab": {
     "base_uri": "https://localhost:8080/",
     "height": 52
    },
    "id": "kc0_nqkamEqI",
    "outputId": "7015f3d2-2a1f-4e3f-b343-0438f62cfa5d"
   },
   "outputs": [
    {
     "name": "stdout",
     "output_type": "stream",
     "text": [
      "Minimum accuracy of Model:  0.36250001192092896\n",
      "Maximum accuracy of Model:  0.9916666746139526\n"
     ]
    }
   ],
   "source": [
    "print(\"Minimum accuracy of Model: \", min(history.history['accuracy']))\n",
    "print(\"Maximum accuracy of Model: \", max(history.history['accuracy']))"
   ]
  },
  {
   "cell_type": "code",
   "execution_count": 36,
   "metadata": {
    "colab": {
     "base_uri": "https://localhost:8080/",
     "height": 52
    },
    "id": "j0apBbbKFsjh",
    "outputId": "f690f229-a4d0-427a-f142-1100f465f5a7"
   },
   "outputs": [
    {
     "name": "stdout",
     "output_type": "stream",
     "text": [
      "Minimum accuracy of validation:  0.13978494703769684\n",
      "Maximum accuracy of validation:  0.9534050226211548\n"
     ]
    }
   ],
   "source": [
    "print(\"Minimum accuracy of validation: \", min(history.history['val_accuracy']))\n",
    "print(\"Maximum accuracy of validation: \", max(history.history['val_accuracy']))"
   ]
  },
  {
   "cell_type": "code",
   "execution_count": 37,
   "metadata": {
    "colab": {
     "base_uri": "https://localhost:8080/",
     "height": 283
    },
    "id": "vf1GH-AuF8wS",
    "outputId": "1d9cce95-2c09-4e13-c0b7-e456c80abd73"
   },
   "outputs": [
    {
     "data": {
      "image/png": "[encoded data removed]",
      "text/plain": [
       "<Figure size 432x288 with 1 Axes>"
      ]
     },
     "metadata": {
      "needs_background": "light",
      "tags": []
     },
     "output_type": "display_data"
    }
   ],
   "source": [
    "def plot_history(history):\n",
    "  plt.figure()\n",
    "  plt.xlabel('Epoch')\n",
    "  plt.ylabel('Accuracy')\n",
    "  plt.plot(history.epoch, np.array(history.history['accuracy']),\n",
    "           label='Training Accuracy')\n",
    "  plt.plot(history.epoch, np.array(history.history['val_accuracy']),\n",
    "           label = 'Validation Accuracy')\n",
    "  plt.legend()\n",
    "  plt.ylim([0, 1])\n",
    "\n",
    "plot_history(history)"
   ]
  },
  {
   "cell_type": "markdown",
   "metadata": {},
   "source": [
    "##### Classification Report"
   ]
  },
  {
   "cell_type": "code",
   "execution_count": null,
   "metadata": {
    "colab": {
     "base_uri": "https://localhost:8080/",
     "height": 668
    },
    "id": "vafwraJhHau4",
    "outputId": "4061b4e1-78f6-464f-b999-2b3321443fec"
   },
   "outputs": [
    {
     "name": "stdout",
     "output_type": "stream",
     "text": [
      "              precision    recall  f1-score   support\n",
      "\n",
      "           1       1.00      1.00      1.00         3\n",
      "          10       1.00      1.00      1.00        12\n",
      "          11       1.00      1.00      1.00         5\n",
      "          12       1.00      1.00      1.00         7\n",
      "          13       0.93      1.00      0.96        13\n",
      "          14       0.92      1.00      0.96        11\n",
      "          15       1.00      1.00      1.00         2\n",
      "          16       1.00      1.00      1.00         2\n",
      "          17       1.00      1.00      1.00         7\n",
      "          18       1.00      1.00      1.00        12\n",
      "          19       1.00      0.90      0.95        10\n",
      "           2       1.00      1.00      1.00        11\n",
      "          20       0.90      0.90      0.90        10\n",
      "          21       1.00      0.75      0.86         8\n",
      "          22       0.85      1.00      0.92        11\n",
      "          23       1.00      0.88      0.94        17\n",
      "          24       1.00      1.00      1.00        12\n",
      "          25       0.93      1.00      0.97        14\n",
      "          26       1.00      1.00      1.00         4\n",
      "          27       0.80      0.89      0.84         9\n",
      "          28       1.00      0.93      0.97        15\n",
      "          29       1.00      1.00      1.00        15\n",
      "           3       1.00      0.89      0.94         9\n",
      "          30       0.75      1.00      0.86         3\n",
      "           4       0.92      1.00      0.96        11\n",
      "           5       1.00      1.00      1.00        12\n",
      "           6       1.00      0.85      0.92        13\n",
      "           7       1.00      1.00      1.00        10\n",
      "           8       1.00      0.86      0.92         7\n",
      "           9       0.67      1.00      0.80         4\n",
      "\n",
      "    accuracy                           0.96       279\n",
      "   macro avg       0.96      0.96      0.95       279\n",
      "weighted avg       0.96      0.96      0.96       279\n",
      "\n"
     ]
    }
   ],
   "source": [
    "import sklearn.metrics as metrics\n",
    "predictions = model.predict_generator(test_generator)\n",
    "# Get most likely class\n",
    "predicted_classes = np.argmax(predictions, axis=1)\n",
    "true_classes = test_generator.classes\n",
    "class_labels = list(test_generator.class_indices.keys()) \n",
    "report = metrics.classification_report(true_classes, predicted_classes, target_names=class_labels, zero_division='warn')\n",
    "print(report)"
   ]
  },
  {
   "cell_type": "markdown",
   "metadata": {},
   "source": [
    "##### Inference "
   ]
  },
  {
   "cell_type": "markdown",
   "metadata": {},
   "source": [
    "*  Using Fine tuning technique to train CNN Classification Model for the Jena Flowers dataset with 30 classes. \n",
    "*  The pretrained model used  is VGG16 and the last 4 layers of the model is trained where as rest of the layers are freezed. \n",
    "*  Initial layers  are intact and  later layers are retrained. This technique is good at adapting to the new data.\n",
    "*  The baseline of the model is 5.37% and it is calculated using majority classification rule. \n",
    "*  The model and validation accuracy is exceeding baseline accuracy. The maximum validation accuracy is 95.3%."
   ]
  },
  {
   "cell_type": "code",
   "execution_count": null,
   "metadata": {},
   "outputs": [],
   "source": []
  }
 ],
 "metadata": {
  "colab": {
   "name": "RajathaRavish_CNN_Fine_Tuning.ipynb",
   "provenance": []
  },
  "kernelspec": {
   "display_name": "Python 3",
   "language": "python",
   "name": "python3"
  },
  "language_info": {
   "codemirror_mode": {
    "name": "ipython",
    "version": 3
   },
   "file_extension": ".py",
   "mimetype": "text/x-python",
   "name": "python",
   "nbconvert_exporter": "python",
   "pygments_lexer": "ipython3",
   "version": "3.7.3"
  }
 },
 "nbformat": 4,
 "nbformat_minor": 1
}
