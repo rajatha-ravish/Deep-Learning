{
 "cells": [
  {
   "cell_type": "markdown",
   "metadata": {},
   "source": [
    "##### Import Libraries"
   ]
  },
  {
   "cell_type": "code",
   "execution_count": null,
   "metadata": {
    "colab": {
     "base_uri": "https://localhost:8080/",
     "height": 35
    },
    "id": "xZntulY6Uyhe",
    "outputId": "3756cf6f-dea2-480d-b5de-21be19eb689d"
   },
   "outputs": [
    {
     "name": "stdout",
     "output_type": "stream",
     "text": [
      "2.3.0\n"
     ]
    }
   ],
   "source": [
    "from __future__ import absolute_import, division, print_function, unicode_literals\n",
    "import tensorflow as tf\n",
    "from tensorflow import keras\n",
    "import numpy as np\n",
    "import numpy\n",
    "import matplotlib.pyplot as plt\n",
    "import pandas as pd\n",
    "import cv2\n",
    "from keras.models import Sequential\n",
    "from keras.layers import Dense\n",
    "from keras.layers import Dropout\n",
    "from keras.layers import Flatten\n",
    "from keras.layers import Activation\n",
    "from keras.layers.convolutional import Conv2D\n",
    "from keras.layers.convolutional import MaxPooling2D\n",
    "from keras.layers import BatchNormalization\n",
    "from sklearn import preprocessing\n",
    "from keras.preprocessing.image import ImageDataGenerator\n",
    "from keras.preprocessing import image\n",
    "from keras.callbacks import EarlyStopping\n",
    "\n",
    "print(tf.__version__)"
   ]
  },
  {
   "cell_type": "markdown",
   "metadata": {
    "id": "kJXH8lP3YmSq"
   },
   "source": [
    "##### Mount Drive to access dataset\n"
   ]
  },
  {
   "cell_type": "code",
   "execution_count": null,
   "metadata": {
    "colab": {
     "base_uri": "https://localhost:8080/",
     "height": 35
    },
    "id": "o0oB4bgUChaT",
    "outputId": "8467d477-1b1e-47fe-d7ba-1fcf8854bdc8"
   },
   "outputs": [
    {
     "name": "stdout",
     "output_type": "stream",
     "text": [
      "Mounted at /content/drive\n"
     ]
    }
   ],
   "source": [
    "from google.colab import drive\n",
    "drive.mount('/content/drive')\n"
   ]
  },
  {
   "cell_type": "code",
   "execution_count": null,
   "metadata": {
    "colab": {
     "base_uri": "https://localhost:8080/",
     "height": 35
    },
    "id": "3UrE9ATLC_yF",
    "outputId": "ae094917-c053-43c3-d395-34b47d9f2196"
   },
   "outputs": [
    {
     "name": "stdout",
     "output_type": "stream",
     "text": [
      "done!\n"
     ]
    }
   ],
   "source": [
    "from zipfile import ZipFile\n",
    "filename = \"drive/My Drive/JF30-1.zip\"\n",
    "with ZipFile(filename, 'r') as zip:\n",
    "  zip.extractall()\n",
    "  print(\"done!\")"
   ]
  },
  {
   "cell_type": "markdown",
   "metadata": {
    "id": "F1v39DV7Yy0m"
   },
   "source": [
    "##### Import Data"
   ]
  },
  {
   "cell_type": "code",
   "execution_count": null,
   "metadata": {
    "colab": {
     "base_uri": "https://localhost:8080/",
     "height": 417
    },
    "id": "PgBCTTibUyhp",
    "outputId": "36a1584c-e62f-4d6c-d584-d0e58c674b6e"
   },
   "outputs": [
    {
     "data": {
      "text/html": [
       "<div>\n",
       "<style scoped>\n",
       "    .dataframe tbody tr th:only-of-type {\n",
       "        vertical-align: middle;\n",
       "    }\n",
       "\n",
       "    .dataframe tbody tr th {\n",
       "        vertical-align: top;\n",
       "    }\n",
       "\n",
       "    .dataframe thead th {\n",
       "        text-align: right;\n",
       "    }\n",
       "</style>\n",
       "<table border=\"1\" class=\"dataframe\">\n",
       "  <thead>\n",
       "    <tr style=\"text-align: right;\">\n",
       "      <th></th>\n",
       "      <th>image</th>\n",
       "      <th>label</th>\n",
       "    </tr>\n",
       "  </thead>\n",
       "  <tbody>\n",
       "    <tr>\n",
       "      <th>918</th>\n",
       "      <td>JFT_00583.jpg</td>\n",
       "      <td>12</td>\n",
       "    </tr>\n",
       "    <tr>\n",
       "      <th>1356</th>\n",
       "      <td>JFT_01294.jpg</td>\n",
       "      <td>27</td>\n",
       "    </tr>\n",
       "    <tr>\n",
       "      <th>1187</th>\n",
       "      <td>JFT_01030.jpg</td>\n",
       "      <td>22</td>\n",
       "    </tr>\n",
       "    <tr>\n",
       "      <th>1431</th>\n",
       "      <td>JFT_01403.jpg</td>\n",
       "      <td>28</td>\n",
       "    </tr>\n",
       "    <tr>\n",
       "      <th>1372</th>\n",
       "      <td>JFT_01316.jpg</td>\n",
       "      <td>27</td>\n",
       "    </tr>\n",
       "    <tr>\n",
       "      <th>...</th>\n",
       "      <td>...</td>\n",
       "      <td>...</td>\n",
       "    </tr>\n",
       "    <tr>\n",
       "      <th>807</th>\n",
       "      <td>JFT_00389.jpg</td>\n",
       "      <td>8</td>\n",
       "    </tr>\n",
       "    <tr>\n",
       "      <th>268</th>\n",
       "      <td>JFT_00714.jpg</td>\n",
       "      <td>15</td>\n",
       "    </tr>\n",
       "    <tr>\n",
       "      <th>56</th>\n",
       "      <td>JFT_00139.jpg</td>\n",
       "      <td>4</td>\n",
       "    </tr>\n",
       "    <tr>\n",
       "      <th>462</th>\n",
       "      <td>JFT_01218.jpg</td>\n",
       "      <td>25</td>\n",
       "    </tr>\n",
       "    <tr>\n",
       "      <th>888</th>\n",
       "      <td>JFT_00530.jpg</td>\n",
       "      <td>11</td>\n",
       "    </tr>\n",
       "  </tbody>\n",
       "</table>\n",
       "<p>1479 rows × 2 columns</p>\n",
       "</div>"
      ],
      "text/plain": [
       "              image label\n",
       "918   JFT_00583.jpg    12\n",
       "1356  JFT_01294.jpg    27\n",
       "1187  JFT_01030.jpg    22\n",
       "1431  JFT_01403.jpg    28\n",
       "1372  JFT_01316.jpg    27\n",
       "...             ...   ...\n",
       "807   JFT_00389.jpg     8\n",
       "268   JFT_00714.jpg    15\n",
       "56    JFT_00139.jpg     4\n",
       "462   JFT_01218.jpg    25\n",
       "888   JFT_00530.jpg    11\n",
       "\n",
       "[1479 rows x 2 columns]"
      ]
     },
     "execution_count": 4,
     "metadata": {
      "tags": []
     },
     "output_type": "execute_result"
    }
   ],
   "source": [
    "classlabels = open(\"classlabels.txt\", \"r\")\n",
    "image = []\n",
    "label = []\n",
    "\n",
    "for line in classlabels:\n",
    "    words = line.split()\n",
    "    image.append(words[0][:-1])\n",
    "    label.append(words[1])\n",
    "\n",
    "df = pd.DataFrame([], columns = [\"image\", \"label\"])\n",
    "df['image'] = image\n",
    "df['label'] = label\n",
    "\n",
    "\n",
    "df2 = df.reindex(np.random.permutation(df.index))\n",
    "df2"
   ]
  },
  {
   "cell_type": "code",
   "execution_count": null,
   "metadata": {
    "colab": {
     "base_uri": "https://localhost:8080/",
     "height": 35
    },
    "id": "NiO-RcyUCe8_",
    "outputId": "b793a7e5-52e5-4acf-fc0b-8394040d42c7"
   },
   "outputs": [
    {
     "data": {
      "text/plain": [
       "(1479, 2)"
      ]
     },
     "execution_count": 5,
     "metadata": {
      "tags": []
     },
     "output_type": "execute_result"
    }
   ],
   "source": [
    "df2.shape"
   ]
  },
  {
   "cell_type": "code",
   "execution_count": null,
   "metadata": {
    "id": "Md-TrIbJUyhy"
   },
   "outputs": [],
   "source": [
    "train_df = df2.head(1200)\n",
    "test_df = df2.tail(279)"
   ]
  },
  {
   "cell_type": "markdown",
   "metadata": {
    "id": "GcZI_Rs2Y3Ak"
   },
   "source": [
    "##### Preprocess Dataset"
   ]
  },
  {
   "cell_type": "code",
   "execution_count": null,
   "metadata": {
    "colab": {
     "base_uri": "https://localhost:8080/",
     "height": 35
    },
    "id": "LxyDYuC3F1MG",
    "outputId": "922fe31b-d59e-4205-c9aa-4e9c3a6bce40"
   },
   "outputs": [
    {
     "name": "stdout",
     "output_type": "stream",
     "text": [
      "Found 1200 validated image filenames belonging to 30 classes.\n"
     ]
    }
   ],
   "source": [
    "#Training data with augmentation\n",
    "train_datagen = ImageDataGenerator(\n",
    "    rescale=1./255,\n",
    "    rotation_range=40,\n",
    "    width_shift_range=0.3,\n",
    "    height_shift_range=0.3,\n",
    "    horizontal_flip=True)\n",
    "# Data generator for training data\n",
    "train_generator = train_datagen.flow_from_dataframe(\n",
    "dataframe=train_df,\n",
    "x_col = \"image\",\n",
    "y_col = \"label\",\n",
    "directory=\"./jpg/\",\n",
    "class_mode = \"categorical\",\n",
    "target_size=(128, 128))"
   ]
  },
  {
   "cell_type": "code",
   "execution_count": null,
   "metadata": {
    "colab": {
     "base_uri": "https://localhost:8080/",
     "height": 35
    },
    "id": "YH-p-ZNaF4os",
    "outputId": "c1faa97c-c22b-4569-d2a4-ea2ca460569a"
   },
   "outputs": [
    {
     "name": "stdout",
     "output_type": "stream",
     "text": [
      "Found 279 validated image filenames belonging to 30 classes.\n"
     ]
    }
   ],
   "source": [
    "test_datagen = ImageDataGenerator(\n",
    "    rescale=1./255,\n",
    "    rotation_range=40,\n",
    "    width_shift_range=0.3,\n",
    "    height_shift_range=0.3,\n",
    "    horizontal_flip=True)\n",
    "# Data generator for test data\n",
    "test_generator = test_datagen.flow_from_dataframe(\n",
    "dataframe=test_df,\n",
    "x_col = \"image\",\n",
    "y_col = \"label\",\n",
    "directory=\"./jpg/\",\n",
    "class_mode = \"categorical\",\n",
    "target_size=(128, 128),\n",
    "shuffle=False)"
   ]
  },
  {
   "cell_type": "markdown",
   "metadata": {
    "id": "6AwXEedyZthO"
   },
   "source": [
    "##### Baseline"
   ]
  },
  {
   "cell_type": "code",
   "execution_count": null,
   "metadata": {
    "colab": {
     "base_uri": "https://localhost:8080/",
     "height": 580
    },
    "id": "N3sKXhNAGXTX",
    "outputId": "34fbd6b1-03d8-4b99-f3cc-f0c29fe72d7c"
   },
   "outputs": [
    {
     "name": "stdout",
     "output_type": "stream",
     "text": [
      "Distribution of testing target variable:\n",
      "24    6.451613\n",
      "28    5.376344\n",
      "23    5.376344\n",
      "6     5.376344\n",
      "18    4.659498\n",
      "25    4.301075\n",
      "14    4.301075\n",
      "22    3.942652\n",
      "17    3.942652\n",
      "13    3.942652\n",
      "10    3.942652\n",
      "12    3.584229\n",
      "19    3.584229\n",
      "26    3.584229\n",
      "27    3.584229\n",
      "7     3.584229\n",
      "20    3.225806\n",
      "3     3.225806\n",
      "21    3.225806\n",
      "29    3.225806\n",
      "4     2.867384\n",
      "2     2.508961\n",
      "11    2.508961\n",
      "9     2.150538\n",
      "15    1.792115\n",
      "8     1.792115\n",
      "5     1.792115\n",
      "16    1.075269\n",
      "30    0.716846\n",
      "1     0.358423\n",
      "Name: label, dtype: float64\n"
     ]
    }
   ],
   "source": [
    "\n",
    "print(\"Distribution of testing target variable:\")\n",
    "frequency = test_df['label'].value_counts(normalize =True)\n",
    "print(frequency*100)"
   ]
  },
  {
   "cell_type": "markdown",
   "metadata": {
    "id": "Re2b3UyYZxUn"
   },
   "source": [
    "##### Build Model"
   ]
  },
  {
   "cell_type": "code",
   "execution_count": null,
   "metadata": {
    "colab": {
     "base_uri": "https://localhost:8080/",
     "height": 791
    },
    "id": "XNq1NaAHG6bz",
    "outputId": "90574214-01ac-490a-c065-0098297bbc55"
   },
   "outputs": [
    {
     "name": "stdout",
     "output_type": "stream",
     "text": [
      "Model: \"sequential\"\n",
      "_________________________________________________________________\n",
      "Layer (type)                 Output Shape              Param #   \n",
      "=================================================================\n",
      "conv2d (Conv2D)              (None, 128, 128, 32)      896       \n",
      "_________________________________________________________________\n",
      "activation (Activation)      (None, 128, 128, 32)      0         \n",
      "_________________________________________________________________\n",
      "conv2d_1 (Conv2D)            (None, 126, 126, 32)      9248      \n",
      "_________________________________________________________________\n",
      "activation_1 (Activation)    (None, 126, 126, 32)      0         \n",
      "_________________________________________________________________\n",
      "max_pooling2d (MaxPooling2D) (None, 63, 63, 32)        0         \n",
      "_________________________________________________________________\n",
      "dropout (Dropout)            (None, 63, 63, 32)        0         \n",
      "_________________________________________________________________\n",
      "conv2d_2 (Conv2D)            (None, 63, 63, 32)        9248      \n",
      "_________________________________________________________________\n",
      "activation_2 (Activation)    (None, 63, 63, 32)        0         \n",
      "_________________________________________________________________\n",
      "conv2d_3 (Conv2D)            (None, 61, 61, 32)        9248      \n",
      "_________________________________________________________________\n",
      "activation_3 (Activation)    (None, 61, 61, 32)        0         \n",
      "_________________________________________________________________\n",
      "max_pooling2d_1 (MaxPooling2 (None, 30, 30, 32)        0         \n",
      "_________________________________________________________________\n",
      "dropout_1 (Dropout)          (None, 30, 30, 32)        0         \n",
      "_________________________________________________________________\n",
      "flatten (Flatten)            (None, 28800)             0         \n",
      "_________________________________________________________________\n",
      "dense (Dense)                (None, 512)               14746112  \n",
      "_________________________________________________________________\n",
      "activation_4 (Activation)    (None, 512)               0         \n",
      "_________________________________________________________________\n",
      "dropout_2 (Dropout)          (None, 512)               0         \n",
      "_________________________________________________________________\n",
      "dense_1 (Dense)              (None, 30)                15390     \n",
      "_________________________________________________________________\n",
      "activation_5 (Activation)    (None, 30)                0         \n",
      "=================================================================\n",
      "Total params: 14,790,142\n",
      "Trainable params: 14,790,142\n",
      "Non-trainable params: 0\n",
      "_________________________________________________________________\n"
     ]
    }
   ],
   "source": [
    "model = Sequential()\n",
    "model.add(Conv2D(32, (3, 3), padding='same', input_shape=(128, 128, 3)))\n",
    "model.add(Activation('relu'))\n",
    "model.add(Conv2D(32,(3, 3)))\n",
    "model.add(Activation('relu'))\n",
    "model.add(MaxPooling2D(pool_size=(2, 2)))\n",
    "model.add(Dropout(0.25))\n",
    " \n",
    "model.add(Conv2D(32, (3, 3), padding='same'))\n",
    "model.add(Activation('relu'))\n",
    "model.add(Conv2D(32, (3,3)))\n",
    "model.add(Activation('relu'))\n",
    "model.add(MaxPooling2D(pool_size=(2, 2)))\n",
    "model.add(Dropout(0.25))\n",
    " \n",
    "model.add(Flatten())\n",
    "model.add(Dense(512))\n",
    "model.add(Activation('relu'))\n",
    "model.add(Dropout(0.5))\n",
    "# Output classes are 30\n",
    "model.add(Dense(30))\n",
    "model.add(Activation('softmax'))\n",
    "model.summary()\n",
    "\n"
   ]
  },
  {
   "cell_type": "markdown",
   "metadata": {
    "id": "zm4I8oucZ2St"
   },
   "source": [
    "##### Fit Model"
   ]
  },
  {
   "cell_type": "code",
   "execution_count": null,
   "metadata": {
    "id": "81JiirUqIPHs"
   },
   "outputs": [],
   "source": [
    "## Compile\n",
    "model.compile(optimizer=tf.keras.optimizers.Adam(),\n",
    "              loss= 'categorical_crossentropy',\n",
    "              metrics=['accuracy'])\n",
    "\n"
   ]
  },
  {
   "cell_type": "code",
   "execution_count": null,
   "metadata": {
    "colab": {
     "base_uri": "https://localhost:8080/",
     "height": 1000
    },
    "id": "CEQTpesrKHJf",
    "outputId": "d13b4389-c5d7-4760-dcad-6e3562f35729"
   },
   "outputs": [
    {
     "name": "stdout",
     "output_type": "stream",
     "text": [
      "WARNING:tensorflow:From <ipython-input-13-6573404bae87>:4: Model.fit_generator (from tensorflow.python.keras.engine.training) is deprecated and will be removed in a future version.\n",
      "Instructions for updating:\n",
      "Please use Model.fit, which supports generators.\n",
      "Epoch 1/50\n",
      "38/38 [==============================] - 104s 3s/step - loss: 3.3523 - accuracy: 0.0700 - val_loss: 3.0179 - val_accuracy: 0.0824\n",
      "Epoch 2/50\n",
      "38/38 [==============================] - 100s 3s/step - loss: 2.9571 - accuracy: 0.1183 - val_loss: 2.7229 - val_accuracy: 0.1864\n",
      "Epoch 3/50\n",
      "38/38 [==============================] - 99s 3s/step - loss: 2.7099 - accuracy: 0.1442 - val_loss: 2.5767 - val_accuracy: 0.2294\n",
      "Epoch 4/50\n",
      "38/38 [==============================] - 108s 3s/step - loss: 2.5904 - accuracy: 0.1617 - val_loss: 2.5064 - val_accuracy: 0.1935\n",
      "Epoch 5/50\n",
      "38/38 [==============================] - 102s 3s/step - loss: 2.4724 - accuracy: 0.1975 - val_loss: 2.4764 - val_accuracy: 0.2151\n",
      "Epoch 6/50\n",
      "38/38 [==============================] - 99s 3s/step - loss: 2.4146 - accuracy: 0.2225 - val_loss: 2.3820 - val_accuracy: 0.2151\n",
      "Epoch 7/50\n",
      "38/38 [==============================] - 100s 3s/step - loss: 2.3574 - accuracy: 0.2133 - val_loss: 2.2518 - val_accuracy: 0.2724\n",
      "Epoch 8/50\n",
      "38/38 [==============================] - 103s 3s/step - loss: 2.3227 - accuracy: 0.2275 - val_loss: 2.2476 - val_accuracy: 0.3047\n",
      "Epoch 9/50\n",
      "38/38 [==============================] - 99s 3s/step - loss: 2.2585 - accuracy: 0.2625 - val_loss: 2.1195 - val_accuracy: 0.3333\n",
      "Epoch 10/50\n",
      "38/38 [==============================] - 103s 3s/step - loss: 2.1205 - accuracy: 0.2983 - val_loss: 2.1000 - val_accuracy: 0.3047\n",
      "Epoch 11/50\n",
      "38/38 [==============================] - 104s 3s/step - loss: 2.0366 - accuracy: 0.3267 - val_loss: 1.8747 - val_accuracy: 0.4301\n",
      "Epoch 12/50\n",
      "38/38 [==============================] - 99s 3s/step - loss: 1.8513 - accuracy: 0.3958 - val_loss: 1.6489 - val_accuracy: 0.5054\n",
      "Epoch 13/50\n",
      "38/38 [==============================] - 101s 3s/step - loss: 1.9109 - accuracy: 0.3842 - val_loss: 1.6953 - val_accuracy: 0.4659\n",
      "Epoch 14/50\n",
      "38/38 [==============================] - 105s 3s/step - loss: 1.7423 - accuracy: 0.4383 - val_loss: 1.5203 - val_accuracy: 0.5054\n",
      "Epoch 15/50\n",
      "38/38 [==============================] - 100s 3s/step - loss: 1.7163 - accuracy: 0.4392 - val_loss: 1.7244 - val_accuracy: 0.4409\n",
      "Epoch 16/50\n",
      "38/38 [==============================] - 104s 3s/step - loss: 1.6279 - accuracy: 0.4517 - val_loss: 1.4052 - val_accuracy: 0.5233\n",
      "Epoch 17/50\n",
      "38/38 [==============================] - 105s 3s/step - loss: 1.4171 - accuracy: 0.5083 - val_loss: 1.3596 - val_accuracy: 0.5269\n",
      "Epoch 18/50\n",
      "38/38 [==============================] - 99s 3s/step - loss: 1.4244 - accuracy: 0.5183 - val_loss: 1.4025 - val_accuracy: 0.5520\n",
      "Epoch 19/50\n",
      "38/38 [==============================] - 102s 3s/step - loss: 1.4571 - accuracy: 0.5033 - val_loss: 1.2990 - val_accuracy: 0.5986\n",
      "Epoch 20/50\n",
      "38/38 [==============================] - 103s 3s/step - loss: 1.3779 - accuracy: 0.5408 - val_loss: 1.2073 - val_accuracy: 0.5914\n",
      "Epoch 21/50\n",
      "38/38 [==============================] - 105s 3s/step - loss: 1.3298 - accuracy: 0.5567 - val_loss: 1.2777 - val_accuracy: 0.5878\n",
      "Epoch 22/50\n",
      "38/38 [==============================] - 101s 3s/step - loss: 1.3252 - accuracy: 0.5625 - val_loss: 1.3257 - val_accuracy: 0.5448\n",
      "Epoch 23/50\n",
      "38/38 [==============================] - 102s 3s/step - loss: 1.2910 - accuracy: 0.5608 - val_loss: 1.1771 - val_accuracy: 0.6165\n",
      "Epoch 24/50\n",
      "38/38 [==============================] - 101s 3s/step - loss: 1.2913 - accuracy: 0.5500 - val_loss: 1.1460 - val_accuracy: 0.6416\n",
      "Epoch 25/50\n",
      "38/38 [==============================] - 100s 3s/step - loss: 1.2343 - accuracy: 0.5675 - val_loss: 1.0928 - val_accuracy: 0.6165\n",
      "Epoch 26/50\n",
      "38/38 [==============================] - 104s 3s/step - loss: 1.1735 - accuracy: 0.5850 - val_loss: 1.0417 - val_accuracy: 0.6810\n",
      "Epoch 27/50\n",
      "38/38 [==============================] - 105s 3s/step - loss: 1.2163 - accuracy: 0.5900 - val_loss: 1.1686 - val_accuracy: 0.5950\n",
      "Epoch 28/50\n",
      "38/38 [==============================] - 101s 3s/step - loss: 1.1924 - accuracy: 0.5942 - val_loss: 1.1083 - val_accuracy: 0.6272\n",
      "Epoch 29/50\n",
      "38/38 [==============================] - 105s 3s/step - loss: 1.1379 - accuracy: 0.6000 - val_loss: 1.1077 - val_accuracy: 0.6416\n",
      "Epoch 30/50\n",
      "38/38 [==============================] - 102s 3s/step - loss: 1.0904 - accuracy: 0.6225 - val_loss: 1.0901 - val_accuracy: 0.6129\n",
      "Epoch 31/50\n",
      "38/38 [==============================] - 100s 3s/step - loss: 1.0428 - accuracy: 0.6442 - val_loss: 1.0111 - val_accuracy: 0.6631\n",
      "Epoch 32/50\n",
      "38/38 [==============================] - 105s 3s/step - loss: 1.0708 - accuracy: 0.6400 - val_loss: 0.9321 - val_accuracy: 0.7204\n",
      "Epoch 33/50\n",
      "38/38 [==============================] - 106s 3s/step - loss: 1.0938 - accuracy: 0.6233 - val_loss: 1.1584 - val_accuracy: 0.5986\n",
      "Epoch 34/50\n",
      "38/38 [==============================] - 100s 3s/step - loss: 1.1271 - accuracy: 0.6083 - val_loss: 0.9719 - val_accuracy: 0.6738\n",
      "Epoch 35/50\n",
      "38/38 [==============================] - 105s 3s/step - loss: 1.0020 - accuracy: 0.6575 - val_loss: 1.0995 - val_accuracy: 0.6667\n",
      "Epoch 36/50\n",
      "38/38 [==============================] - 102s 3s/step - loss: 1.0091 - accuracy: 0.6417 - val_loss: 1.0701 - val_accuracy: 0.6559\n",
      "Epoch 37/50\n",
      "38/38 [==============================] - 100s 3s/step - loss: 0.9639 - accuracy: 0.6850 - val_loss: 0.9310 - val_accuracy: 0.6703\n",
      "Epoch 38/50\n",
      "38/38 [==============================] - 105s 3s/step - loss: 0.9758 - accuracy: 0.6617 - val_loss: 0.9162 - val_accuracy: 0.6918\n",
      "Epoch 39/50\n",
      "38/38 [==============================] - 106s 3s/step - loss: 0.9298 - accuracy: 0.6683 - val_loss: 1.0163 - val_accuracy: 0.6953\n",
      "Epoch 40/50\n",
      "38/38 [==============================] - 100s 3s/step - loss: 0.9345 - accuracy: 0.6708 - val_loss: 0.9616 - val_accuracy: 0.6272\n",
      "Epoch 41/50\n",
      "38/38 [==============================] - 102s 3s/step - loss: 0.9400 - accuracy: 0.6717 - val_loss: 0.9480 - val_accuracy: 0.6595\n",
      "Epoch 42/50\n",
      "38/38 [==============================] - 104s 3s/step - loss: 0.9064 - accuracy: 0.6867 - val_loss: 0.8839 - val_accuracy: 0.7312\n",
      "Epoch 43/50\n",
      "38/38 [==============================] - 99s 3s/step - loss: 0.8635 - accuracy: 0.6825 - val_loss: 0.8879 - val_accuracy: 0.7276\n",
      "Epoch 44/50\n",
      "38/38 [==============================] - 99s 3s/step - loss: 0.8407 - accuracy: 0.7092 - val_loss: 0.8742 - val_accuracy: 0.6667\n",
      "Epoch 45/50\n",
      "38/38 [==============================] - 106s 3s/step - loss: 0.8294 - accuracy: 0.7158 - val_loss: 0.8240 - val_accuracy: 0.7061\n",
      "Epoch 46/50\n",
      "38/38 [==============================] - 100s 3s/step - loss: 0.8598 - accuracy: 0.7167 - val_loss: 0.9079 - val_accuracy: 0.7204\n",
      "Epoch 47/50\n",
      "38/38 [==============================] - 100s 3s/step - loss: 0.8606 - accuracy: 0.7042 - val_loss: 0.7913 - val_accuracy: 0.7276\n",
      "Epoch 48/50\n",
      "38/38 [==============================] - 111s 3s/step - loss: 0.8696 - accuracy: 0.6967 - val_loss: 0.8556 - val_accuracy: 0.7276\n",
      "Epoch 49/50\n",
      "38/38 [==============================] - 101s 3s/step - loss: 0.9156 - accuracy: 0.6750 - val_loss: 0.8349 - val_accuracy: 0.7204\n",
      "Epoch 50/50\n",
      "38/38 [==============================] - 104s 3s/step - loss: 0.8727 - accuracy: 0.7033 - val_loss: 0.8420 - val_accuracy: 0.7276\n"
     ]
    }
   ],
   "source": [
    "## Train Model\n",
    "history = model.fit_generator(train_generator,\n",
    "epochs=50,\n",
    "validation_data=test_generator,\n",
    "verbose=1)"
   ]
  },
  {
   "cell_type": "code",
   "execution_count": null,
   "metadata": {
    "colab": {
     "base_uri": "https://localhost:8080/",
     "height": 52
    },
    "id": "SinkLq6i3BYg",
    "outputId": "d2675c96-f8b9-47fc-dc60-c8b4ffb4a9ce"
   },
   "outputs": [
    {
     "name": "stdout",
     "output_type": "stream",
     "text": [
      "Minimum accuracy of Model:  0.07000000029802322\n",
      "Maximum accuracy of Model:  0.7166666388511658\n"
     ]
    }
   ],
   "source": [
    "print(\"Minimum accuracy of Model: \", min(history.history['accuracy']))\n",
    "print(\"Maximum accuracy of Model: \", max(history.history['accuracy']))"
   ]
  },
  {
   "cell_type": "code",
   "execution_count": null,
   "metadata": {
    "colab": {
     "base_uri": "https://localhost:8080/",
     "height": 52
    },
    "id": "VQtSLda5t_mO",
    "outputId": "39066f7f-181e-4d03-a730-1562374ce27a"
   },
   "outputs": [
    {
     "name": "stdout",
     "output_type": "stream",
     "text": [
      "Minimum accuracy of validation:  0.08243727684020996\n",
      "Maximum accuracy of validation:  0.7311828136444092\n"
     ]
    }
   ],
   "source": [
    "print(\"Minimum accuracy of validation: \", min(history.history['val_accuracy']))\n",
    "print(\"Maximum accuracy of validation: \", max(history.history['val_accuracy']))\n"
   ]
  },
  {
   "cell_type": "markdown",
   "metadata": {
    "id": "tyBCzHYxaCSj"
   },
   "source": [
    "##### Plot Results"
   ]
  },
  {
   "cell_type": "code",
   "execution_count": 19,
   "metadata": {
    "colab": {
     "base_uri": "https://localhost:8080/",
     "height": 283
    },
    "id": "G0BgdqvDuLRg",
    "outputId": "aaf0ae61-836f-4160-9636-8f5848382485"
   },
   "outputs": [
    {
     "data": {
      "image/png": "[encoded data removed]",
      "text/plain": [
       "<Figure size 432x288 with 1 Axes>"
      ]
     },
     "metadata": {
      "needs_background": "light",
      "tags": []
     },
     "output_type": "display_data"
    }
   ],
   "source": [
    "def plot_history(history):\n",
    "  plt.figure()\n",
    "  plt.xlabel('Epoch')\n",
    "  plt.ylabel('Accuracy')\n",
    "  plt.plot(history.epoch, np.array(history.history['accuracy']),\n",
    "           label='Train Accuracy')\n",
    "  plt.plot(history.epoch, np.array(history.history['val_accuracy']),\n",
    "           label = 'Validation Accuracy')\n",
    "  plt.legend()\n",
    "  plt.ylim([0, 1])\n",
    "\n",
    "plot_history(history)"
   ]
  },
  {
   "cell_type": "markdown",
   "metadata": {},
   "source": [
    "##### Classification Report "
   ]
  },
  {
   "cell_type": "code",
   "execution_count": null,
   "metadata": {
    "colab": {
     "base_uri": "https://localhost:8080/",
     "height": 723
    },
    "id": "oGb_OFyy8eun",
    "outputId": "4ce95a96-49af-4db6-c1a0-c4e58bd15f36"
   },
   "outputs": [
    {
     "name": "stdout",
     "output_type": "stream",
     "text": [
      "              precision    recall  f1-score   support\n",
      "\n",
      "           1       0.00      0.00      0.00         2\n",
      "          10       0.78      0.70      0.74        10\n",
      "          11       0.57      1.00      0.73         4\n",
      "          12       0.67      0.50      0.57         8\n",
      "          13       0.36      0.56      0.43         9\n",
      "          14       0.50      0.57      0.53         7\n",
      "          15       0.50      0.67      0.57         3\n",
      "          16       0.67      0.67      0.67         6\n",
      "          17       0.88      0.70      0.78        10\n",
      "          18       0.61      1.00      0.76        11\n",
      "          19       0.90      0.90      0.90        10\n",
      "           2       0.83      0.88      0.86        17\n",
      "          20       1.00      0.90      0.95        10\n",
      "          21       0.43      0.60      0.50         5\n",
      "          22       0.80      0.89      0.84         9\n",
      "          23       0.86      1.00      0.92        12\n",
      "          24       0.60      0.69      0.64        13\n",
      "          25       0.92      0.92      0.92        12\n",
      "          26       0.88      1.00      0.93         7\n",
      "          27       0.70      0.44      0.54        16\n",
      "          28       1.00      0.46      0.63        13\n",
      "          29       1.00      0.67      0.80        12\n",
      "           3       0.44      0.50      0.47         8\n",
      "          30       0.00      0.00      0.00         3\n",
      "           4       0.92      0.92      0.92        12\n",
      "           5       0.50      0.50      0.50        12\n",
      "           6       0.72      0.87      0.79        15\n",
      "           7       1.00      0.73      0.84        11\n",
      "           8       0.25      0.25      0.25         4\n",
      "           9       0.89      1.00      0.94         8\n",
      "\n",
      "    accuracy                           0.73       279\n",
      "   macro avg       0.67      0.68      0.66       279\n",
      "weighted avg       0.74      0.73      0.72       279\n",
      "\n"
     ]
    },
    {
     "name": "stderr",
     "output_type": "stream",
     "text": [
      "/usr/local/lib/python3.6/dist-packages/sklearn/metrics/_classification.py:1272: UndefinedMetricWarning: Precision and F-score are ill-defined and being set to 0.0 in labels with no predicted samples. Use `zero_division` parameter to control this behavior.\n",
      "  _warn_prf(average, modifier, msg_start, len(result))\n"
     ]
    }
   ],
   "source": [
    "import sklearn.metrics as metrics\n",
    "predictions = model.predict_generator(test_generator)\n",
    "# Get most likely class\n",
    "predicted_classes = numpy.argmax(predictions, axis=1)\n",
    "true_classes = test_generator.classes\n",
    "class_labels = list(test_generator.class_indices.keys()) \n",
    "report = metrics.classification_report(true_classes, predicted_classes, target_names=class_labels, zero_division='warn')\n",
    "print(report)"
   ]
  },
  {
   "cell_type": "markdown",
   "metadata": {},
   "source": [
    "##### Inference "
   ]
  },
  {
   "cell_type": "markdown",
   "metadata": {},
   "source": [
    "* CNN Classification Model for the Jena Flowers dataset with 30 classes of images. \n",
    "* The output activation function is Softmax, loss function is categorical_crossentropy and optimzer is Adam.\n",
    "* The baseline of the model is 6.4% and it is calculated using majority classification rule. \n",
    "* The model and validation accuracy is exceeding baseline accuracy. The maximum validation accuracy is 73.11%."
   ]
  }
 ],
 "metadata": {
  "colab": {
   "collapsed_sections": [],
   "name": "RajathaRavish_CNN.ipynb",
   "provenance": []
  },
  "kernelspec": {
   "display_name": "Python 3",
   "language": "python",
   "name": "python3"
  },
  "language_info": {
   "codemirror_mode": {
    "name": "ipython",
    "version": 3
   },
   "file_extension": ".py",
   "mimetype": "text/x-python",
   "name": "python",
   "nbconvert_exporter": "python",
   "pygments_lexer": "ipython3",
   "version": "3.7.3"
  }
 },
 "nbformat": 4,
 "nbformat_minor": 1
}
