{
 "cells": [
  {
   "cell_type": "markdown",
   "metadata": {},
   "source": [
    "### Import Libraries"
   ]
  },
  {
   "cell_type": "code",
   "execution_count": 1,
   "metadata": {},
   "outputs": [
    {
     "name": "stdout",
     "output_type": "stream",
     "text": [
      "2.3.0\n"
     ]
    }
   ],
   "source": [
    "%load_ext tensorboard\n",
    "from numpy.random import seed\n",
    "seed(2)\n",
    "import tensorflow as tf\n",
    "from tensorflow import keras\n",
    "from IPython import display\n",
    "from matplotlib import cm\n",
    "from matplotlib import gridspec\n",
    "from matplotlib import pyplot as plt\n",
    "import numpy as np\n",
    "import pandas as pd\n",
    "from tensorflow.python.data import Dataset\n",
    "from sklearn import preprocessing\n",
    "from sklearn.preprocessing import MinMaxScaler\n",
    "from sklearn.preprocessing import StandardScaler\n",
    "from numpy import loadtxt\n",
    "from keras.models import Sequential\n",
    "from keras.layers import Dense\n",
    "print(tf.__version__)"
   ]
  },
  {
   "cell_type": "markdown",
   "metadata": {},
   "source": [
    "### Import Data "
   ]
  },
  {
   "cell_type": "code",
   "execution_count": 2,
   "metadata": {},
   "outputs": [
    {
     "data": {
      "text/html": [
       "<div>\n",
       "<style scoped>\n",
       "    .dataframe tbody tr th:only-of-type {\n",
       "        vertical-align: middle;\n",
       "    }\n",
       "\n",
       "    .dataframe tbody tr th {\n",
       "        vertical-align: top;\n",
       "    }\n",
       "\n",
       "    .dataframe thead th {\n",
       "        text-align: right;\n",
       "    }\n",
       "</style>\n",
       "<table border=\"1\" class=\"dataframe\">\n",
       "  <thead>\n",
       "    <tr style=\"text-align: right;\">\n",
       "      <th></th>\n",
       "      <th>Unnamed: 0</th>\n",
       "      <th>Category</th>\n",
       "      <th>Age</th>\n",
       "      <th>Sex</th>\n",
       "      <th>ALB</th>\n",
       "      <th>ALP</th>\n",
       "      <th>ALT</th>\n",
       "      <th>AST</th>\n",
       "      <th>BIL</th>\n",
       "      <th>CHE</th>\n",
       "      <th>CHOL</th>\n",
       "      <th>CREA</th>\n",
       "      <th>GGT</th>\n",
       "      <th>PROT</th>\n",
       "    </tr>\n",
       "  </thead>\n",
       "  <tbody>\n",
       "    <tr>\n",
       "      <th>469</th>\n",
       "      <td>470</td>\n",
       "      <td>0=Blood Donor</td>\n",
       "      <td>52</td>\n",
       "      <td>f</td>\n",
       "      <td>51.5</td>\n",
       "      <td>81.8</td>\n",
       "      <td>26.3</td>\n",
       "      <td>20.6</td>\n",
       "      <td>7.8</td>\n",
       "      <td>6.7</td>\n",
       "      <td>5.9</td>\n",
       "      <td>88.0</td>\n",
       "      <td>16.3</td>\n",
       "      <td>82.2</td>\n",
       "    </tr>\n",
       "    <tr>\n",
       "      <th>592</th>\n",
       "      <td>593</td>\n",
       "      <td>3=Cirrhosis</td>\n",
       "      <td>47</td>\n",
       "      <td>m</td>\n",
       "      <td>42.0</td>\n",
       "      <td>nan</td>\n",
       "      <td>159.0</td>\n",
       "      <td>102.0</td>\n",
       "      <td>11.0</td>\n",
       "      <td>6.3</td>\n",
       "      <td>5.5</td>\n",
       "      <td>58.0</td>\n",
       "      <td>201.0</td>\n",
       "      <td>79.0</td>\n",
       "    </tr>\n",
       "    <tr>\n",
       "      <th>265</th>\n",
       "      <td>266</td>\n",
       "      <td>0=Blood Donor</td>\n",
       "      <td>58</td>\n",
       "      <td>m</td>\n",
       "      <td>41.3</td>\n",
       "      <td>58.9</td>\n",
       "      <td>12.8</td>\n",
       "      <td>23.4</td>\n",
       "      <td>5.4</td>\n",
       "      <td>8.2</td>\n",
       "      <td>5.7</td>\n",
       "      <td>60.0</td>\n",
       "      <td>10.8</td>\n",
       "      <td>70.1</td>\n",
       "    </tr>\n",
       "    <tr>\n",
       "      <th>84</th>\n",
       "      <td>85</td>\n",
       "      <td>0=Blood Donor</td>\n",
       "      <td>39</td>\n",
       "      <td>m</td>\n",
       "      <td>43.9</td>\n",
       "      <td>90.1</td>\n",
       "      <td>87.9</td>\n",
       "      <td>60.6</td>\n",
       "      <td>8.6</td>\n",
       "      <td>9.9</td>\n",
       "      <td>4.6</td>\n",
       "      <td>98.0</td>\n",
       "      <td>99.3</td>\n",
       "      <td>66.2</td>\n",
       "    </tr>\n",
       "    <tr>\n",
       "      <th>109</th>\n",
       "      <td>110</td>\n",
       "      <td>0=Blood Donor</td>\n",
       "      <td>42</td>\n",
       "      <td>m</td>\n",
       "      <td>44.1</td>\n",
       "      <td>46.8</td>\n",
       "      <td>23.8</td>\n",
       "      <td>19.4</td>\n",
       "      <td>7.0</td>\n",
       "      <td>10.8</td>\n",
       "      <td>6.3</td>\n",
       "      <td>95.0</td>\n",
       "      <td>19.7</td>\n",
       "      <td>73.0</td>\n",
       "    </tr>\n",
       "  </tbody>\n",
       "</table>\n",
       "</div>"
      ],
      "text/plain": [
       "     Unnamed: 0       Category  Age Sex  ALB  ALP   ALT   AST  BIL  CHE  CHOL  \\\n",
       "469         470  0=Blood Donor   52   f 51.5 81.8  26.3  20.6  7.8  6.7   5.9   \n",
       "592         593    3=Cirrhosis   47   m 42.0  nan 159.0 102.0 11.0  6.3   5.5   \n",
       "265         266  0=Blood Donor   58   m 41.3 58.9  12.8  23.4  5.4  8.2   5.7   \n",
       "84           85  0=Blood Donor   39   m 43.9 90.1  87.9  60.6  8.6  9.9   4.6   \n",
       "109         110  0=Blood Donor   42   m 44.1 46.8  23.8  19.4  7.0 10.8   6.3   \n",
       "\n",
       "     CREA   GGT  PROT  \n",
       "469  88.0  16.3  82.2  \n",
       "592  58.0 201.0  79.0  \n",
       "265  60.0  10.8  70.1  \n",
       "84   98.0  99.3  66.2  \n",
       "109  95.0  19.7  73.0  "
      ]
     },
     "execution_count": 2,
     "metadata": {},
     "output_type": "execute_result"
    }
   ],
   "source": [
    "pd.options.display.float_format = '{:.1f}'.format\n",
    "hcv_dataframe = pd.read_excel('hcv.xlsx','hcvdata')\n",
    "hcv_dataframe = hcv_dataframe.reindex(np.random.permutation(hcv_dataframe.index))\n",
    "hcv_dataframe.head()"
   ]
  },
  {
   "cell_type": "markdown",
   "metadata": {},
   "source": [
    "### Pre-Processing "
   ]
  },
  {
   "cell_type": "code",
   "execution_count": 3,
   "metadata": {},
   "outputs": [
    {
     "data": {
      "text/html": [
       "<div>\n",
       "<style scoped>\n",
       "    .dataframe tbody tr th:only-of-type {\n",
       "        vertical-align: middle;\n",
       "    }\n",
       "\n",
       "    .dataframe tbody tr th {\n",
       "        vertical-align: top;\n",
       "    }\n",
       "\n",
       "    .dataframe thead th {\n",
       "        text-align: right;\n",
       "    }\n",
       "</style>\n",
       "<table border=\"1\" class=\"dataframe\">\n",
       "  <thead>\n",
       "    <tr style=\"text-align: right;\">\n",
       "      <th></th>\n",
       "      <th>Age</th>\n",
       "      <th>Sex</th>\n",
       "      <th>ALB</th>\n",
       "      <th>ALP</th>\n",
       "      <th>ALT</th>\n",
       "      <th>AST</th>\n",
       "      <th>BIL</th>\n",
       "      <th>CHE</th>\n",
       "      <th>CHOL</th>\n",
       "      <th>CREA</th>\n",
       "      <th>GGT</th>\n",
       "      <th>PROT</th>\n",
       "    </tr>\n",
       "  </thead>\n",
       "  <tbody>\n",
       "    <tr>\n",
       "      <th>469</th>\n",
       "      <td>52</td>\n",
       "      <td>f</td>\n",
       "      <td>51.5</td>\n",
       "      <td>81.8</td>\n",
       "      <td>26.3</td>\n",
       "      <td>20.6</td>\n",
       "      <td>7.8</td>\n",
       "      <td>6.7</td>\n",
       "      <td>5.9</td>\n",
       "      <td>88.0</td>\n",
       "      <td>16.3</td>\n",
       "      <td>82.2</td>\n",
       "    </tr>\n",
       "    <tr>\n",
       "      <th>265</th>\n",
       "      <td>58</td>\n",
       "      <td>m</td>\n",
       "      <td>41.3</td>\n",
       "      <td>58.9</td>\n",
       "      <td>12.8</td>\n",
       "      <td>23.4</td>\n",
       "      <td>5.4</td>\n",
       "      <td>8.2</td>\n",
       "      <td>5.7</td>\n",
       "      <td>60.0</td>\n",
       "      <td>10.8</td>\n",
       "      <td>70.1</td>\n",
       "    </tr>\n",
       "    <tr>\n",
       "      <th>84</th>\n",
       "      <td>39</td>\n",
       "      <td>m</td>\n",
       "      <td>43.9</td>\n",
       "      <td>90.1</td>\n",
       "      <td>87.9</td>\n",
       "      <td>60.6</td>\n",
       "      <td>8.6</td>\n",
       "      <td>9.9</td>\n",
       "      <td>4.6</td>\n",
       "      <td>98.0</td>\n",
       "      <td>99.3</td>\n",
       "      <td>66.2</td>\n",
       "    </tr>\n",
       "    <tr>\n",
       "      <th>109</th>\n",
       "      <td>42</td>\n",
       "      <td>m</td>\n",
       "      <td>44.1</td>\n",
       "      <td>46.8</td>\n",
       "      <td>23.8</td>\n",
       "      <td>19.4</td>\n",
       "      <td>7.0</td>\n",
       "      <td>10.8</td>\n",
       "      <td>6.3</td>\n",
       "      <td>95.0</td>\n",
       "      <td>19.7</td>\n",
       "      <td>73.0</td>\n",
       "    </tr>\n",
       "    <tr>\n",
       "      <th>412</th>\n",
       "      <td>46</td>\n",
       "      <td>f</td>\n",
       "      <td>39.9</td>\n",
       "      <td>73.9</td>\n",
       "      <td>14.0</td>\n",
       "      <td>17.2</td>\n",
       "      <td>16.3</td>\n",
       "      <td>6.9</td>\n",
       "      <td>5.1</td>\n",
       "      <td>71.0</td>\n",
       "      <td>12.7</td>\n",
       "      <td>64.7</td>\n",
       "    </tr>\n",
       "  </tbody>\n",
       "</table>\n",
       "</div>"
      ],
      "text/plain": [
       "     Age Sex  ALB  ALP  ALT  AST  BIL  CHE  CHOL  CREA  GGT  PROT\n",
       "469   52   f 51.5 81.8 26.3 20.6  7.8  6.7   5.9  88.0 16.3  82.2\n",
       "265   58   m 41.3 58.9 12.8 23.4  5.4  8.2   5.7  60.0 10.8  70.1\n",
       "84    39   m 43.9 90.1 87.9 60.6  8.6  9.9   4.6  98.0 99.3  66.2\n",
       "109   42   m 44.1 46.8 23.8 19.4  7.0 10.8   6.3  95.0 19.7  73.0\n",
       "412   46   f 39.9 73.9 14.0 17.2 16.3  6.9   5.1  71.0 12.7  64.7"
      ]
     },
     "execution_count": 3,
     "metadata": {},
     "output_type": "execute_result"
    }
   ],
   "source": [
    "hcv_dataframe = hcv_dataframe.dropna(axis=0) \n",
    "selected_features = hcv_dataframe.drop(columns = ['Unnamed: 0','Category'])\n",
    "selected_features.head()"
   ]
  },
  {
   "cell_type": "code",
   "execution_count": 4,
   "metadata": {},
   "outputs": [
    {
     "data": {
      "text/plain": [
       "(589, 12)"
      ]
     },
     "execution_count": 4,
     "metadata": {},
     "output_type": "execute_result"
    }
   ],
   "source": [
    "selected_features.shape"
   ]
  },
  {
   "cell_type": "code",
   "execution_count": 5,
   "metadata": {},
   "outputs": [
    {
     "data": {
      "text/html": [
       "<div>\n",
       "<style scoped>\n",
       "    .dataframe tbody tr th:only-of-type {\n",
       "        vertical-align: middle;\n",
       "    }\n",
       "\n",
       "    .dataframe tbody tr th {\n",
       "        vertical-align: top;\n",
       "    }\n",
       "\n",
       "    .dataframe thead th {\n",
       "        text-align: right;\n",
       "    }\n",
       "</style>\n",
       "<table border=\"1\" class=\"dataframe\">\n",
       "  <thead>\n",
       "    <tr style=\"text-align: right;\">\n",
       "      <th></th>\n",
       "      <th>Age</th>\n",
       "      <th>Sex</th>\n",
       "      <th>ALB</th>\n",
       "      <th>ALP</th>\n",
       "      <th>ALT</th>\n",
       "      <th>AST</th>\n",
       "      <th>BIL</th>\n",
       "      <th>CHE</th>\n",
       "      <th>CHOL</th>\n",
       "      <th>CREA</th>\n",
       "      <th>GGT</th>\n",
       "      <th>PROT</th>\n",
       "    </tr>\n",
       "  </thead>\n",
       "  <tbody>\n",
       "    <tr>\n",
       "      <th>469</th>\n",
       "      <td>52</td>\n",
       "      <td>0</td>\n",
       "      <td>51.5</td>\n",
       "      <td>81.8</td>\n",
       "      <td>26.3</td>\n",
       "      <td>20.6</td>\n",
       "      <td>7.8</td>\n",
       "      <td>6.7</td>\n",
       "      <td>5.9</td>\n",
       "      <td>88.0</td>\n",
       "      <td>16.3</td>\n",
       "      <td>82.2</td>\n",
       "    </tr>\n",
       "    <tr>\n",
       "      <th>265</th>\n",
       "      <td>58</td>\n",
       "      <td>1</td>\n",
       "      <td>41.3</td>\n",
       "      <td>58.9</td>\n",
       "      <td>12.8</td>\n",
       "      <td>23.4</td>\n",
       "      <td>5.4</td>\n",
       "      <td>8.2</td>\n",
       "      <td>5.7</td>\n",
       "      <td>60.0</td>\n",
       "      <td>10.8</td>\n",
       "      <td>70.1</td>\n",
       "    </tr>\n",
       "    <tr>\n",
       "      <th>84</th>\n",
       "      <td>39</td>\n",
       "      <td>1</td>\n",
       "      <td>43.9</td>\n",
       "      <td>90.1</td>\n",
       "      <td>87.9</td>\n",
       "      <td>60.6</td>\n",
       "      <td>8.6</td>\n",
       "      <td>9.9</td>\n",
       "      <td>4.6</td>\n",
       "      <td>98.0</td>\n",
       "      <td>99.3</td>\n",
       "      <td>66.2</td>\n",
       "    </tr>\n",
       "    <tr>\n",
       "      <th>109</th>\n",
       "      <td>42</td>\n",
       "      <td>1</td>\n",
       "      <td>44.1</td>\n",
       "      <td>46.8</td>\n",
       "      <td>23.8</td>\n",
       "      <td>19.4</td>\n",
       "      <td>7.0</td>\n",
       "      <td>10.8</td>\n",
       "      <td>6.3</td>\n",
       "      <td>95.0</td>\n",
       "      <td>19.7</td>\n",
       "      <td>73.0</td>\n",
       "    </tr>\n",
       "    <tr>\n",
       "      <th>412</th>\n",
       "      <td>46</td>\n",
       "      <td>0</td>\n",
       "      <td>39.9</td>\n",
       "      <td>73.9</td>\n",
       "      <td>14.0</td>\n",
       "      <td>17.2</td>\n",
       "      <td>16.3</td>\n",
       "      <td>6.9</td>\n",
       "      <td>5.1</td>\n",
       "      <td>71.0</td>\n",
       "      <td>12.7</td>\n",
       "      <td>64.7</td>\n",
       "    </tr>\n",
       "  </tbody>\n",
       "</table>\n",
       "</div>"
      ],
      "text/plain": [
       "     Age  Sex  ALB  ALP  ALT  AST  BIL  CHE  CHOL  CREA  GGT  PROT\n",
       "469   52    0 51.5 81.8 26.3 20.6  7.8  6.7   5.9  88.0 16.3  82.2\n",
       "265   58    1 41.3 58.9 12.8 23.4  5.4  8.2   5.7  60.0 10.8  70.1\n",
       "84    39    1 43.9 90.1 87.9 60.6  8.6  9.9   4.6  98.0 99.3  66.2\n",
       "109   42    1 44.1 46.8 23.8 19.4  7.0 10.8   6.3  95.0 19.7  73.0\n",
       "412   46    0 39.9 73.9 14.0 17.2 16.3  6.9   5.1  71.0 12.7  64.7"
      ]
     },
     "execution_count": 5,
     "metadata": {},
     "output_type": "execute_result"
    }
   ],
   "source": [
    "selected_features['Sex'] = hcv_dataframe['Sex'].astype('category').cat.codes\n",
    "selected_features.head(5)"
   ]
  },
  {
   "cell_type": "code",
   "execution_count": 6,
   "metadata": {},
   "outputs": [
    {
     "data": {
      "text/plain": [
       "469    0\n",
       "265    0\n",
       "84     0\n",
       "109    0\n",
       "412    0\n",
       "dtype: int8"
      ]
     },
     "execution_count": 6,
     "metadata": {},
     "output_type": "execute_result"
    }
   ],
   "source": [
    "output_targets = hcv_dataframe['Category'].astype('category').cat.codes\n",
    "output_targets.head()"
   ]
  },
  {
   "cell_type": "markdown",
   "metadata": {},
   "source": [
    "### Train/Validation Split "
   ]
  },
  {
   "cell_type": "code",
   "execution_count": 7,
   "metadata": {},
   "outputs": [
    {
     "data": {
      "text/html": [
       "<div>\n",
       "<style scoped>\n",
       "    .dataframe tbody tr th:only-of-type {\n",
       "        vertical-align: middle;\n",
       "    }\n",
       "\n",
       "    .dataframe tbody tr th {\n",
       "        vertical-align: top;\n",
       "    }\n",
       "\n",
       "    .dataframe thead th {\n",
       "        text-align: right;\n",
       "    }\n",
       "</style>\n",
       "<table border=\"1\" class=\"dataframe\">\n",
       "  <thead>\n",
       "    <tr style=\"text-align: right;\">\n",
       "      <th></th>\n",
       "      <th>Age</th>\n",
       "      <th>Sex</th>\n",
       "      <th>ALB</th>\n",
       "      <th>ALP</th>\n",
       "      <th>ALT</th>\n",
       "      <th>AST</th>\n",
       "      <th>BIL</th>\n",
       "      <th>CHE</th>\n",
       "      <th>CHOL</th>\n",
       "      <th>CREA</th>\n",
       "      <th>GGT</th>\n",
       "      <th>PROT</th>\n",
       "    </tr>\n",
       "  </thead>\n",
       "  <tbody>\n",
       "    <tr>\n",
       "      <th>338</th>\n",
       "      <td>-1.3</td>\n",
       "      <td>-1.3</td>\n",
       "      <td>-0.9</td>\n",
       "      <td>0.1</td>\n",
       "      <td>-0.6</td>\n",
       "      <td>-0.4</td>\n",
       "      <td>-0.5</td>\n",
       "      <td>0.8</td>\n",
       "      <td>0.2</td>\n",
       "      <td>-0.3</td>\n",
       "      <td>-0.2</td>\n",
       "      <td>0.5</td>\n",
       "    </tr>\n",
       "    <tr>\n",
       "      <th>606</th>\n",
       "      <td>0.2</td>\n",
       "      <td>-1.3</td>\n",
       "      <td>-1.5</td>\n",
       "      <td>5.6</td>\n",
       "      <td>-1.2</td>\n",
       "      <td>0.1</td>\n",
       "      <td>-0.3</td>\n",
       "      <td>-0.6</td>\n",
       "      <td>-1.3</td>\n",
       "      <td>7.3</td>\n",
       "      <td>1.5</td>\n",
       "      <td>-2.4</td>\n",
       "    </tr>\n",
       "    <tr>\n",
       "      <th>389</th>\n",
       "      <td>-0.3</td>\n",
       "      <td>-1.3</td>\n",
       "      <td>0.7</td>\n",
       "      <td>-0.5</td>\n",
       "      <td>-0.3</td>\n",
       "      <td>-0.4</td>\n",
       "      <td>-0.5</td>\n",
       "      <td>1.0</td>\n",
       "      <td>1.2</td>\n",
       "      <td>-0.1</td>\n",
       "      <td>-0.3</td>\n",
       "      <td>0.5</td>\n",
       "    </tr>\n",
       "    <tr>\n",
       "      <th>60</th>\n",
       "      <td>-1.0</td>\n",
       "      <td>0.8</td>\n",
       "      <td>1.6</td>\n",
       "      <td>0.8</td>\n",
       "      <td>-0.4</td>\n",
       "      <td>-0.3</td>\n",
       "      <td>-0.0</td>\n",
       "      <td>0.2</td>\n",
       "      <td>1.1</td>\n",
       "      <td>0.2</td>\n",
       "      <td>-0.3</td>\n",
       "      <td>0.8</td>\n",
       "    </tr>\n",
       "    <tr>\n",
       "      <th>178</th>\n",
       "      <td>0.1</td>\n",
       "      <td>0.8</td>\n",
       "      <td>0.5</td>\n",
       "      <td>-0.5</td>\n",
       "      <td>-0.3</td>\n",
       "      <td>-0.3</td>\n",
       "      <td>0.5</td>\n",
       "      <td>-1.2</td>\n",
       "      <td>0.3</td>\n",
       "      <td>-0.1</td>\n",
       "      <td>-0.2</td>\n",
       "      <td>0.6</td>\n",
       "    </tr>\n",
       "    <tr>\n",
       "      <th>158</th>\n",
       "      <td>-0.1</td>\n",
       "      <td>0.8</td>\n",
       "      <td>-0.7</td>\n",
       "      <td>1.1</td>\n",
       "      <td>0.3</td>\n",
       "      <td>0.0</td>\n",
       "      <td>-0.6</td>\n",
       "      <td>0.7</td>\n",
       "      <td>1.2</td>\n",
       "      <td>-0.1</td>\n",
       "      <td>0.5</td>\n",
       "      <td>-0.3</td>\n",
       "    </tr>\n",
       "    <tr>\n",
       "      <th>356</th>\n",
       "      <td>-1.0</td>\n",
       "      <td>-1.3</td>\n",
       "      <td>-0.4</td>\n",
       "      <td>-0.4</td>\n",
       "      <td>-0.7</td>\n",
       "      <td>-0.4</td>\n",
       "      <td>-0.4</td>\n",
       "      <td>-1.0</td>\n",
       "      <td>0.4</td>\n",
       "      <td>-0.2</td>\n",
       "      <td>-0.5</td>\n",
       "      <td>-0.2</td>\n",
       "    </tr>\n",
       "    <tr>\n",
       "      <th>297</th>\n",
       "      <td>1.7</td>\n",
       "      <td>0.8</td>\n",
       "      <td>-0.1</td>\n",
       "      <td>0.6</td>\n",
       "      <td>0.0</td>\n",
       "      <td>-0.3</td>\n",
       "      <td>-0.1</td>\n",
       "      <td>-0.3</td>\n",
       "      <td>0.5</td>\n",
       "      <td>-0.1</td>\n",
       "      <td>-0.3</td>\n",
       "      <td>-0.6</td>\n",
       "    </tr>\n",
       "    <tr>\n",
       "      <th>452</th>\n",
       "      <td>0.4</td>\n",
       "      <td>-1.3</td>\n",
       "      <td>0.8</td>\n",
       "      <td>0.1</td>\n",
       "      <td>2.2</td>\n",
       "      <td>1.0</td>\n",
       "      <td>-0.3</td>\n",
       "      <td>-0.2</td>\n",
       "      <td>-0.5</td>\n",
       "      <td>-0.2</td>\n",
       "      <td>0.3</td>\n",
       "      <td>1.2</td>\n",
       "    </tr>\n",
       "    <tr>\n",
       "      <th>295</th>\n",
       "      <td>1.6</td>\n",
       "      <td>0.8</td>\n",
       "      <td>-1.1</td>\n",
       "      <td>0.2</td>\n",
       "      <td>0.0</td>\n",
       "      <td>-0.1</td>\n",
       "      <td>0.8</td>\n",
       "      <td>-0.1</td>\n",
       "      <td>1.0</td>\n",
       "      <td>0.2</td>\n",
       "      <td>-0.0</td>\n",
       "      <td>-0.6</td>\n",
       "    </tr>\n",
       "  </tbody>\n",
       "</table>\n",
       "</div>"
      ],
      "text/plain": [
       "     Age  Sex  ALB  ALP  ALT  AST  BIL  CHE  CHOL  CREA  GGT  PROT\n",
       "338 -1.3 -1.3 -0.9  0.1 -0.6 -0.4 -0.5  0.8   0.2  -0.3 -0.2   0.5\n",
       "606  0.2 -1.3 -1.5  5.6 -1.2  0.1 -0.3 -0.6  -1.3   7.3  1.5  -2.4\n",
       "389 -0.3 -1.3  0.7 -0.5 -0.3 -0.4 -0.5  1.0   1.2  -0.1 -0.3   0.5\n",
       "60  -1.0  0.8  1.6  0.8 -0.4 -0.3 -0.0  0.2   1.1   0.2 -0.3   0.8\n",
       "178  0.1  0.8  0.5 -0.5 -0.3 -0.3  0.5 -1.2   0.3  -0.1 -0.2   0.6\n",
       "158 -0.1  0.8 -0.7  1.1  0.3  0.0 -0.6  0.7   1.2  -0.1  0.5  -0.3\n",
       "356 -1.0 -1.3 -0.4 -0.4 -0.7 -0.4 -0.4 -1.0   0.4  -0.2 -0.5  -0.2\n",
       "297  1.7  0.8 -0.1  0.6  0.0 -0.3 -0.1 -0.3   0.5  -0.1 -0.3  -0.6\n",
       "452  0.4 -1.3  0.8  0.1  2.2  1.0 -0.3 -0.2  -0.5  -0.2  0.3   1.2\n",
       "295  1.6  0.8 -1.1  0.2  0.0 -0.1  0.8 -0.1   1.0   0.2 -0.0  -0.6"
      ]
     },
     "execution_count": 7,
     "metadata": {},
     "output_type": "execute_result"
    }
   ],
   "source": [
    "#examples for validation data\n",
    "training_examples = selected_features.tail(489)\n",
    "training_targets = output_targets.tail(489)\n",
    "\n",
    "# Normalize the training data\n",
    "scaler = StandardScaler().fit(training_examples.values)\n",
    "scaledf = scaler.transform(training_examples.values)\n",
    "training_examples = pd.DataFrame(scaledf, index=training_examples.index, columns=training_examples.columns)\n",
    "\n",
    "\n",
    "#  examples for validation.\n",
    "validation_examples = selected_features.head(100)\n",
    "validation_targets = output_targets.head(100)\n",
    "\n",
    "# Normalize the validation data\n",
    "scaler = StandardScaler().fit(validation_examples.values)\n",
    "scaledf = scaler.transform(validation_examples.values)\n",
    "validation_examples = pd.DataFrame(scaledf, index=validation_examples.index, columns=validation_examples.columns)\n",
    "\n",
    "training_examples.head(10)"
   ]
  },
  {
   "cell_type": "markdown",
   "metadata": {},
   "source": [
    "### Check Baseline"
   ]
  },
  {
   "cell_type": "code",
   "execution_count": 8,
   "metadata": {},
   "outputs": [
    {
     "name": "stdout",
     "output_type": "stream",
     "text": [
      "check the distribution of training target:\n",
      "0   89.0\n",
      "4    3.7\n",
      "2    3.5\n",
      "3    2.5\n",
      "1    1.4\n",
      "dtype: float64\n",
      "check the distribution of validation target:\n",
      "0   91.0\n",
      "4    6.0\n",
      "2    3.0\n",
      "dtype: float64\n"
     ]
    }
   ],
   "source": [
    "print(\"check the distribution of training target:\")\n",
    "frequency = training_targets.value_counts(normalize =True)\n",
    "print(frequency * 100)\n",
    "\n",
    "print(\"check the distribution of validation target:\")\n",
    "frequency = validation_targets.value_counts(normalize =True)\n",
    "print(frequency * 100)\n"
   ]
  },
  {
   "cell_type": "markdown",
   "metadata": {},
   "source": [
    "### Build Model "
   ]
  },
  {
   "cell_type": "code",
   "execution_count": 44,
   "metadata": {},
   "outputs": [
    {
     "name": "stdout",
     "output_type": "stream",
     "text": [
      "Model: \"sequential_6\"\n",
      "_________________________________________________________________\n",
      "Layer (type)                 Output Shape              Param #   \n",
      "=================================================================\n",
      "dense_19 (Dense)             (None, 12)                156       \n",
      "_________________________________________________________________\n",
      "dense_20 (Dense)             (None, 8)                 104       \n",
      "_________________________________________________________________\n",
      "dense_21 (Dense)             (None, 5)                 45        \n",
      "=================================================================\n",
      "Total params: 305\n",
      "Trainable params: 305\n",
      "Non-trainable params: 0\n",
      "_________________________________________________________________\n"
     ]
    }
   ],
   "source": [
    "baseline_model = keras.Sequential([\n",
    "    keras.layers.Dense(12, activation=tf.nn.relu,\n",
    "                       input_shape=(training_examples.shape[1],)),\n",
    "    #keras.layers.Dropout(0.2),\n",
    "    keras.layers.Dense(8, activation=tf.nn.relu),\n",
    "    #keras.layers.Dropout(0.2),\n",
    "    keras.layers.Dense(5, activation=tf.nn.softmax)\n",
    "\n",
    "  ])\n",
    "\n",
    "\n",
    "baseline_model.compile(loss='sparse_categorical_crossentropy',\n",
    "                optimizer=\"adam\",\n",
    "                metrics=['sparse_categorical_accuracy'])\n",
    "baseline_model.summary()\n",
    "\n"
   ]
  },
  {
   "cell_type": "markdown",
   "metadata": {},
   "source": [
    "### Fit Model"
   ]
  },
  {
   "cell_type": "code",
   "execution_count": 45,
   "metadata": {},
   "outputs": [
    {
     "name": "stdout",
     "output_type": "stream",
     "text": [
      "Epoch 1/60\n",
      "16/16 [==============================] - 0s 10ms/step - loss: 1.7298 - sparse_categorical_accuracy: 0.1636 - val_loss: 1.6735 - val_sparse_categorical_accuracy: 0.1500\n",
      "Epoch 2/60\n",
      "16/16 [==============================] - 0s 2ms/step - loss: 1.5763 - sparse_categorical_accuracy: 0.3661 - val_loss: 1.5227 - val_sparse_categorical_accuracy: 0.4200\n",
      "Epoch 3/60\n",
      "16/16 [==============================] - 0s 2ms/step - loss: 1.4341 - sparse_categorical_accuracy: 0.6012 - val_loss: 1.3794 - val_sparse_categorical_accuracy: 0.6800\n",
      "Epoch 4/60\n",
      "16/16 [==============================] - 0s 3ms/step - loss: 1.2967 - sparse_categorical_accuracy: 0.7485 - val_loss: 1.2370 - val_sparse_categorical_accuracy: 0.8200\n",
      "Epoch 5/60\n",
      "16/16 [==============================] - 0s 3ms/step - loss: 1.1598 - sparse_categorical_accuracy: 0.8282 - val_loss: 1.0993 - val_sparse_categorical_accuracy: 0.8600\n",
      "Epoch 6/60\n",
      "16/16 [==============================] - 0s 4ms/step - loss: 1.0352 - sparse_categorical_accuracy: 0.8712 - val_loss: 0.9702 - val_sparse_categorical_accuracy: 0.8900\n",
      "Epoch 7/60\n",
      "16/16 [==============================] - 0s 3ms/step - loss: 0.9190 - sparse_categorical_accuracy: 0.8896 - val_loss: 0.8567 - val_sparse_categorical_accuracy: 0.9000\n",
      "Epoch 8/60\n",
      "16/16 [==============================] - 0s 3ms/step - loss: 0.8198 - sparse_categorical_accuracy: 0.8937 - val_loss: 0.7578 - val_sparse_categorical_accuracy: 0.9100\n",
      "Epoch 9/60\n",
      "16/16 [==============================] - 0s 2ms/step - loss: 0.7385 - sparse_categorical_accuracy: 0.8916 - val_loss: 0.6726 - val_sparse_categorical_accuracy: 0.9100\n",
      "Epoch 10/60\n",
      "16/16 [==============================] - 0s 4ms/step - loss: 0.6697 - sparse_categorical_accuracy: 0.8937 - val_loss: 0.6028 - val_sparse_categorical_accuracy: 0.9100\n",
      "Epoch 11/60\n",
      "16/16 [==============================] - 0s 2ms/step - loss: 0.6118 - sparse_categorical_accuracy: 0.8916 - val_loss: 0.5456 - val_sparse_categorical_accuracy: 0.9100\n",
      "Epoch 12/60\n",
      "16/16 [==============================] - 0s 4ms/step - loss: 0.5644 - sparse_categorical_accuracy: 0.8916 - val_loss: 0.4977 - val_sparse_categorical_accuracy: 0.9100\n",
      "Epoch 13/60\n",
      "16/16 [==============================] - 0s 4ms/step - loss: 0.5247 - sparse_categorical_accuracy: 0.8937 - val_loss: 0.4557 - val_sparse_categorical_accuracy: 0.9100\n",
      "Epoch 14/60\n",
      "16/16 [==============================] - 0s 2ms/step - loss: 0.4905 - sparse_categorical_accuracy: 0.8978 - val_loss: 0.4205 - val_sparse_categorical_accuracy: 0.9100\n",
      "Epoch 15/60\n",
      "16/16 [==============================] - 0s 2ms/step - loss: 0.4615 - sparse_categorical_accuracy: 0.8998 - val_loss: 0.3914 - val_sparse_categorical_accuracy: 0.9200\n",
      "Epoch 16/60\n",
      "16/16 [==============================] - 0s 4ms/step - loss: 0.4376 - sparse_categorical_accuracy: 0.8998 - val_loss: 0.3647 - val_sparse_categorical_accuracy: 0.9200\n",
      "Epoch 17/60\n",
      "16/16 [==============================] - 0s 2ms/step - loss: 0.4161 - sparse_categorical_accuracy: 0.9100 - val_loss: 0.3438 - val_sparse_categorical_accuracy: 0.9200\n",
      "Epoch 18/60\n",
      "16/16 [==============================] - 0s 3ms/step - loss: 0.3979 - sparse_categorical_accuracy: 0.9100 - val_loss: 0.3259 - val_sparse_categorical_accuracy: 0.9200\n",
      "Epoch 19/60\n",
      "16/16 [==============================] - 0s 4ms/step - loss: 0.3828 - sparse_categorical_accuracy: 0.9080 - val_loss: 0.3084 - val_sparse_categorical_accuracy: 0.9200\n",
      "Epoch 20/60\n",
      "16/16 [==============================] - 0s 3ms/step - loss: 0.3690 - sparse_categorical_accuracy: 0.9121 - val_loss: 0.2944 - val_sparse_categorical_accuracy: 0.9400\n",
      "Epoch 21/60\n",
      "16/16 [==============================] - 0s 2ms/step - loss: 0.3568 - sparse_categorical_accuracy: 0.9202 - val_loss: 0.2799 - val_sparse_categorical_accuracy: 0.9400\n",
      "Epoch 22/60\n",
      "16/16 [==============================] - 0s 3ms/step - loss: 0.3457 - sparse_categorical_accuracy: 0.9202 - val_loss: 0.2670 - val_sparse_categorical_accuracy: 0.9400\n",
      "Epoch 23/60\n",
      "16/16 [==============================] - 0s 2ms/step - loss: 0.3348 - sparse_categorical_accuracy: 0.9223 - val_loss: 0.2539 - val_sparse_categorical_accuracy: 0.9400\n",
      "Epoch 24/60\n",
      "16/16 [==============================] - 0s 2ms/step - loss: 0.3254 - sparse_categorical_accuracy: 0.9202 - val_loss: 0.2414 - val_sparse_categorical_accuracy: 0.9400\n",
      "Epoch 25/60\n",
      "16/16 [==============================] - 0s 2ms/step - loss: 0.3165 - sparse_categorical_accuracy: 0.9202 - val_loss: 0.2313 - val_sparse_categorical_accuracy: 0.9400\n",
      "Epoch 26/60\n",
      "16/16 [==============================] - 0s 3ms/step - loss: 0.3089 - sparse_categorical_accuracy: 0.9264 - val_loss: 0.2229 - val_sparse_categorical_accuracy: 0.9500\n",
      "Epoch 27/60\n",
      "16/16 [==============================] - 0s 3ms/step - loss: 0.3020 - sparse_categorical_accuracy: 0.9243 - val_loss: 0.2147 - val_sparse_categorical_accuracy: 0.9500\n",
      "Epoch 28/60\n",
      "16/16 [==============================] - 0s 2ms/step - loss: 0.2949 - sparse_categorical_accuracy: 0.9264 - val_loss: 0.2078 - val_sparse_categorical_accuracy: 0.9500\n",
      "Epoch 29/60\n",
      "16/16 [==============================] - 0s 2ms/step - loss: 0.2885 - sparse_categorical_accuracy: 0.9243 - val_loss: 0.2025 - val_sparse_categorical_accuracy: 0.9500\n",
      "Epoch 30/60\n",
      "16/16 [==============================] - 0s 2ms/step - loss: 0.2828 - sparse_categorical_accuracy: 0.9264 - val_loss: 0.1966 - val_sparse_categorical_accuracy: 0.9500\n",
      "Epoch 31/60\n",
      "16/16 [==============================] - 0s 3ms/step - loss: 0.2769 - sparse_categorical_accuracy: 0.9305 - val_loss: 0.1904 - val_sparse_categorical_accuracy: 0.9600\n",
      "Epoch 32/60\n",
      "16/16 [==============================] - 0s 2ms/step - loss: 0.2710 - sparse_categorical_accuracy: 0.9305 - val_loss: 0.1850 - val_sparse_categorical_accuracy: 0.9600\n",
      "Epoch 33/60\n",
      "16/16 [==============================] - 0s 4ms/step - loss: 0.2659 - sparse_categorical_accuracy: 0.9325 - val_loss: 0.1796 - val_sparse_categorical_accuracy: 0.9600\n",
      "Epoch 34/60\n",
      "16/16 [==============================] - 0s 3ms/step - loss: 0.2604 - sparse_categorical_accuracy: 0.9325 - val_loss: 0.1763 - val_sparse_categorical_accuracy: 0.9600\n",
      "Epoch 35/60\n",
      "16/16 [==============================] - 0s 2ms/step - loss: 0.2554 - sparse_categorical_accuracy: 0.9325 - val_loss: 0.1720 - val_sparse_categorical_accuracy: 0.9600\n",
      "Epoch 36/60\n",
      "16/16 [==============================] - 0s 2ms/step - loss: 0.2510 - sparse_categorical_accuracy: 0.9346 - val_loss: 0.1684 - val_sparse_categorical_accuracy: 0.9600\n",
      "Epoch 37/60\n",
      "16/16 [==============================] - 0s 3ms/step - loss: 0.2468 - sparse_categorical_accuracy: 0.9346 - val_loss: 0.1657 - val_sparse_categorical_accuracy: 0.9600\n",
      "Epoch 38/60\n",
      "16/16 [==============================] - 0s 2ms/step - loss: 0.2425 - sparse_categorical_accuracy: 0.9346 - val_loss: 0.1612 - val_sparse_categorical_accuracy: 0.9600\n",
      "Epoch 39/60\n",
      "16/16 [==============================] - 0s 2ms/step - loss: 0.2382 - sparse_categorical_accuracy: 0.9366 - val_loss: 0.1599 - val_sparse_categorical_accuracy: 0.9600\n",
      "Epoch 40/60\n",
      "16/16 [==============================] - 0s 5ms/step - loss: 0.2340 - sparse_categorical_accuracy: 0.9366 - val_loss: 0.1559 - val_sparse_categorical_accuracy: 0.9600\n",
      "Epoch 41/60\n",
      "16/16 [==============================] - 0s 4ms/step - loss: 0.2301 - sparse_categorical_accuracy: 0.9366 - val_loss: 0.1531 - val_sparse_categorical_accuracy: 0.9600\n",
      "Epoch 42/60\n",
      "16/16 [==============================] - 0s 3ms/step - loss: 0.2260 - sparse_categorical_accuracy: 0.9366 - val_loss: 0.1498 - val_sparse_categorical_accuracy: 0.9600\n",
      "Epoch 43/60\n",
      "16/16 [==============================] - 0s 3ms/step - loss: 0.2219 - sparse_categorical_accuracy: 0.9366 - val_loss: 0.1475 - val_sparse_categorical_accuracy: 0.9600\n",
      "Epoch 44/60\n",
      "16/16 [==============================] - 0s 3ms/step - loss: 0.2181 - sparse_categorical_accuracy: 0.9366 - val_loss: 0.1458 - val_sparse_categorical_accuracy: 0.9600\n",
      "Epoch 45/60\n",
      "16/16 [==============================] - 0s 4ms/step - loss: 0.2145 - sparse_categorical_accuracy: 0.9366 - val_loss: 0.1424 - val_sparse_categorical_accuracy: 0.9600\n",
      "Epoch 46/60\n",
      "16/16 [==============================] - 0s 4ms/step - loss: 0.2105 - sparse_categorical_accuracy: 0.9366 - val_loss: 0.1410 - val_sparse_categorical_accuracy: 0.9600\n"
     ]
    },
    {
     "name": "stdout",
     "output_type": "stream",
     "text": [
      "Epoch 47/60\n",
      "16/16 [==============================] - 0s 4ms/step - loss: 0.2070 - sparse_categorical_accuracy: 0.9366 - val_loss: 0.1391 - val_sparse_categorical_accuracy: 0.9600\n",
      "Epoch 48/60\n",
      "16/16 [==============================] - 0s 6ms/step - loss: 0.2034 - sparse_categorical_accuracy: 0.9366 - val_loss: 0.1377 - val_sparse_categorical_accuracy: 0.9600\n",
      "Epoch 49/60\n",
      "16/16 [==============================] - 0s 5ms/step - loss: 0.1998 - sparse_categorical_accuracy: 0.9366 - val_loss: 0.1345 - val_sparse_categorical_accuracy: 0.9600\n",
      "Epoch 50/60\n",
      "16/16 [==============================] - 0s 4ms/step - loss: 0.1965 - sparse_categorical_accuracy: 0.9366 - val_loss: 0.1315 - val_sparse_categorical_accuracy: 0.9600\n",
      "Epoch 51/60\n",
      "16/16 [==============================] - 0s 4ms/step - loss: 0.1933 - sparse_categorical_accuracy: 0.9387 - val_loss: 0.1308 - val_sparse_categorical_accuracy: 0.9600\n",
      "Epoch 52/60\n",
      "16/16 [==============================] - 0s 6ms/step - loss: 0.1904 - sparse_categorical_accuracy: 0.9387 - val_loss: 0.1302 - val_sparse_categorical_accuracy: 0.9600\n",
      "Epoch 53/60\n",
      "16/16 [==============================] - 0s 7ms/step - loss: 0.1874 - sparse_categorical_accuracy: 0.9387 - val_loss: 0.1282 - val_sparse_categorical_accuracy: 0.9600\n",
      "Epoch 54/60\n",
      "16/16 [==============================] - 0s 5ms/step - loss: 0.1846 - sparse_categorical_accuracy: 0.9387 - val_loss: 0.1263 - val_sparse_categorical_accuracy: 0.9600\n",
      "Epoch 55/60\n",
      "16/16 [==============================] - 0s 5ms/step - loss: 0.1818 - sparse_categorical_accuracy: 0.9387 - val_loss: 0.1258 - val_sparse_categorical_accuracy: 0.9600\n",
      "Epoch 56/60\n",
      "16/16 [==============================] - 0s 3ms/step - loss: 0.1792 - sparse_categorical_accuracy: 0.9407 - val_loss: 0.1264 - val_sparse_categorical_accuracy: 0.9600\n",
      "Epoch 57/60\n",
      "16/16 [==============================] - 0s 4ms/step - loss: 0.1769 - sparse_categorical_accuracy: 0.9407 - val_loss: 0.1252 - val_sparse_categorical_accuracy: 0.9600\n",
      "Epoch 58/60\n",
      "16/16 [==============================] - 0s 4ms/step - loss: 0.1739 - sparse_categorical_accuracy: 0.9407 - val_loss: 0.1253 - val_sparse_categorical_accuracy: 0.9600\n",
      "Epoch 59/60\n",
      "16/16 [==============================] - 0s 4ms/step - loss: 0.1716 - sparse_categorical_accuracy: 0.9407 - val_loss: 0.1258 - val_sparse_categorical_accuracy: 0.9600\n",
      "Epoch 60/60\n",
      "16/16 [==============================] - 0s 4ms/step - loss: 0.1695 - sparse_categorical_accuracy: 0.9407 - val_loss: 0.1244 - val_sparse_categorical_accuracy: 0.9600\n"
     ]
    }
   ],
   "source": [
    "from keras.callbacks import EarlyStopping\n",
    "EPOCHS = 60\n",
    "early_stopping_monitor = EarlyStopping(monitor = 'val_loss',patience=3)\n",
    "b_history = baseline_model.fit(training_examples, training_targets, epochs=EPOCHS,\n",
    "                    validation_data= (validation_examples, validation_targets), verbose=1,\n",
    "                    callbacks=[early_stopping_monitor])"
   ]
  },
  {
   "cell_type": "markdown",
   "metadata": {},
   "source": [
    "### Check minimum and maximum validation accuracy"
   ]
  },
  {
   "cell_type": "code",
   "execution_count": 46,
   "metadata": {},
   "outputs": [
    {
     "name": "stdout",
     "output_type": "stream",
     "text": [
      "Minimum accuracy of validation:  0.15000000596046448\n",
      "Maximum accuracy of validation:  0.9599999785423279\n"
     ]
    }
   ],
   "source": [
    "print(\"Minimum accuracy of validation: \", min(b_history.history['val_sparse_categorical_accuracy']))\n",
    "print(\"Maximum accuracy of validation: \", max(b_history.history['val_sparse_categorical_accuracy']))"
   ]
  },
  {
   "cell_type": "markdown",
   "metadata": {},
   "source": [
    "### Check minimum and maximum accuracy"
   ]
  },
  {
   "cell_type": "code",
   "execution_count": 47,
   "metadata": {},
   "outputs": [
    {
     "name": "stdout",
     "output_type": "stream",
     "text": [
      "Minimum accuracy of Model:  0.1635991781949997\n",
      "Maximum accuracy of Model:  0.9406952857971191\n"
     ]
    }
   ],
   "source": [
    "print(\"Minimum accuracy of Model: \", min(b_history.history['sparse_categorical_accuracy']))\n",
    "print(\"Maximum accuracy of Model: \", max(b_history.history['sparse_categorical_accuracy']))"
   ]
  },
  {
   "cell_type": "code",
   "execution_count": 48,
   "metadata": {},
   "outputs": [
    {
     "data": {
      "text/html": [
       "<div>\n",
       "<style scoped>\n",
       "    .dataframe tbody tr th:only-of-type {\n",
       "        vertical-align: middle;\n",
       "    }\n",
       "\n",
       "    .dataframe tbody tr th {\n",
       "        vertical-align: top;\n",
       "    }\n",
       "\n",
       "    .dataframe thead th {\n",
       "        text-align: right;\n",
       "    }\n",
       "</style>\n",
       "<table border=\"1\" class=\"dataframe\">\n",
       "  <thead>\n",
       "    <tr style=\"text-align: right;\">\n",
       "      <th></th>\n",
       "      <th>Age</th>\n",
       "      <th>Sex</th>\n",
       "      <th>ALB</th>\n",
       "      <th>ALP</th>\n",
       "      <th>ALT</th>\n",
       "      <th>AST</th>\n",
       "      <th>BIL</th>\n",
       "      <th>CHE</th>\n",
       "      <th>CHOL</th>\n",
       "      <th>CREA</th>\n",
       "      <th>GGT</th>\n",
       "      <th>PROT</th>\n",
       "    </tr>\n",
       "  </thead>\n",
       "  <tbody>\n",
       "    <tr>\n",
       "      <th>265</th>\n",
       "      <td>1.2</td>\n",
       "      <td>0.8</td>\n",
       "      <td>-0.0</td>\n",
       "      <td>-0.3</td>\n",
       "      <td>-0.8</td>\n",
       "      <td>-0.4</td>\n",
       "      <td>-0.3</td>\n",
       "      <td>-0.1</td>\n",
       "      <td>-0.0</td>\n",
       "      <td>-1.3</td>\n",
       "      <td>-0.4</td>\n",
       "      <td>-0.5</td>\n",
       "    </tr>\n",
       "    <tr>\n",
       "      <th>84</th>\n",
       "      <td>-1.0</td>\n",
       "      <td>0.8</td>\n",
       "      <td>0.5</td>\n",
       "      <td>0.5</td>\n",
       "      <td>4.3</td>\n",
       "      <td>1.4</td>\n",
       "      <td>-0.2</td>\n",
       "      <td>0.7</td>\n",
       "      <td>-1.0</td>\n",
       "      <td>1.4</td>\n",
       "      <td>0.8</td>\n",
       "      <td>-1.4</td>\n",
       "    </tr>\n",
       "    <tr>\n",
       "      <th>109</th>\n",
       "      <td>-0.6</td>\n",
       "      <td>0.8</td>\n",
       "      <td>0.5</td>\n",
       "      <td>-0.6</td>\n",
       "      <td>-0.1</td>\n",
       "      <td>-0.5</td>\n",
       "      <td>-0.2</td>\n",
       "      <td>1.0</td>\n",
       "      <td>0.5</td>\n",
       "      <td>1.1</td>\n",
       "      <td>-0.3</td>\n",
       "      <td>0.1</td>\n",
       "    </tr>\n",
       "    <tr>\n",
       "      <th>412</th>\n",
       "      <td>-0.2</td>\n",
       "      <td>-1.3</td>\n",
       "      <td>-0.3</td>\n",
       "      <td>0.1</td>\n",
       "      <td>-0.8</td>\n",
       "      <td>-0.6</td>\n",
       "      <td>0.1</td>\n",
       "      <td>-0.6</td>\n",
       "      <td>-0.6</td>\n",
       "      <td>-0.5</td>\n",
       "      <td>-0.4</td>\n",
       "      <td>-1.7</td>\n",
       "    </tr>\n",
       "    <tr>\n",
       "      <th>486</th>\n",
       "      <td>0.7</td>\n",
       "      <td>-1.3</td>\n",
       "      <td>0.4</td>\n",
       "      <td>0.2</td>\n",
       "      <td>-0.3</td>\n",
       "      <td>-0.4</td>\n",
       "      <td>-0.2</td>\n",
       "      <td>-0.2</td>\n",
       "      <td>1.0</td>\n",
       "      <td>-0.8</td>\n",
       "      <td>-0.3</td>\n",
       "      <td>0.2</td>\n",
       "    </tr>\n",
       "    <tr>\n",
       "      <th>212</th>\n",
       "      <td>0.4</td>\n",
       "      <td>0.8</td>\n",
       "      <td>1.9</td>\n",
       "      <td>-0.4</td>\n",
       "      <td>0.6</td>\n",
       "      <td>0.1</td>\n",
       "      <td>-0.3</td>\n",
       "      <td>1.3</td>\n",
       "      <td>0.2</td>\n",
       "      <td>1.0</td>\n",
       "      <td>-0.2</td>\n",
       "      <td>1.8</td>\n",
       "    </tr>\n",
       "    <tr>\n",
       "      <th>414</th>\n",
       "      <td>-0.2</td>\n",
       "      <td>-1.3</td>\n",
       "      <td>-0.1</td>\n",
       "      <td>-0.6</td>\n",
       "      <td>-0.3</td>\n",
       "      <td>-0.6</td>\n",
       "      <td>-0.2</td>\n",
       "      <td>-0.4</td>\n",
       "      <td>-1.2</td>\n",
       "      <td>-1.2</td>\n",
       "      <td>-0.4</td>\n",
       "      <td>-0.6</td>\n",
       "    </tr>\n",
       "    <tr>\n",
       "      <th>436</th>\n",
       "      <td>0.1</td>\n",
       "      <td>-1.3</td>\n",
       "      <td>0.6</td>\n",
       "      <td>-0.1</td>\n",
       "      <td>-0.5</td>\n",
       "      <td>-0.5</td>\n",
       "      <td>0.1</td>\n",
       "      <td>-1.5</td>\n",
       "      <td>-1.5</td>\n",
       "      <td>-0.8</td>\n",
       "      <td>-0.4</td>\n",
       "      <td>-0.3</td>\n",
       "    </tr>\n",
       "    <tr>\n",
       "      <th>393</th>\n",
       "      <td>-0.4</td>\n",
       "      <td>-1.3</td>\n",
       "      <td>-1.2</td>\n",
       "      <td>-0.1</td>\n",
       "      <td>-0.3</td>\n",
       "      <td>-0.6</td>\n",
       "      <td>-0.3</td>\n",
       "      <td>0.8</td>\n",
       "      <td>0.4</td>\n",
       "      <td>-1.3</td>\n",
       "      <td>-0.3</td>\n",
       "      <td>-0.7</td>\n",
       "    </tr>\n",
       "  </tbody>\n",
       "</table>\n",
       "</div>"
      ],
      "text/plain": [
       "     Age  Sex  ALB  ALP  ALT  AST  BIL  CHE  CHOL  CREA  GGT  PROT\n",
       "265  1.2  0.8 -0.0 -0.3 -0.8 -0.4 -0.3 -0.1  -0.0  -1.3 -0.4  -0.5\n",
       "84  -1.0  0.8  0.5  0.5  4.3  1.4 -0.2  0.7  -1.0   1.4  0.8  -1.4\n",
       "109 -0.6  0.8  0.5 -0.6 -0.1 -0.5 -0.2  1.0   0.5   1.1 -0.3   0.1\n",
       "412 -0.2 -1.3 -0.3  0.1 -0.8 -0.6  0.1 -0.6  -0.6  -0.5 -0.4  -1.7\n",
       "486  0.7 -1.3  0.4  0.2 -0.3 -0.4 -0.2 -0.2   1.0  -0.8 -0.3   0.2\n",
       "212  0.4  0.8  1.9 -0.4  0.6  0.1 -0.3  1.3   0.2   1.0 -0.2   1.8\n",
       "414 -0.2 -1.3 -0.1 -0.6 -0.3 -0.6 -0.2 -0.4  -1.2  -1.2 -0.4  -0.6\n",
       "436  0.1 -1.3  0.6 -0.1 -0.5 -0.5  0.1 -1.5  -1.5  -0.8 -0.4  -0.3\n",
       "393 -0.4 -1.3 -1.2 -0.1 -0.3 -0.6 -0.3  0.8   0.4  -1.3 -0.3  -0.7"
      ]
     },
     "execution_count": 48,
     "metadata": {},
     "output_type": "execute_result"
    }
   ],
   "source": [
    "validation_examples.iloc[1:10]"
   ]
  },
  {
   "cell_type": "code",
   "execution_count": 14,
   "metadata": {},
   "outputs": [
    {
     "name": "stdout",
     "output_type": "stream",
     "text": [
      "[[9.96366739e-01 1.56789413e-03 7.49837433e-04 1.26948336e-03\n",
      "  4.60425981e-05]\n",
      " [6.11310840e-01 1.00798555e-01 1.92752451e-01 8.90874639e-02\n",
      "  6.05068449e-03]\n",
      " [9.91768003e-01 1.19849015e-03 4.69062477e-03 2.32006446e-03\n",
      "  2.28398058e-05]\n",
      " [9.97229517e-01 1.47187756e-03 2.83636997e-04 9.77488118e-04\n",
      "  3.74980227e-05]\n",
      " [9.97331142e-01 1.70331402e-03 2.18407295e-04 7.14819820e-04\n",
      "  3.22820924e-05]\n",
      " [9.57564950e-01 2.17578560e-03 3.11416592e-02 9.08502284e-03\n",
      "  3.25251131e-05]\n",
      " [9.95431423e-01 1.38526107e-03 1.16319291e-03 1.99363008e-03\n",
      "  2.64321534e-05]\n",
      " [9.73336458e-01 5.37557667e-03 7.46515673e-03 1.33982785e-02\n",
      "  4.24455240e-04]\n",
      " [9.97581482e-01 1.70210609e-03 1.53110232e-04 5.37672313e-04\n",
      "  2.57016945e-05]\n",
      " [9.95741904e-01 1.76507700e-03 1.20447832e-03 1.26016373e-03\n",
      "  2.83579702e-05]\n",
      " [9.85735476e-01 2.27568951e-03 6.71192352e-03 5.23576559e-03\n",
      "  4.11915353e-05]\n",
      " [9.98596013e-01 1.05527625e-03 6.61567319e-05 2.72004167e-04\n",
      "  1.04379587e-05]\n",
      " [7.25419581e-01 8.82023387e-03 2.14609146e-01 5.08940183e-02\n",
      "  2.57118547e-04]\n",
      " [9.93357003e-01 5.13381464e-03 3.19440791e-04 1.09355478e-03\n",
      "  9.59908357e-05]\n",
      " [9.78572488e-01 2.33690906e-03 1.34369833e-02 5.59646403e-03\n",
      "  5.70379379e-05]\n",
      " [7.44132578e-01 6.46426622e-03 2.02724621e-01 4.64649051e-02\n",
      "  2.13616077e-04]\n",
      " [9.94374275e-01 7.50287727e-04 3.03328317e-03 1.83328579e-03\n",
      "  8.85398185e-06]\n",
      " [9.91737068e-01 5.21808118e-03 6.00218948e-04 2.22472241e-03\n",
      "  2.19838315e-04]\n",
      " [9.20474887e-01 5.01690544e-02 5.99289499e-03 1.35735283e-02\n",
      "  9.78975464e-03]]\n"
     ]
    }
   ],
   "source": [
    "valpreds = baseline_model.predict_on_batch(validation_examples.iloc[1:20])\n",
    "print(valpreds)"
   ]
  },
  {
   "cell_type": "code",
   "execution_count": 49,
   "metadata": {},
   "outputs": [
    {
     "name": "stdout",
     "output_type": "stream",
     "text": [
      "265    0\n",
      "84     0\n",
      "109    0\n",
      "412    0\n",
      "486    0\n",
      "212    0\n",
      "414    0\n",
      "436    0\n",
      "393    0\n",
      "141    0\n",
      "1      0\n",
      "468    0\n",
      "108    0\n",
      "470    0\n",
      "55     0\n",
      "551    2\n",
      "80     0\n",
      "503    0\n",
      "199    0\n",
      "dtype: int8\n"
     ]
    }
   ],
   "source": [
    "with pd.option_context('display.max_rows', None, 'display.max_columns', None):\n",
    "    print(validation_targets.iloc[1:20])"
   ]
  },
  {
   "cell_type": "code",
   "execution_count": 50,
   "metadata": {},
   "outputs": [
    {
     "name": "stdout",
     "output_type": "stream",
     "text": [
      "              precision    recall  f1-score   support\n",
      "\n",
      "           0       0.97      1.00      0.98        91\n",
      "           2       0.00      0.00      0.00         3\n",
      "           4       1.00      0.83      0.91         6\n",
      "\n",
      "    accuracy                           0.96       100\n",
      "   macro avg       0.66      0.61      0.63       100\n",
      "weighted avg       0.94      0.96      0.95       100\n",
      "\n"
     ]
    }
   ],
   "source": [
    "from sklearn.metrics import classification_report,confusion_matrix\n",
    "predictions = baseline_model.predict_classes(validation_examples)\n",
    "print(classification_report(validation_targets,predictions))"
   ]
  },
  {
   "cell_type": "code",
   "execution_count": 51,
   "metadata": {},
   "outputs": [
    {
     "name": "stdout",
     "output_type": "stream",
     "text": [
      "              precision    recall  f1-score   support\n",
      "\n",
      "           0       0.97      1.00      0.98       435\n",
      "           1       0.00      0.00      0.00         7\n",
      "           2       0.57      0.24      0.33        17\n",
      "           3       0.50      0.67      0.57        12\n",
      "           4       0.78      0.78      0.78        18\n",
      "\n",
      "    accuracy                           0.94       489\n",
      "   macro avg       0.56      0.54      0.53       489\n",
      "weighted avg       0.92      0.94      0.93       489\n",
      "\n"
     ]
    }
   ],
   "source": [
    "from sklearn.metrics import classification_report,confusion_matrix\n",
    "predictions = baseline_model.predict_classes(training_examples)\n",
    "print(classification_report(training_targets,predictions))"
   ]
  },
  {
   "cell_type": "markdown",
   "metadata": {},
   "source": [
    "#### Plot Results"
   ]
  },
  {
   "cell_type": "code",
   "execution_count": 52,
   "metadata": {},
   "outputs": [
    {
     "data": {
      "image/png": "[encoded data removed]",
      "text/plain": [
       "<Figure size 1152x720 with 1 Axes>"
      ]
     },
     "metadata": {
      "needs_background": "light"
     },
     "output_type": "display_data"
    }
   ],
   "source": [
    "import matplotlib.pyplot as plt\n",
    "\n",
    "\n",
    "def plot_history(histories, key='sparse_categorical_accuracy'):\n",
    "  plt.figure(figsize=(16,10))\n",
    "  for name, history in histories:\n",
    "    val = plt.plot(history.epoch, history.history['val_'+key],\n",
    "                   '--', label=name.title()+' Val')\n",
    "    plt.plot(history.epoch, history.history[key], color=val[0].get_color(),\n",
    "             label=name.title()+' Train')\n",
    "\n",
    "  plt.xlabel('Epochs')\n",
    "  plt.ylabel(key.replace('_',' ').title())\n",
    "  plt.legend()\n",
    "\n",
    "  plt.xlim([0,max(history.epoch)])\n",
    "  plt.ylim([0,1])\n",
    "\n",
    "plot_history([('baseline', b_history)])"
   ]
  },
  {
   "cell_type": "markdown",
   "metadata": {},
   "source": [
    "### Inference :"
   ]
  },
  {
   "cell_type": "markdown",
   "metadata": {},
   "source": [
    "The output of this model is discrete, multiclass classification, so the activation function used here is 'softmax', loss function as 'sparse_categorical_crossentropy' , optimizer as 'adam' and metric as 'accuracy'. The baseline for this model is calculated using majority classification rule. The majority class here is 'Blood Donor' (coded as 0 class). The baseline accuracy is 89.0%. The model is able to exceed baseline performance with maximum accuracy of 97%."
   ]
  },
  {
   "cell_type": "markdown",
   "metadata": {},
   "source": [
    "### Build Model with 2 hidden layers"
   ]
  },
  {
   "cell_type": "code",
   "execution_count": 53,
   "metadata": {},
   "outputs": [
    {
     "name": "stdout",
     "output_type": "stream",
     "text": [
      "Model: \"sequential_7\"\n",
      "_________________________________________________________________\n",
      "Layer (type)                 Output Shape              Param #   \n",
      "=================================================================\n",
      "dense_22 (Dense)             (None, 12)                156       \n",
      "_________________________________________________________________\n",
      "dense_23 (Dense)             (None, 8)                 104       \n",
      "_________________________________________________________________\n",
      "dense_24 (Dense)             (None, 8)                 72        \n",
      "_________________________________________________________________\n",
      "dense_25 (Dense)             (None, 5)                 45        \n",
      "=================================================================\n",
      "Total params: 377\n",
      "Trainable params: 377\n",
      "Non-trainable params: 0\n",
      "_________________________________________________________________\n"
     ]
    }
   ],
   "source": [
    "baseline_model2 = keras.Sequential([\n",
    "    keras.layers.Dense(12, activation=tf.nn.relu,\n",
    "                       input_shape=(training_examples.shape[1],)),\n",
    "    #keras.layers.Dropout(0.25),\n",
    "    keras.layers.Dense(8, activation=tf.nn.relu),\n",
    "    #keras.layers.Dropout(0.25),\n",
    "    keras.layers.Dense(8, activation=tf.nn.relu),\n",
    "    keras.layers.Dense(5, activation=tf.nn.softmax)\n",
    "\n",
    "  ])\n",
    "\n",
    "\n",
    "baseline_model2.compile(loss='sparse_categorical_crossentropy',\n",
    "                optimizer=\"adam\",\n",
    "                metrics=['sparse_categorical_accuracy'])\n",
    "baseline_model2.summary()"
   ]
  },
  {
   "cell_type": "code",
   "execution_count": 20,
   "metadata": {},
   "outputs": [
    {
     "name": "stdout",
     "output_type": "stream",
     "text": [
      "Epoch 1/60\n",
      "16/16 - 0s - loss: 1.7064 - sparse_categorical_accuracy: 0.1063 - val_loss: 1.6780 - val_sparse_categorical_accuracy: 0.1200\n",
      "Epoch 2/60\n",
      "16/16 - 0s - loss: 1.6225 - sparse_categorical_accuracy: 0.2618 - val_loss: 1.6021 - val_sparse_categorical_accuracy: 0.3100\n",
      "Epoch 3/60\n",
      "16/16 - 0s - loss: 1.5669 - sparse_categorical_accuracy: 0.5153 - val_loss: 1.5478 - val_sparse_categorical_accuracy: 0.6000\n",
      "Epoch 4/60\n",
      "16/16 - 0s - loss: 1.5238 - sparse_categorical_accuracy: 0.7505 - val_loss: 1.5023 - val_sparse_categorical_accuracy: 0.8100\n",
      "Epoch 5/60\n",
      "16/16 - 0s - loss: 1.4852 - sparse_categorical_accuracy: 0.8528 - val_loss: 1.4583 - val_sparse_categorical_accuracy: 0.8900\n",
      "Epoch 6/60\n",
      "16/16 - 0s - loss: 1.4467 - sparse_categorical_accuracy: 0.8957 - val_loss: 1.4121 - val_sparse_categorical_accuracy: 0.9300\n",
      "Epoch 7/60\n",
      "16/16 - 0s - loss: 1.4049 - sparse_categorical_accuracy: 0.9018 - val_loss: 1.3634 - val_sparse_categorical_accuracy: 0.9500\n",
      "Epoch 8/60\n",
      "16/16 - 0s - loss: 1.3567 - sparse_categorical_accuracy: 0.9059 - val_loss: 1.3061 - val_sparse_categorical_accuracy: 0.9400\n",
      "Epoch 9/60\n",
      "16/16 - 0s - loss: 1.2977 - sparse_categorical_accuracy: 0.9039 - val_loss: 1.2331 - val_sparse_categorical_accuracy: 0.9200\n",
      "Epoch 10/60\n",
      "16/16 - 0s - loss: 1.2210 - sparse_categorical_accuracy: 0.8916 - val_loss: 1.1434 - val_sparse_categorical_accuracy: 0.9100\n",
      "Epoch 11/60\n",
      "16/16 - 0s - loss: 1.1268 - sparse_categorical_accuracy: 0.8896 - val_loss: 1.0253 - val_sparse_categorical_accuracy: 0.9100\n",
      "Epoch 12/60\n",
      "16/16 - 0s - loss: 1.0060 - sparse_categorical_accuracy: 0.8896 - val_loss: 0.8884 - val_sparse_categorical_accuracy: 0.9100\n",
      "Epoch 13/60\n",
      "16/16 - 0s - loss: 0.8689 - sparse_categorical_accuracy: 0.8896 - val_loss: 0.7353 - val_sparse_categorical_accuracy: 0.9100\n",
      "Epoch 14/60\n",
      "16/16 - 0s - loss: 0.7303 - sparse_categorical_accuracy: 0.8896 - val_loss: 0.5970 - val_sparse_categorical_accuracy: 0.9100\n",
      "Epoch 15/60\n",
      "16/16 - 0s - loss: 0.6124 - sparse_categorical_accuracy: 0.8896 - val_loss: 0.4902 - val_sparse_categorical_accuracy: 0.9100\n",
      "Epoch 16/60\n",
      "16/16 - 0s - loss: 0.5252 - sparse_categorical_accuracy: 0.8896 - val_loss: 0.4066 - val_sparse_categorical_accuracy: 0.9100\n",
      "Epoch 17/60\n",
      "16/16 - 0s - loss: 0.4632 - sparse_categorical_accuracy: 0.8896 - val_loss: 0.3478 - val_sparse_categorical_accuracy: 0.9100\n",
      "Epoch 18/60\n",
      "16/16 - 0s - loss: 0.4172 - sparse_categorical_accuracy: 0.8896 - val_loss: 0.3091 - val_sparse_categorical_accuracy: 0.9100\n",
      "Epoch 19/60\n",
      "16/16 - 0s - loss: 0.3835 - sparse_categorical_accuracy: 0.8896 - val_loss: 0.2820 - val_sparse_categorical_accuracy: 0.9100\n",
      "Epoch 20/60\n",
      "16/16 - 0s - loss: 0.3573 - sparse_categorical_accuracy: 0.8937 - val_loss: 0.2599 - val_sparse_categorical_accuracy: 0.9100\n",
      "Epoch 21/60\n",
      "16/16 - 0s - loss: 0.3356 - sparse_categorical_accuracy: 0.8957 - val_loss: 0.2430 - val_sparse_categorical_accuracy: 0.9200\n",
      "Epoch 22/60\n",
      "16/16 - 0s - loss: 0.3175 - sparse_categorical_accuracy: 0.8978 - val_loss: 0.2278 - val_sparse_categorical_accuracy: 0.9200\n",
      "Epoch 23/60\n",
      "16/16 - 0s - loss: 0.3012 - sparse_categorical_accuracy: 0.9039 - val_loss: 0.2154 - val_sparse_categorical_accuracy: 0.9300\n",
      "Epoch 24/60\n",
      "16/16 - 0s - loss: 0.2873 - sparse_categorical_accuracy: 0.9080 - val_loss: 0.2041 - val_sparse_categorical_accuracy: 0.9400\n",
      "Epoch 25/60\n",
      "16/16 - 0s - loss: 0.2757 - sparse_categorical_accuracy: 0.9080 - val_loss: 0.1935 - val_sparse_categorical_accuracy: 0.9500\n",
      "Epoch 26/60\n",
      "16/16 - 0s - loss: 0.2652 - sparse_categorical_accuracy: 0.9080 - val_loss: 0.1873 - val_sparse_categorical_accuracy: 0.9500\n",
      "Epoch 27/60\n",
      "16/16 - 0s - loss: 0.2561 - sparse_categorical_accuracy: 0.9141 - val_loss: 0.1812 - val_sparse_categorical_accuracy: 0.9500\n",
      "Epoch 28/60\n",
      "16/16 - 0s - loss: 0.2475 - sparse_categorical_accuracy: 0.9141 - val_loss: 0.1724 - val_sparse_categorical_accuracy: 0.9600\n",
      "Epoch 29/60\n",
      "16/16 - 0s - loss: 0.2403 - sparse_categorical_accuracy: 0.9162 - val_loss: 0.1658 - val_sparse_categorical_accuracy: 0.9600\n",
      "Epoch 30/60\n",
      "16/16 - 0s - loss: 0.2317 - sparse_categorical_accuracy: 0.9223 - val_loss: 0.1601 - val_sparse_categorical_accuracy: 0.9600\n",
      "Epoch 31/60\n",
      "16/16 - 0s - loss: 0.2243 - sparse_categorical_accuracy: 0.9264 - val_loss: 0.1570 - val_sparse_categorical_accuracy: 0.9600\n",
      "Epoch 32/60\n",
      "16/16 - 0s - loss: 0.2175 - sparse_categorical_accuracy: 0.9284 - val_loss: 0.1519 - val_sparse_categorical_accuracy: 0.9600\n",
      "Epoch 33/60\n",
      "16/16 - 0s - loss: 0.2111 - sparse_categorical_accuracy: 0.9284 - val_loss: 0.1478 - val_sparse_categorical_accuracy: 0.9600\n",
      "Epoch 34/60\n",
      "16/16 - 0s - loss: 0.2049 - sparse_categorical_accuracy: 0.9284 - val_loss: 0.1437 - val_sparse_categorical_accuracy: 0.9600\n",
      "Epoch 35/60\n",
      "16/16 - 0s - loss: 0.1993 - sparse_categorical_accuracy: 0.9325 - val_loss: 0.1382 - val_sparse_categorical_accuracy: 0.9600\n",
      "Epoch 36/60\n",
      "16/16 - 0s - loss: 0.1928 - sparse_categorical_accuracy: 0.9346 - val_loss: 0.1355 - val_sparse_categorical_accuracy: 0.9600\n",
      "Epoch 37/60\n",
      "16/16 - 0s - loss: 0.1878 - sparse_categorical_accuracy: 0.9387 - val_loss: 0.1340 - val_sparse_categorical_accuracy: 0.9600\n",
      "Epoch 38/60\n",
      "16/16 - 0s - loss: 0.1841 - sparse_categorical_accuracy: 0.9407 - val_loss: 0.1319 - val_sparse_categorical_accuracy: 0.9600\n",
      "Epoch 39/60\n",
      "16/16 - 0s - loss: 0.1802 - sparse_categorical_accuracy: 0.9387 - val_loss: 0.1245 - val_sparse_categorical_accuracy: 0.9600\n",
      "Epoch 40/60\n",
      "16/16 - 0s - loss: 0.1769 - sparse_categorical_accuracy: 0.9427 - val_loss: 0.1224 - val_sparse_categorical_accuracy: 0.9600\n",
      "Epoch 41/60\n",
      "16/16 - 0s - loss: 0.1730 - sparse_categorical_accuracy: 0.9427 - val_loss: 0.1229 - val_sparse_categorical_accuracy: 0.9600\n",
      "Epoch 42/60\n",
      "16/16 - 0s - loss: 0.1699 - sparse_categorical_accuracy: 0.9448 - val_loss: 0.1233 - val_sparse_categorical_accuracy: 0.9600\n",
      "Epoch 43/60\n",
      "16/16 - 0s - loss: 0.1667 - sparse_categorical_accuracy: 0.9448 - val_loss: 0.1227 - val_sparse_categorical_accuracy: 0.9600\n"
     ]
    }
   ],
   "source": [
    "from keras.callbacks import EarlyStopping\n",
    "\n",
    "early_stopping_monitor = EarlyStopping(patience=3)\n",
    "EPOCHS = 60\n",
    "b_history2 = baseline_model2.fit(training_examples,training_targets,epochs=EPOCHS,\n",
    "                   validation_data= (validation_examples, validation_targets),verbose=2,\n",
    "                               callbacks=[early_stopping_monitor])"
   ]
  },
  {
   "cell_type": "code",
   "execution_count": 54,
   "metadata": {},
   "outputs": [
    {
     "name": "stdout",
     "output_type": "stream",
     "text": [
      "              precision    recall  f1-score   support\n",
      "\n",
      "           0       0.00      0.00      0.00        91\n",
      "           1       0.00      0.00      0.00         0\n",
      "           2       0.02      0.67      0.04         3\n",
      "           3       0.00      0.00      0.00         0\n",
      "           4       0.00      0.00      0.00         6\n",
      "\n",
      "    accuracy                           0.02       100\n",
      "   macro avg       0.00      0.13      0.01       100\n",
      "weighted avg       0.00      0.02      0.00       100\n",
      "\n"
     ]
    }
   ],
   "source": [
    "from sklearn.metrics import classification_report,confusion_matrix\n",
    "predictions = baseline_model2.predict_classes(validation_examples)\n",
    "print(classification_report(validation_targets,predictions))"
   ]
  },
  {
   "cell_type": "markdown",
   "metadata": {},
   "source": [
    "### Check minimum and maximum validation accuracy"
   ]
  },
  {
   "cell_type": "code",
   "execution_count": 55,
   "metadata": {},
   "outputs": [
    {
     "name": "stdout",
     "output_type": "stream",
     "text": [
      "Minimum accuracy of validation:  0.11999999731779099\n",
      "Maximum accuracy of validation:  0.9599999785423279\n"
     ]
    }
   ],
   "source": [
    "print(\"Minimum accuracy of validation: \", min(b_history2.history['val_sparse_categorical_accuracy']))\n",
    "print(\"Maximum accuracy of validation: \", max(b_history2.history['val_sparse_categorical_accuracy']))"
   ]
  },
  {
   "cell_type": "markdown",
   "metadata": {},
   "source": [
    "### Check minimum and maximum model accuracy"
   ]
  },
  {
   "cell_type": "code",
   "execution_count": 56,
   "metadata": {},
   "outputs": [
    {
     "name": "stdout",
     "output_type": "stream",
     "text": [
      "Minimum accuracy of model:  0.1063394695520401\n",
      "Maximum accuracy of model:  0.9447852969169617\n"
     ]
    }
   ],
   "source": [
    "print(\"Minimum accuracy of model: \", min(b_history2.history['sparse_categorical_accuracy']))\n",
    "print(\"Maximum accuracy of model: \", max(b_history2.history['sparse_categorical_accuracy']))"
   ]
  },
  {
   "cell_type": "markdown",
   "metadata": {},
   "source": [
    "### 2.a Plot Results : To Compare model with 1 hidden layer vs 2 hidden layer"
   ]
  },
  {
   "cell_type": "code",
   "execution_count": 57,
   "metadata": {},
   "outputs": [
    {
     "data": {
      "image/png": "[encoded data removed]",
      "text/plain": [
       "<Figure size 1152x720 with 1 Axes>"
      ]
     },
     "metadata": {
      "needs_background": "light"
     },
     "output_type": "display_data"
    }
   ],
   "source": [
    "plot_history([('1 Hidden Layer', b_history), \n",
    "            ('2 Hidden Layer', b_history2) ])"
   ]
  },
  {
   "cell_type": "markdown",
   "metadata": {},
   "source": [
    "## b.\tNo of neurons in hidden layers between \n",
    "### (a)2/3 the size of the input layer, plus the size of the output layer\n",
    "### (b) twice the size of the input layer"
   ]
  },
  {
   "cell_type": "code",
   "execution_count": 58,
   "metadata": {},
   "outputs": [
    {
     "name": "stdout",
     "output_type": "stream",
     "text": [
      "Model: \"sequential_8\"\n",
      "_________________________________________________________________\n",
      "Layer (type)                 Output Shape              Param #   \n",
      "=================================================================\n",
      "dense_26 (Dense)             (None, 12)                156       \n",
      "_________________________________________________________________\n",
      "dense_27 (Dense)             (None, 13)                169       \n",
      "_________________________________________________________________\n",
      "dense_28 (Dense)             (None, 5)                 70        \n",
      "=================================================================\n",
      "Total params: 395\n",
      "Trainable params: 395\n",
      "Non-trainable params: 0\n",
      "_________________________________________________________________\n"
     ]
    }
   ],
   "source": [
    "#(a) Model with 2/3 the size of the input layer(12), plus the size of the output layer(5)\n",
    "\n",
    "baseline_model3 = keras.Sequential([\n",
    "    keras.layers.Dense(12, activation=tf.nn.relu,\n",
    "                       input_shape=(training_examples.shape[1],)),\n",
    "    #keras.layers.Dropout(0.25),\n",
    "    keras.layers.Dense(13, activation=tf.nn.relu),\n",
    "    #keras.layers.Dropout(0.25),\n",
    "    keras.layers.Dense(5, activation=tf.nn.softmax)\n",
    "\n",
    "  ])\n",
    "\n",
    "\n",
    "baseline_model3.compile(loss='sparse_categorical_crossentropy',\n",
    "                optimizer=\"adam\",\n",
    "                metrics=['sparse_categorical_accuracy'])\n",
    "baseline_model3.summary()\n"
   ]
  },
  {
   "cell_type": "code",
   "execution_count": 59,
   "metadata": {},
   "outputs": [
    {
     "name": "stdout",
     "output_type": "stream",
     "text": [
      "Epoch 1/60\n",
      "16/16 - 0s - loss: 1.7915 - sparse_categorical_accuracy: 0.0900 - val_loss: 1.6470 - val_sparse_categorical_accuracy: 0.1000\n",
      "Epoch 2/60\n",
      "16/16 - 0s - loss: 1.5707 - sparse_categorical_accuracy: 0.4151 - val_loss: 1.4186 - val_sparse_categorical_accuracy: 0.6500\n",
      "Epoch 3/60\n",
      "16/16 - 0s - loss: 1.3926 - sparse_categorical_accuracy: 0.6933 - val_loss: 1.2382 - val_sparse_categorical_accuracy: 0.8500\n",
      "Epoch 4/60\n",
      "16/16 - 0s - loss: 1.2420 - sparse_categorical_accuracy: 0.8303 - val_loss: 1.0689 - val_sparse_categorical_accuracy: 0.9100\n",
      "Epoch 5/60\n",
      "16/16 - 0s - loss: 1.1004 - sparse_categorical_accuracy: 0.8732 - val_loss: 0.9139 - val_sparse_categorical_accuracy: 0.9200\n",
      "Epoch 6/60\n",
      "16/16 - 0s - loss: 0.9727 - sparse_categorical_accuracy: 0.8793 - val_loss: 0.7689 - val_sparse_categorical_accuracy: 0.9300\n",
      "Epoch 7/60\n",
      "16/16 - 0s - loss: 0.8506 - sparse_categorical_accuracy: 0.8896 - val_loss: 0.6597 - val_sparse_categorical_accuracy: 0.9200\n",
      "Epoch 8/60\n",
      "16/16 - 0s - loss: 0.7437 - sparse_categorical_accuracy: 0.8896 - val_loss: 0.5679 - val_sparse_categorical_accuracy: 0.9200\n",
      "Epoch 9/60\n",
      "16/16 - 0s - loss: 0.6542 - sparse_categorical_accuracy: 0.8896 - val_loss: 0.4958 - val_sparse_categorical_accuracy: 0.9200\n",
      "Epoch 10/60\n",
      "16/16 - 0s - loss: 0.5810 - sparse_categorical_accuracy: 0.8916 - val_loss: 0.4428 - val_sparse_categorical_accuracy: 0.9300\n",
      "Epoch 11/60\n",
      "16/16 - 0s - loss: 0.5258 - sparse_categorical_accuracy: 0.8916 - val_loss: 0.4026 - val_sparse_categorical_accuracy: 0.9300\n",
      "Epoch 12/60\n",
      "16/16 - 0s - loss: 0.4834 - sparse_categorical_accuracy: 0.8916 - val_loss: 0.3751 - val_sparse_categorical_accuracy: 0.9200\n",
      "Epoch 13/60\n",
      "16/16 - 0s - loss: 0.4499 - sparse_categorical_accuracy: 0.8916 - val_loss: 0.3544 - val_sparse_categorical_accuracy: 0.9200\n",
      "Epoch 14/60\n",
      "16/16 - 0s - loss: 0.4213 - sparse_categorical_accuracy: 0.8937 - val_loss: 0.3379 - val_sparse_categorical_accuracy: 0.9200\n",
      "Epoch 15/60\n",
      "16/16 - 0s - loss: 0.3965 - sparse_categorical_accuracy: 0.8978 - val_loss: 0.3263 - val_sparse_categorical_accuracy: 0.9200\n",
      "Epoch 16/60\n",
      "16/16 - 0s - loss: 0.3761 - sparse_categorical_accuracy: 0.8998 - val_loss: 0.3159 - val_sparse_categorical_accuracy: 0.9200\n",
      "Epoch 17/60\n",
      "16/16 - 0s - loss: 0.3579 - sparse_categorical_accuracy: 0.8998 - val_loss: 0.3050 - val_sparse_categorical_accuracy: 0.9200\n",
      "Epoch 18/60\n",
      "16/16 - 0s - loss: 0.3408 - sparse_categorical_accuracy: 0.8998 - val_loss: 0.2944 - val_sparse_categorical_accuracy: 0.9200\n",
      "Epoch 19/60\n",
      "16/16 - 0s - loss: 0.3267 - sparse_categorical_accuracy: 0.9018 - val_loss: 0.2835 - val_sparse_categorical_accuracy: 0.9200\n",
      "Epoch 20/60\n",
      "16/16 - 0s - loss: 0.3138 - sparse_categorical_accuracy: 0.9018 - val_loss: 0.2766 - val_sparse_categorical_accuracy: 0.9200\n",
      "Epoch 21/60\n",
      "16/16 - 0s - loss: 0.3028 - sparse_categorical_accuracy: 0.9039 - val_loss: 0.2685 - val_sparse_categorical_accuracy: 0.9200\n",
      "Epoch 22/60\n",
      "16/16 - 0s - loss: 0.2918 - sparse_categorical_accuracy: 0.9039 - val_loss: 0.2616 - val_sparse_categorical_accuracy: 0.9300\n",
      "Epoch 23/60\n",
      "16/16 - 0s - loss: 0.2819 - sparse_categorical_accuracy: 0.9080 - val_loss: 0.2561 - val_sparse_categorical_accuracy: 0.9200\n",
      "Epoch 24/60\n",
      "16/16 - 0s - loss: 0.2724 - sparse_categorical_accuracy: 0.9080 - val_loss: 0.2507 - val_sparse_categorical_accuracy: 0.9300\n",
      "Epoch 25/60\n",
      "16/16 - 0s - loss: 0.2630 - sparse_categorical_accuracy: 0.9059 - val_loss: 0.2441 - val_sparse_categorical_accuracy: 0.9300\n",
      "Epoch 26/60\n",
      "16/16 - 0s - loss: 0.2554 - sparse_categorical_accuracy: 0.9080 - val_loss: 0.2370 - val_sparse_categorical_accuracy: 0.9300\n",
      "Epoch 27/60\n",
      "16/16 - 0s - loss: 0.2471 - sparse_categorical_accuracy: 0.9100 - val_loss: 0.2304 - val_sparse_categorical_accuracy: 0.9300\n",
      "Epoch 28/60\n",
      "16/16 - 0s - loss: 0.2403 - sparse_categorical_accuracy: 0.9243 - val_loss: 0.2242 - val_sparse_categorical_accuracy: 0.9400\n",
      "Epoch 29/60\n",
      "16/16 - 0s - loss: 0.2328 - sparse_categorical_accuracy: 0.9305 - val_loss: 0.2199 - val_sparse_categorical_accuracy: 0.9400\n",
      "Epoch 30/60\n",
      "16/16 - 0s - loss: 0.2270 - sparse_categorical_accuracy: 0.9305 - val_loss: 0.2150 - val_sparse_categorical_accuracy: 0.9500\n",
      "Epoch 31/60\n",
      "16/16 - 0s - loss: 0.2211 - sparse_categorical_accuracy: 0.9284 - val_loss: 0.2100 - val_sparse_categorical_accuracy: 0.9500\n",
      "Epoch 32/60\n",
      "16/16 - 0s - loss: 0.2149 - sparse_categorical_accuracy: 0.9305 - val_loss: 0.2049 - val_sparse_categorical_accuracy: 0.9500\n",
      "Epoch 33/60\n",
      "16/16 - 0s - loss: 0.2096 - sparse_categorical_accuracy: 0.9325 - val_loss: 0.2028 - val_sparse_categorical_accuracy: 0.9500\n",
      "Epoch 34/60\n",
      "16/16 - 0s - loss: 0.2052 - sparse_categorical_accuracy: 0.9305 - val_loss: 0.1998 - val_sparse_categorical_accuracy: 0.9500\n",
      "Epoch 35/60\n",
      "16/16 - 0s - loss: 0.1993 - sparse_categorical_accuracy: 0.9305 - val_loss: 0.1956 - val_sparse_categorical_accuracy: 0.9500\n",
      "Epoch 36/60\n",
      "16/16 - 0s - loss: 0.1951 - sparse_categorical_accuracy: 0.9325 - val_loss: 0.1932 - val_sparse_categorical_accuracy: 0.9500\n",
      "Epoch 37/60\n",
      "16/16 - 0s - loss: 0.1910 - sparse_categorical_accuracy: 0.9284 - val_loss: 0.1895 - val_sparse_categorical_accuracy: 0.9500\n",
      "Epoch 38/60\n",
      "16/16 - 0s - loss: 0.1859 - sparse_categorical_accuracy: 0.9284 - val_loss: 0.1872 - val_sparse_categorical_accuracy: 0.9600\n",
      "Epoch 39/60\n",
      "16/16 - 0s - loss: 0.1822 - sparse_categorical_accuracy: 0.9346 - val_loss: 0.1847 - val_sparse_categorical_accuracy: 0.9600\n",
      "Epoch 40/60\n",
      "16/16 - 0s - loss: 0.1785 - sparse_categorical_accuracy: 0.9325 - val_loss: 0.1806 - val_sparse_categorical_accuracy: 0.9600\n",
      "Epoch 41/60\n",
      "16/16 - 0s - loss: 0.1742 - sparse_categorical_accuracy: 0.9325 - val_loss: 0.1793 - val_sparse_categorical_accuracy: 0.9600\n",
      "Epoch 42/60\n",
      "16/16 - 0s - loss: 0.1707 - sparse_categorical_accuracy: 0.9325 - val_loss: 0.1761 - val_sparse_categorical_accuracy: 0.9600\n",
      "Epoch 43/60\n",
      "16/16 - 0s - loss: 0.1665 - sparse_categorical_accuracy: 0.9325 - val_loss: 0.1752 - val_sparse_categorical_accuracy: 0.9600\n",
      "Epoch 44/60\n",
      "16/16 - 0s - loss: 0.1634 - sparse_categorical_accuracy: 0.9387 - val_loss: 0.1728 - val_sparse_categorical_accuracy: 0.9600\n",
      "Epoch 45/60\n",
      "16/16 - 0s - loss: 0.1597 - sparse_categorical_accuracy: 0.9407 - val_loss: 0.1719 - val_sparse_categorical_accuracy: 0.9600\n",
      "Epoch 46/60\n",
      "16/16 - 0s - loss: 0.1573 - sparse_categorical_accuracy: 0.9427 - val_loss: 0.1679 - val_sparse_categorical_accuracy: 0.9600\n",
      "Epoch 47/60\n",
      "16/16 - 0s - loss: 0.1534 - sparse_categorical_accuracy: 0.9407 - val_loss: 0.1687 - val_sparse_categorical_accuracy: 0.9600\n",
      "Epoch 48/60\n",
      "16/16 - 0s - loss: 0.1508 - sparse_categorical_accuracy: 0.9407 - val_loss: 0.1668 - val_sparse_categorical_accuracy: 0.9600\n",
      "Epoch 49/60\n",
      "16/16 - 0s - loss: 0.1477 - sparse_categorical_accuracy: 0.9427 - val_loss: 0.1629 - val_sparse_categorical_accuracy: 0.9600\n",
      "Epoch 50/60\n",
      "16/16 - 0s - loss: 0.1456 - sparse_categorical_accuracy: 0.9448 - val_loss: 0.1609 - val_sparse_categorical_accuracy: 0.9600\n",
      "Epoch 51/60\n",
      "16/16 - 0s - loss: 0.1421 - sparse_categorical_accuracy: 0.9448 - val_loss: 0.1584 - val_sparse_categorical_accuracy: 0.9600\n",
      "Epoch 52/60\n",
      "16/16 - 0s - loss: 0.1391 - sparse_categorical_accuracy: 0.9427 - val_loss: 0.1576 - val_sparse_categorical_accuracy: 0.9600\n",
      "Epoch 53/60\n",
      "16/16 - 0s - loss: 0.1359 - sparse_categorical_accuracy: 0.9468 - val_loss: 0.1557 - val_sparse_categorical_accuracy: 0.9700\n",
      "Epoch 54/60\n",
      "16/16 - 0s - loss: 0.1339 - sparse_categorical_accuracy: 0.9489 - val_loss: 0.1547 - val_sparse_categorical_accuracy: 0.9700\n",
      "Epoch 55/60\n",
      "16/16 - 0s - loss: 0.1312 - sparse_categorical_accuracy: 0.9489 - val_loss: 0.1534 - val_sparse_categorical_accuracy: 0.9700\n",
      "Epoch 56/60\n",
      "16/16 - 0s - loss: 0.1284 - sparse_categorical_accuracy: 0.9468 - val_loss: 0.1524 - val_sparse_categorical_accuracy: 0.9700\n",
      "Epoch 57/60\n",
      "16/16 - 0s - loss: 0.1261 - sparse_categorical_accuracy: 0.9489 - val_loss: 0.1489 - val_sparse_categorical_accuracy: 0.9700\n",
      "Epoch 58/60\n",
      "16/16 - 0s - loss: 0.1237 - sparse_categorical_accuracy: 0.9509 - val_loss: 0.1481 - val_sparse_categorical_accuracy: 0.9700\n",
      "Epoch 59/60\n",
      "16/16 - 0s - loss: 0.1212 - sparse_categorical_accuracy: 0.9550 - val_loss: 0.1458 - val_sparse_categorical_accuracy: 0.9700\n",
      "Epoch 60/60\n",
      "16/16 - 0s - loss: 0.1185 - sparse_categorical_accuracy: 0.9550 - val_loss: 0.1462 - val_sparse_categorical_accuracy: 0.9700\n"
     ]
    }
   ],
   "source": [
    "from keras.callbacks import EarlyStopping\n",
    "\n",
    "early_stopping_monitor = EarlyStopping(patience=3)\n",
    "EPOCHS = 60\n",
    "b_history3= baseline_model3.fit(training_examples,training_targets,epochs=EPOCHS,\n",
    "                   validation_data= (validation_examples, validation_targets),verbose=2,\n",
    "                               callbacks=[early_stopping_monitor])"
   ]
  },
  {
   "cell_type": "markdown",
   "metadata": {},
   "source": [
    "### Check minimum and maximum validation accuracy"
   ]
  },
  {
   "cell_type": "code",
   "execution_count": 60,
   "metadata": {},
   "outputs": [
    {
     "name": "stdout",
     "output_type": "stream",
     "text": [
      "Minimum accuracy of validation:  0.10000000149011612\n",
      "Maximum accuracy of validation:  0.9700000286102295\n"
     ]
    }
   ],
   "source": [
    "print(\"Minimum accuracy of validation: \", min(b_history3.history['val_sparse_categorical_accuracy']))\n",
    "print(\"Maximum accuracy of validation: \", max(b_history3.history['val_sparse_categorical_accuracy']))"
   ]
  },
  {
   "cell_type": "markdown",
   "metadata": {},
   "source": [
    "### Check minimum and maximum model accuracy"
   ]
  },
  {
   "cell_type": "code",
   "execution_count": 61,
   "metadata": {},
   "outputs": [
    {
     "name": "stdout",
     "output_type": "stream",
     "text": [
      "Minimum accuracy of model:  0.08997955173254013\n",
      "Maximum accuracy of model:  0.9550102353096008\n"
     ]
    }
   ],
   "source": [
    "print(\"Minimum accuracy of model: \", min(b_history3.history['sparse_categorical_accuracy']))\n",
    "print(\"Maximum accuracy of model: \", max(b_history3.history['sparse_categorical_accuracy']))"
   ]
  },
  {
   "cell_type": "code",
   "execution_count": 62,
   "metadata": {},
   "outputs": [
    {
     "name": "stdout",
     "output_type": "stream",
     "text": [
      "Model: \"sequential_9\"\n",
      "_________________________________________________________________\n",
      "Layer (type)                 Output Shape              Param #   \n",
      "=================================================================\n",
      "dense_29 (Dense)             (None, 12)                156       \n",
      "_________________________________________________________________\n",
      "dense_30 (Dense)             (None, 24)                312       \n",
      "_________________________________________________________________\n",
      "dense_31 (Dense)             (None, 5)                 125       \n",
      "=================================================================\n",
      "Total params: 593\n",
      "Trainable params: 593\n",
      "Non-trainable params: 0\n",
      "_________________________________________________________________\n"
     ]
    }
   ],
   "source": [
    "#(b) Model with twice the size of the input layer\n",
    "\n",
    "\n",
    "baseline_model4 = keras.Sequential([\n",
    "    keras.layers.Dense(12, activation=tf.nn.relu,\n",
    "                       input_shape=(training_examples.shape[1],)),\n",
    "    #keras.layers.Dropout(0.25),\n",
    "    keras.layers.Dense(24, activation=tf.nn.relu),\n",
    "    #keras.layers.Dropout(0.25),\n",
    "    keras.layers.Dense(5, activation=tf.nn.softmax)\n",
    "\n",
    "  ])\n",
    "\n",
    "\n",
    "baseline_model4.compile(loss='sparse_categorical_crossentropy',\n",
    "                optimizer=\"adam\",\n",
    "                metrics=['sparse_categorical_accuracy'])\n",
    "baseline_model4.summary()"
   ]
  },
  {
   "cell_type": "code",
   "execution_count": 63,
   "metadata": {},
   "outputs": [
    {
     "name": "stdout",
     "output_type": "stream",
     "text": [
      "Epoch 1/60\n",
      "16/16 - 0s - loss: 1.4804 - sparse_categorical_accuracy: 0.5849 - val_loss: 1.2713 - val_sparse_categorical_accuracy: 0.7800\n",
      "Epoch 2/60\n",
      "16/16 - 0s - loss: 1.2355 - sparse_categorical_accuracy: 0.8364 - val_loss: 1.0405 - val_sparse_categorical_accuracy: 0.8800\n",
      "Epoch 3/60\n",
      "16/16 - 0s - loss: 1.0403 - sparse_categorical_accuracy: 0.8855 - val_loss: 0.8537 - val_sparse_categorical_accuracy: 0.9100\n",
      "Epoch 4/60\n",
      "16/16 - 0s - loss: 0.8877 - sparse_categorical_accuracy: 0.8896 - val_loss: 0.7055 - val_sparse_categorical_accuracy: 0.9100\n",
      "Epoch 5/60\n",
      "16/16 - 0s - loss: 0.7635 - sparse_categorical_accuracy: 0.8896 - val_loss: 0.5897 - val_sparse_categorical_accuracy: 0.9100\n",
      "Epoch 6/60\n",
      "16/16 - 0s - loss: 0.6652 - sparse_categorical_accuracy: 0.8896 - val_loss: 0.5020 - val_sparse_categorical_accuracy: 0.9100\n",
      "Epoch 7/60\n",
      "16/16 - 0s - loss: 0.5893 - sparse_categorical_accuracy: 0.8896 - val_loss: 0.4292 - val_sparse_categorical_accuracy: 0.9100\n",
      "Epoch 8/60\n",
      "16/16 - 0s - loss: 0.5303 - sparse_categorical_accuracy: 0.8916 - val_loss: 0.3801 - val_sparse_categorical_accuracy: 0.9100\n",
      "Epoch 9/60\n",
      "16/16 - 0s - loss: 0.4837 - sparse_categorical_accuracy: 0.9018 - val_loss: 0.3476 - val_sparse_categorical_accuracy: 0.9300\n",
      "Epoch 10/60\n",
      "16/16 - 0s - loss: 0.4479 - sparse_categorical_accuracy: 0.9018 - val_loss: 0.3190 - val_sparse_categorical_accuracy: 0.9400\n",
      "Epoch 11/60\n",
      "16/16 - 0s - loss: 0.4194 - sparse_categorical_accuracy: 0.9018 - val_loss: 0.2991 - val_sparse_categorical_accuracy: 0.9400\n",
      "Epoch 12/60\n",
      "16/16 - 0s - loss: 0.3957 - sparse_categorical_accuracy: 0.9059 - val_loss: 0.2850 - val_sparse_categorical_accuracy: 0.9400\n",
      "Epoch 13/60\n",
      "16/16 - 0s - loss: 0.3757 - sparse_categorical_accuracy: 0.9121 - val_loss: 0.2693 - val_sparse_categorical_accuracy: 0.9400\n",
      "Epoch 14/60\n",
      "16/16 - 0s - loss: 0.3579 - sparse_categorical_accuracy: 0.9141 - val_loss: 0.2571 - val_sparse_categorical_accuracy: 0.9400\n",
      "Epoch 15/60\n",
      "16/16 - 0s - loss: 0.3427 - sparse_categorical_accuracy: 0.9162 - val_loss: 0.2447 - val_sparse_categorical_accuracy: 0.9400\n",
      "Epoch 16/60\n",
      "16/16 - 0s - loss: 0.3288 - sparse_categorical_accuracy: 0.9182 - val_loss: 0.2348 - val_sparse_categorical_accuracy: 0.9400\n",
      "Epoch 17/60\n",
      "16/16 - 0s - loss: 0.3167 - sparse_categorical_accuracy: 0.9182 - val_loss: 0.2242 - val_sparse_categorical_accuracy: 0.9400\n",
      "Epoch 18/60\n",
      "16/16 - 0s - loss: 0.3044 - sparse_categorical_accuracy: 0.9202 - val_loss: 0.2169 - val_sparse_categorical_accuracy: 0.9400\n",
      "Epoch 19/60\n",
      "16/16 - 0s - loss: 0.2940 - sparse_categorical_accuracy: 0.9202 - val_loss: 0.2091 - val_sparse_categorical_accuracy: 0.9500\n",
      "Epoch 20/60\n",
      "16/16 - 0s - loss: 0.2833 - sparse_categorical_accuracy: 0.9223 - val_loss: 0.2014 - val_sparse_categorical_accuracy: 0.9500\n",
      "Epoch 21/60\n",
      "16/16 - 0s - loss: 0.2745 - sparse_categorical_accuracy: 0.9284 - val_loss: 0.1945 - val_sparse_categorical_accuracy: 0.9500\n",
      "Epoch 22/60\n",
      "16/16 - 0s - loss: 0.2652 - sparse_categorical_accuracy: 0.9305 - val_loss: 0.1876 - val_sparse_categorical_accuracy: 0.9600\n",
      "Epoch 23/60\n",
      "16/16 - 0s - loss: 0.2570 - sparse_categorical_accuracy: 0.9325 - val_loss: 0.1810 - val_sparse_categorical_accuracy: 0.9700\n",
      "Epoch 24/60\n",
      "16/16 - 0s - loss: 0.2483 - sparse_categorical_accuracy: 0.9325 - val_loss: 0.1748 - val_sparse_categorical_accuracy: 0.9700\n",
      "Epoch 25/60\n",
      "16/16 - 0s - loss: 0.2408 - sparse_categorical_accuracy: 0.9325 - val_loss: 0.1701 - val_sparse_categorical_accuracy: 0.9700\n",
      "Epoch 26/60\n",
      "16/16 - 0s - loss: 0.2338 - sparse_categorical_accuracy: 0.9325 - val_loss: 0.1658 - val_sparse_categorical_accuracy: 0.9700\n",
      "Epoch 27/60\n",
      "16/16 - 0s - loss: 0.2265 - sparse_categorical_accuracy: 0.9387 - val_loss: 0.1614 - val_sparse_categorical_accuracy: 0.9700\n",
      "Epoch 28/60\n",
      "16/16 - 0s - loss: 0.2203 - sparse_categorical_accuracy: 0.9387 - val_loss: 0.1566 - val_sparse_categorical_accuracy: 0.9700\n",
      "Epoch 29/60\n",
      "16/16 - 0s - loss: 0.2131 - sparse_categorical_accuracy: 0.9407 - val_loss: 0.1530 - val_sparse_categorical_accuracy: 0.9700\n",
      "Epoch 30/60\n",
      "16/16 - 0s - loss: 0.2070 - sparse_categorical_accuracy: 0.9407 - val_loss: 0.1482 - val_sparse_categorical_accuracy: 0.9700\n",
      "Epoch 31/60\n",
      "16/16 - 0s - loss: 0.2012 - sparse_categorical_accuracy: 0.9407 - val_loss: 0.1445 - val_sparse_categorical_accuracy: 0.9700\n",
      "Epoch 32/60\n",
      "16/16 - 0s - loss: 0.1945 - sparse_categorical_accuracy: 0.9407 - val_loss: 0.1411 - val_sparse_categorical_accuracy: 0.9700\n",
      "Epoch 33/60\n",
      "16/16 - 0s - loss: 0.1889 - sparse_categorical_accuracy: 0.9407 - val_loss: 0.1377 - val_sparse_categorical_accuracy: 0.9700\n",
      "Epoch 34/60\n",
      "16/16 - 0s - loss: 0.1845 - sparse_categorical_accuracy: 0.9427 - val_loss: 0.1344 - val_sparse_categorical_accuracy: 0.9700\n",
      "Epoch 35/60\n",
      "16/16 - 0s - loss: 0.1787 - sparse_categorical_accuracy: 0.9468 - val_loss: 0.1305 - val_sparse_categorical_accuracy: 0.9700\n",
      "Epoch 36/60\n",
      "16/16 - 0s - loss: 0.1742 - sparse_categorical_accuracy: 0.9489 - val_loss: 0.1273 - val_sparse_categorical_accuracy: 0.9700\n",
      "Epoch 37/60\n",
      "16/16 - 0s - loss: 0.1692 - sparse_categorical_accuracy: 0.9530 - val_loss: 0.1225 - val_sparse_categorical_accuracy: 0.9700\n",
      "Epoch 38/60\n",
      "16/16 - 0s - loss: 0.1646 - sparse_categorical_accuracy: 0.9530 - val_loss: 0.1200 - val_sparse_categorical_accuracy: 0.9700\n",
      "Epoch 39/60\n",
      "16/16 - 0s - loss: 0.1605 - sparse_categorical_accuracy: 0.9530 - val_loss: 0.1164 - val_sparse_categorical_accuracy: 0.9700\n",
      "Epoch 40/60\n",
      "16/16 - 0s - loss: 0.1562 - sparse_categorical_accuracy: 0.9530 - val_loss: 0.1150 - val_sparse_categorical_accuracy: 0.9700\n",
      "Epoch 41/60\n",
      "16/16 - 0s - loss: 0.1524 - sparse_categorical_accuracy: 0.9550 - val_loss: 0.1118 - val_sparse_categorical_accuracy: 0.9700\n",
      "Epoch 42/60\n",
      "16/16 - 0s - loss: 0.1488 - sparse_categorical_accuracy: 0.9550 - val_loss: 0.1088 - val_sparse_categorical_accuracy: 0.9700\n",
      "Epoch 43/60\n",
      "16/16 - 0s - loss: 0.1448 - sparse_categorical_accuracy: 0.9550 - val_loss: 0.1080 - val_sparse_categorical_accuracy: 0.9700\n",
      "Epoch 44/60\n",
      "16/16 - 0s - loss: 0.1413 - sparse_categorical_accuracy: 0.9550 - val_loss: 0.1064 - val_sparse_categorical_accuracy: 0.9600\n",
      "Epoch 45/60\n",
      "16/16 - 0s - loss: 0.1379 - sparse_categorical_accuracy: 0.9550 - val_loss: 0.1022 - val_sparse_categorical_accuracy: 0.9700\n",
      "Epoch 46/60\n",
      "16/16 - 0s - loss: 0.1345 - sparse_categorical_accuracy: 0.9550 - val_loss: 0.1001 - val_sparse_categorical_accuracy: 0.9700\n",
      "Epoch 47/60\n",
      "16/16 - 0s - loss: 0.1313 - sparse_categorical_accuracy: 0.9591 - val_loss: 0.0965 - val_sparse_categorical_accuracy: 0.9700\n",
      "Epoch 48/60\n",
      "16/16 - 0s - loss: 0.1284 - sparse_categorical_accuracy: 0.9591 - val_loss: 0.0926 - val_sparse_categorical_accuracy: 0.9700\n",
      "Epoch 49/60\n",
      "16/16 - 0s - loss: 0.1246 - sparse_categorical_accuracy: 0.9632 - val_loss: 0.0928 - val_sparse_categorical_accuracy: 0.9600\n",
      "Epoch 50/60\n",
      "16/16 - 0s - loss: 0.1223 - sparse_categorical_accuracy: 0.9632 - val_loss: 0.0913 - val_sparse_categorical_accuracy: 0.9600\n",
      "Epoch 51/60\n",
      "16/16 - 0s - loss: 0.1195 - sparse_categorical_accuracy: 0.9632 - val_loss: 0.0882 - val_sparse_categorical_accuracy: 0.9600\n",
      "Epoch 52/60\n",
      "16/16 - 0s - loss: 0.1168 - sparse_categorical_accuracy: 0.9652 - val_loss: 0.0854 - val_sparse_categorical_accuracy: 0.9700\n",
      "Epoch 53/60\n",
      "16/16 - 0s - loss: 0.1142 - sparse_categorical_accuracy: 0.9652 - val_loss: 0.0828 - val_sparse_categorical_accuracy: 0.9700\n",
      "Epoch 54/60\n",
      "16/16 - 0s - loss: 0.1112 - sparse_categorical_accuracy: 0.9714 - val_loss: 0.0801 - val_sparse_categorical_accuracy: 0.9700\n",
      "Epoch 55/60\n",
      "16/16 - 0s - loss: 0.1083 - sparse_categorical_accuracy: 0.9714 - val_loss: 0.0782 - val_sparse_categorical_accuracy: 0.9700\n",
      "Epoch 56/60\n",
      "16/16 - 0s - loss: 0.1061 - sparse_categorical_accuracy: 0.9714 - val_loss: 0.0773 - val_sparse_categorical_accuracy: 0.9700\n",
      "Epoch 57/60\n",
      "16/16 - 0s - loss: 0.1039 - sparse_categorical_accuracy: 0.9714 - val_loss: 0.0762 - val_sparse_categorical_accuracy: 0.9700\n",
      "Epoch 58/60\n",
      "16/16 - 0s - loss: 0.1014 - sparse_categorical_accuracy: 0.9714 - val_loss: 0.0721 - val_sparse_categorical_accuracy: 0.9700\n",
      "Epoch 59/60\n",
      "16/16 - 0s - loss: 0.0992 - sparse_categorical_accuracy: 0.9734 - val_loss: 0.0700 - val_sparse_categorical_accuracy: 0.9700\n",
      "Epoch 60/60\n",
      "16/16 - 0s - loss: 0.0974 - sparse_categorical_accuracy: 0.9734 - val_loss: 0.0707 - val_sparse_categorical_accuracy: 0.9700\n"
     ]
    }
   ],
   "source": [
    "from keras.callbacks import EarlyStopping\n",
    "\n",
    "early_stopping_monitor = EarlyStopping(patience=3)\n",
    "EPOCHS = 60\n",
    "b_history4= baseline_model4.fit(training_examples,training_targets,epochs=EPOCHS,\n",
    "                   validation_data= (validation_examples, validation_targets),verbose=2,\n",
    "                               callbacks=[early_stopping_monitor])"
   ]
  },
  {
   "cell_type": "markdown",
   "metadata": {},
   "source": [
    "### Check minimum and maximum validation accuracy"
   ]
  },
  {
   "cell_type": "code",
   "execution_count": 64,
   "metadata": {},
   "outputs": [
    {
     "name": "stdout",
     "output_type": "stream",
     "text": [
      "Minimum accuracy of validation:  0.7799999713897705\n",
      "Maximum accuracy of validation:  0.9700000286102295\n"
     ]
    }
   ],
   "source": [
    "print(\"Minimum accuracy of validation: \", min(b_history4.history['val_sparse_categorical_accuracy']))\n",
    "print(\"Maximum accuracy of validation: \", max(b_history4.history['val_sparse_categorical_accuracy']))"
   ]
  },
  {
   "cell_type": "markdown",
   "metadata": {},
   "source": [
    "### Check minimum and maximum model accuracy"
   ]
  },
  {
   "cell_type": "code",
   "execution_count": 66,
   "metadata": {},
   "outputs": [
    {
     "name": "stdout",
     "output_type": "stream",
     "text": [
      "Minimum accuracy of model:  0.5848670601844788\n",
      "Maximum accuracy of model:  0.9734151363372803\n"
     ]
    }
   ],
   "source": [
    "print(\"Minimum accuracy of model: \", min(b_history4.history['sparse_categorical_accuracy']))\n",
    "print(\"Maximum accuracy of model: \", max(b_history4.history['sparse_categorical_accuracy']))"
   ]
  },
  {
   "cell_type": "markdown",
   "metadata": {},
   "source": [
    "### Plot Results "
   ]
  },
  {
   "cell_type": "code",
   "execution_count": 67,
   "metadata": {},
   "outputs": [
    {
     "data": {
      "image/png": "[encoded data removed]",
      "text/plain": [
       "<Figure size 1152x720 with 1 Axes>"
      ]
     },
     "metadata": {
      "needs_background": "light"
     },
     "output_type": "display_data"
    }
   ],
   "source": [
    "plot_history([('13 Neurons in hidden layer', b_history3), \n",
    "            ('24 Neurons in hidden layer', b_history4)])"
   ]
  },
  {
   "cell_type": "markdown",
   "metadata": {},
   "source": [
    "## c.\tRegularization "
   ]
  },
  {
   "cell_type": "code",
   "execution_count": 68,
   "metadata": {},
   "outputs": [
    {
     "name": "stdout",
     "output_type": "stream",
     "text": [
      "Model: \"sequential_10\"\n",
      "_________________________________________________________________\n",
      "Layer (type)                 Output Shape              Param #   \n",
      "=================================================================\n",
      "dense_32 (Dense)             (None, 12)                156       \n",
      "_________________________________________________________________\n",
      "dense_33 (Dense)             (None, 8)                 104       \n",
      "_________________________________________________________________\n",
      "dense_34 (Dense)             (None, 5)                 45        \n",
      "=================================================================\n",
      "Total params: 305\n",
      "Trainable params: 305\n",
      "Non-trainable params: 0\n",
      "_________________________________________________________________\n"
     ]
    }
   ],
   "source": [
    "baseline_model_l1 = keras.Sequential([\n",
    "    keras.layers.Dense(12, kernel_regularizer=keras.regularizers.l1(0.01), activation=tf.nn.relu,\n",
    "                       input_shape=(training_examples.shape[1],)),\n",
    "    #keras.layers.Dropout(0.25),\n",
    "    keras.layers.Dense(8,kernel_regularizer=keras.regularizers.l1(0.01), activation=tf.nn.relu),\n",
    "    #keras.layers.Dropout(0.25),\n",
    "    keras.layers.Dense(5, activation=tf.nn.softmax)\n",
    "\n",
    "  ])\n",
    "\n",
    "baseline_model_l1.compile(loss='sparse_categorical_crossentropy',\n",
    "                optimizer=\"adam\",\n",
    "                metrics=['sparse_categorical_accuracy'])\n",
    "baseline_model_l1.summary()"
   ]
  },
  {
   "cell_type": "code",
   "execution_count": 69,
   "metadata": {},
   "outputs": [
    {
     "name": "stdout",
     "output_type": "stream",
     "text": [
      "Epoch 1/60\n",
      "16/16 - 0s - loss: 2.1529 - sparse_categorical_accuracy: 0.2290 - val_loss: 2.0998 - val_sparse_categorical_accuracy: 0.3700\n",
      "Epoch 2/60\n",
      "16/16 - 0s - loss: 2.0095 - sparse_categorical_accuracy: 0.5235 - val_loss: 1.9468 - val_sparse_categorical_accuracy: 0.5900\n",
      "Epoch 3/60\n",
      "16/16 - 0s - loss: 1.8787 - sparse_categorical_accuracy: 0.6953 - val_loss: 1.8028 - val_sparse_categorical_accuracy: 0.7200\n",
      "Epoch 4/60\n",
      "16/16 - 0s - loss: 1.7556 - sparse_categorical_accuracy: 0.7771 - val_loss: 1.6682 - val_sparse_categorical_accuracy: 0.8100\n",
      "Epoch 5/60\n",
      "16/16 - 0s - loss: 1.6417 - sparse_categorical_accuracy: 0.8098 - val_loss: 1.5365 - val_sparse_categorical_accuracy: 0.8500\n",
      "Epoch 6/60\n",
      "16/16 - 0s - loss: 1.5317 - sparse_categorical_accuracy: 0.8405 - val_loss: 1.4201 - val_sparse_categorical_accuracy: 0.8500\n",
      "Epoch 7/60\n",
      "16/16 - 0s - loss: 1.4349 - sparse_categorical_accuracy: 0.8548 - val_loss: 1.3173 - val_sparse_categorical_accuracy: 0.8600\n",
      "Epoch 8/60\n",
      "16/16 - 0s - loss: 1.3478 - sparse_categorical_accuracy: 0.8712 - val_loss: 1.2239 - val_sparse_categorical_accuracy: 0.8800\n",
      "Epoch 9/60\n",
      "16/16 - 0s - loss: 1.2702 - sparse_categorical_accuracy: 0.8814 - val_loss: 1.1424 - val_sparse_categorical_accuracy: 0.8900\n",
      "Epoch 10/60\n",
      "16/16 - 0s - loss: 1.2022 - sparse_categorical_accuracy: 0.8875 - val_loss: 1.0765 - val_sparse_categorical_accuracy: 0.9000\n",
      "Epoch 11/60\n",
      "16/16 - 0s - loss: 1.1443 - sparse_categorical_accuracy: 0.8875 - val_loss: 1.0200 - val_sparse_categorical_accuracy: 0.9000\n",
      "Epoch 12/60\n",
      "16/16 - 0s - loss: 1.0914 - sparse_categorical_accuracy: 0.8855 - val_loss: 0.9712 - val_sparse_categorical_accuracy: 0.9100\n",
      "Epoch 13/60\n",
      "16/16 - 0s - loss: 1.0429 - sparse_categorical_accuracy: 0.8875 - val_loss: 0.9280 - val_sparse_categorical_accuracy: 0.9100\n",
      "Epoch 14/60\n",
      "16/16 - 0s - loss: 1.0002 - sparse_categorical_accuracy: 0.8896 - val_loss: 0.8894 - val_sparse_categorical_accuracy: 0.9200\n",
      "Epoch 15/60\n",
      "16/16 - 0s - loss: 0.9615 - sparse_categorical_accuracy: 0.8937 - val_loss: 0.8555 - val_sparse_categorical_accuracy: 0.9200\n",
      "Epoch 16/60\n",
      "16/16 - 0s - loss: 0.9256 - sparse_categorical_accuracy: 0.8957 - val_loss: 0.8249 - val_sparse_categorical_accuracy: 0.9200\n",
      "Epoch 17/60\n",
      "16/16 - 0s - loss: 0.8950 - sparse_categorical_accuracy: 0.9018 - val_loss: 0.7978 - val_sparse_categorical_accuracy: 0.9400\n",
      "Epoch 18/60\n",
      "16/16 - 0s - loss: 0.8657 - sparse_categorical_accuracy: 0.9059 - val_loss: 0.7723 - val_sparse_categorical_accuracy: 0.9400\n",
      "Epoch 19/60\n",
      "16/16 - 0s - loss: 0.8405 - sparse_categorical_accuracy: 0.9080 - val_loss: 0.7496 - val_sparse_categorical_accuracy: 0.9400\n",
      "Epoch 20/60\n",
      "16/16 - 0s - loss: 0.8178 - sparse_categorical_accuracy: 0.9100 - val_loss: 0.7293 - val_sparse_categorical_accuracy: 0.9400\n",
      "Epoch 21/60\n",
      "16/16 - 0s - loss: 0.7969 - sparse_categorical_accuracy: 0.9121 - val_loss: 0.7101 - val_sparse_categorical_accuracy: 0.9400\n",
      "Epoch 22/60\n",
      "16/16 - 0s - loss: 0.7771 - sparse_categorical_accuracy: 0.9121 - val_loss: 0.6922 - val_sparse_categorical_accuracy: 0.9400\n",
      "Epoch 23/60\n",
      "16/16 - 0s - loss: 0.7583 - sparse_categorical_accuracy: 0.9121 - val_loss: 0.6754 - val_sparse_categorical_accuracy: 0.9400\n",
      "Epoch 24/60\n",
      "16/16 - 0s - loss: 0.7411 - sparse_categorical_accuracy: 0.9141 - val_loss: 0.6592 - val_sparse_categorical_accuracy: 0.9400\n",
      "Epoch 25/60\n",
      "16/16 - 0s - loss: 0.7248 - sparse_categorical_accuracy: 0.9162 - val_loss: 0.6440 - val_sparse_categorical_accuracy: 0.9400\n",
      "Epoch 26/60\n",
      "16/16 - 0s - loss: 0.7100 - sparse_categorical_accuracy: 0.9162 - val_loss: 0.6309 - val_sparse_categorical_accuracy: 0.9400\n",
      "Epoch 27/60\n",
      "16/16 - 0s - loss: 0.6960 - sparse_categorical_accuracy: 0.9162 - val_loss: 0.6179 - val_sparse_categorical_accuracy: 0.9400\n",
      "Epoch 28/60\n",
      "16/16 - 0s - loss: 0.6825 - sparse_categorical_accuracy: 0.9182 - val_loss: 0.6036 - val_sparse_categorical_accuracy: 0.9500\n",
      "Epoch 29/60\n",
      "16/16 - 0s - loss: 0.6695 - sparse_categorical_accuracy: 0.9202 - val_loss: 0.5934 - val_sparse_categorical_accuracy: 0.9400\n",
      "Epoch 30/60\n",
      "16/16 - 0s - loss: 0.6570 - sparse_categorical_accuracy: 0.9202 - val_loss: 0.5800 - val_sparse_categorical_accuracy: 0.9500\n",
      "Epoch 31/60\n",
      "16/16 - 0s - loss: 0.6446 - sparse_categorical_accuracy: 0.9202 - val_loss: 0.5674 - val_sparse_categorical_accuracy: 0.9500\n",
      "Epoch 32/60\n",
      "16/16 - 0s - loss: 0.6333 - sparse_categorical_accuracy: 0.9202 - val_loss: 0.5575 - val_sparse_categorical_accuracy: 0.9500\n",
      "Epoch 33/60\n",
      "16/16 - 0s - loss: 0.6218 - sparse_categorical_accuracy: 0.9202 - val_loss: 0.5460 - val_sparse_categorical_accuracy: 0.9500\n",
      "Epoch 34/60\n",
      "16/16 - 0s - loss: 0.6115 - sparse_categorical_accuracy: 0.9202 - val_loss: 0.5356 - val_sparse_categorical_accuracy: 0.9600\n",
      "Epoch 35/60\n",
      "16/16 - 0s - loss: 0.6012 - sparse_categorical_accuracy: 0.9202 - val_loss: 0.5252 - val_sparse_categorical_accuracy: 0.9600\n",
      "Epoch 36/60\n",
      "16/16 - 0s - loss: 0.5917 - sparse_categorical_accuracy: 0.9243 - val_loss: 0.5145 - val_sparse_categorical_accuracy: 0.9700\n",
      "Epoch 37/60\n",
      "16/16 - 0s - loss: 0.5827 - sparse_categorical_accuracy: 0.9243 - val_loss: 0.5062 - val_sparse_categorical_accuracy: 0.9700\n",
      "Epoch 38/60\n",
      "16/16 - 0s - loss: 0.5737 - sparse_categorical_accuracy: 0.9243 - val_loss: 0.4970 - val_sparse_categorical_accuracy: 0.9700\n",
      "Epoch 39/60\n",
      "16/16 - 0s - loss: 0.5645 - sparse_categorical_accuracy: 0.9264 - val_loss: 0.4877 - val_sparse_categorical_accuracy: 0.9700\n",
      "Epoch 40/60\n",
      "16/16 - 0s - loss: 0.5559 - sparse_categorical_accuracy: 0.9264 - val_loss: 0.4796 - val_sparse_categorical_accuracy: 0.9700\n",
      "Epoch 41/60\n",
      "16/16 - 0s - loss: 0.5476 - sparse_categorical_accuracy: 0.9264 - val_loss: 0.4718 - val_sparse_categorical_accuracy: 0.9700\n",
      "Epoch 42/60\n",
      "16/16 - 0s - loss: 0.5395 - sparse_categorical_accuracy: 0.9264 - val_loss: 0.4650 - val_sparse_categorical_accuracy: 0.9700\n",
      "Epoch 43/60\n",
      "16/16 - 0s - loss: 0.5316 - sparse_categorical_accuracy: 0.9284 - val_loss: 0.4571 - val_sparse_categorical_accuracy: 0.9700\n",
      "Epoch 44/60\n",
      "16/16 - 0s - loss: 0.5239 - sparse_categorical_accuracy: 0.9284 - val_loss: 0.4494 - val_sparse_categorical_accuracy: 0.9700\n",
      "Epoch 45/60\n",
      "16/16 - 0s - loss: 0.5166 - sparse_categorical_accuracy: 0.9284 - val_loss: 0.4417 - val_sparse_categorical_accuracy: 0.9700\n",
      "Epoch 46/60\n",
      "16/16 - 0s - loss: 0.5096 - sparse_categorical_accuracy: 0.9284 - val_loss: 0.4344 - val_sparse_categorical_accuracy: 0.9700\n",
      "Epoch 47/60\n",
      "16/16 - 0s - loss: 0.5020 - sparse_categorical_accuracy: 0.9284 - val_loss: 0.4279 - val_sparse_categorical_accuracy: 0.9700\n",
      "Epoch 48/60\n",
      "16/16 - 0s - loss: 0.4957 - sparse_categorical_accuracy: 0.9284 - val_loss: 0.4213 - val_sparse_categorical_accuracy: 0.9700\n",
      "Epoch 49/60\n",
      "16/16 - 0s - loss: 0.4895 - sparse_categorical_accuracy: 0.9284 - val_loss: 0.4161 - val_sparse_categorical_accuracy: 0.9700\n",
      "Epoch 50/60\n",
      "16/16 - 0s - loss: 0.4832 - sparse_categorical_accuracy: 0.9284 - val_loss: 0.4109 - val_sparse_categorical_accuracy: 0.9700\n",
      "Epoch 51/60\n",
      "16/16 - 0s - loss: 0.4776 - sparse_categorical_accuracy: 0.9264 - val_loss: 0.4055 - val_sparse_categorical_accuracy: 0.9700\n",
      "Epoch 52/60\n",
      "16/16 - 0s - loss: 0.4716 - sparse_categorical_accuracy: 0.9264 - val_loss: 0.3995 - val_sparse_categorical_accuracy: 0.9700\n",
      "Epoch 53/60\n",
      "16/16 - 0s - loss: 0.4662 - sparse_categorical_accuracy: 0.9264 - val_loss: 0.3939 - val_sparse_categorical_accuracy: 0.9700\n",
      "Epoch 54/60\n",
      "16/16 - 0s - loss: 0.4607 - sparse_categorical_accuracy: 0.9264 - val_loss: 0.3889 - val_sparse_categorical_accuracy: 0.9700\n",
      "Epoch 55/60\n",
      "16/16 - 0s - loss: 0.4558 - sparse_categorical_accuracy: 0.9264 - val_loss: 0.3844 - val_sparse_categorical_accuracy: 0.9700\n",
      "Epoch 56/60\n",
      "16/16 - 0s - loss: 0.4510 - sparse_categorical_accuracy: 0.9264 - val_loss: 0.3808 - val_sparse_categorical_accuracy: 0.9700\n",
      "Epoch 57/60\n",
      "16/16 - 0s - loss: 0.4465 - sparse_categorical_accuracy: 0.9264 - val_loss: 0.3780 - val_sparse_categorical_accuracy: 0.9700\n",
      "Epoch 58/60\n",
      "16/16 - 0s - loss: 0.4420 - sparse_categorical_accuracy: 0.9264 - val_loss: 0.3730 - val_sparse_categorical_accuracy: 0.9700\n",
      "Epoch 59/60\n",
      "16/16 - 0s - loss: 0.4377 - sparse_categorical_accuracy: 0.9264 - val_loss: 0.3702 - val_sparse_categorical_accuracy: 0.9700\n",
      "Epoch 60/60\n",
      "16/16 - 0s - loss: 0.4337 - sparse_categorical_accuracy: 0.9264 - val_loss: 0.3667 - val_sparse_categorical_accuracy: 0.9700\n"
     ]
    }
   ],
   "source": [
    "from keras.callbacks import EarlyStopping\n",
    "\n",
    "early_stopping_monitor = EarlyStopping(patience=3)\n",
    "EPOCHS = 60\n",
    "b_historyl1= baseline_model_l1.fit(training_examples,training_targets,epochs=EPOCHS,\n",
    "                   validation_data= (validation_examples, validation_targets),verbose=2,\n",
    "                               callbacks=[early_stopping_monitor])"
   ]
  },
  {
   "cell_type": "markdown",
   "metadata": {},
   "source": [
    "### Check minimum and maximum validation accuracy"
   ]
  },
  {
   "cell_type": "code",
   "execution_count": 70,
   "metadata": {},
   "outputs": [
    {
     "name": "stdout",
     "output_type": "stream",
     "text": [
      "Minimum accuracy of validation:  0.3700000047683716\n",
      "Maximum accuracy of validation:  0.9700000286102295\n"
     ]
    }
   ],
   "source": [
    "print(\"Minimum accuracy of validation: \", min(b_historyl1.history['val_sparse_categorical_accuracy']))\n",
    "print(\"Maximum accuracy of validation: \", max(b_historyl1.history['val_sparse_categorical_accuracy']))"
   ]
  },
  {
   "cell_type": "markdown",
   "metadata": {},
   "source": [
    "### Check minimum and maximum model accuracy"
   ]
  },
  {
   "cell_type": "code",
   "execution_count": 72,
   "metadata": {},
   "outputs": [
    {
     "name": "stdout",
     "output_type": "stream",
     "text": [
      "Minimum accuracy of model:  0.22903884947299957\n",
      "Maximum accuracy of model:  0.9284253716468811\n"
     ]
    }
   ],
   "source": [
    "print(\"Minimum accuracy of model: \", min(b_historyl1.history['sparse_categorical_accuracy']))\n",
    "print(\"Maximum accuracy of model: \", max(b_historyl1.history['sparse_categorical_accuracy']))"
   ]
  },
  {
   "cell_type": "markdown",
   "metadata": {},
   "source": [
    "### Plot Result :"
   ]
  },
  {
   "cell_type": "code",
   "execution_count": 73,
   "metadata": {},
   "outputs": [
    {
     "data": {
      "image/png": "[encoded data removed]",
      "text/plain": [
       "<Figure size 1152x720 with 1 Axes>"
      ]
     },
     "metadata": {
      "needs_background": "light"
     },
     "output_type": "display_data"
    }
   ],
   "source": [
    "plot_history([('Baseline', b_history), \n",
    "            ('L1', b_historyl1)])"
   ]
  },
  {
   "cell_type": "markdown",
   "metadata": {},
   "source": [
    "## d.\tActivation function - ReLU and your choice"
   ]
  },
  {
   "cell_type": "code",
   "execution_count": 39,
   "metadata": {},
   "outputs": [
    {
     "name": "stdout",
     "output_type": "stream",
     "text": [
      "Model: \"sequential_5\"\n",
      "_________________________________________________________________\n",
      "Layer (type)                 Output Shape              Param #   \n",
      "=================================================================\n",
      "dense_16 (Dense)             (None, 12)                156       \n",
      "_________________________________________________________________\n",
      "dense_17 (Dense)             (None, 7)                 91        \n",
      "_________________________________________________________________\n",
      "dense_18 (Dense)             (None, 5)                 40        \n",
      "=================================================================\n",
      "Total params: 287\n",
      "Trainable params: 287\n",
      "Non-trainable params: 0\n",
      "_________________________________________________________________\n"
     ]
    }
   ],
   "source": [
    "baseline_model_tanh = keras.Sequential([\n",
    "    keras.layers.Dense(12, activation=tf.nn.tanh,\n",
    "                       input_shape=(training_examples.shape[1],)),\n",
    "    #keras.layers.Dropout(0.25),\n",
    "    keras.layers.Dense(7, activation=tf.nn.tanh),\n",
    "    #keras.layers.Dropout(0.25),\n",
    "    keras.layers.Dense(5, activation=tf.nn.softmax)\n",
    "\n",
    "  ])\n",
    "\n",
    "\n",
    "baseline_model_tanh.compile(loss='sparse_categorical_crossentropy',\n",
    "                optimizer=\"adam\",\n",
    "                metrics=['sparse_categorical_accuracy'])\n",
    "baseline_model_tanh.summary()"
   ]
  },
  {
   "cell_type": "code",
   "execution_count": 40,
   "metadata": {},
   "outputs": [
    {
     "name": "stdout",
     "output_type": "stream",
     "text": [
      "Epoch 1/60\n",
      "16/16 [==============================] - 0s 29ms/step - loss: 1.7240 - sparse_categorical_accuracy: 0.1513 - val_loss: 1.6880 - val_sparse_categorical_accuracy: 0.2700\n",
      "Epoch 2/60\n",
      "16/16 [==============================] - 0s 4ms/step - loss: 1.5820 - sparse_categorical_accuracy: 0.2802 - val_loss: 1.5575 - val_sparse_categorical_accuracy: 0.3900\n",
      "Epoch 3/60\n",
      "16/16 [==============================] - 0s 3ms/step - loss: 1.4505 - sparse_categorical_accuracy: 0.4335 - val_loss: 1.4333 - val_sparse_categorical_accuracy: 0.5000\n",
      "Epoch 4/60\n",
      "16/16 [==============================] - 0s 3ms/step - loss: 1.3236 - sparse_categorical_accuracy: 0.5583 - val_loss: 1.3109 - val_sparse_categorical_accuracy: 0.6000\n",
      "Epoch 5/60\n",
      "16/16 [==============================] - 0s 4ms/step - loss: 1.1982 - sparse_categorical_accuracy: 0.7014 - val_loss: 1.1841 - val_sparse_categorical_accuracy: 0.7000\n",
      "Epoch 6/60\n",
      "16/16 [==============================] - 0s 2ms/step - loss: 1.0705 - sparse_categorical_accuracy: 0.8160 - val_loss: 1.0616 - val_sparse_categorical_accuracy: 0.8200\n",
      "Epoch 7/60\n",
      "16/16 [==============================] - 0s 4ms/step - loss: 0.9486 - sparse_categorical_accuracy: 0.8569 - val_loss: 0.9390 - val_sparse_categorical_accuracy: 0.8700\n",
      "Epoch 8/60\n",
      "16/16 [==============================] - 0s 4ms/step - loss: 0.8302 - sparse_categorical_accuracy: 0.8814 - val_loss: 0.8279 - val_sparse_categorical_accuracy: 0.8700\n",
      "Epoch 9/60\n",
      "16/16 [==============================] - 0s 4ms/step - loss: 0.7240 - sparse_categorical_accuracy: 0.8916 - val_loss: 0.7251 - val_sparse_categorical_accuracy: 0.8900\n",
      "Epoch 10/60\n",
      "16/16 [==============================] - 0s 3ms/step - loss: 0.6310 - sparse_categorical_accuracy: 0.8978 - val_loss: 0.6356 - val_sparse_categorical_accuracy: 0.8900\n",
      "Epoch 11/60\n",
      "16/16 [==============================] - 0s 3ms/step - loss: 0.5522 - sparse_categorical_accuracy: 0.9018 - val_loss: 0.5553 - val_sparse_categorical_accuracy: 0.8900\n",
      "Epoch 12/60\n",
      "16/16 [==============================] - 0s 4ms/step - loss: 0.4866 - sparse_categorical_accuracy: 0.9059 - val_loss: 0.4895 - val_sparse_categorical_accuracy: 0.9100\n",
      "Epoch 13/60\n",
      "16/16 [==============================] - 0s 4ms/step - loss: 0.4346 - sparse_categorical_accuracy: 0.9080 - val_loss: 0.4378 - val_sparse_categorical_accuracy: 0.9100\n",
      "Epoch 14/60\n",
      "16/16 [==============================] - 0s 7ms/step - loss: 0.3928 - sparse_categorical_accuracy: 0.9121 - val_loss: 0.3930 - val_sparse_categorical_accuracy: 0.9200\n",
      "Epoch 15/60\n",
      "16/16 [==============================] - 0s 4ms/step - loss: 0.3587 - sparse_categorical_accuracy: 0.9141 - val_loss: 0.3576 - val_sparse_categorical_accuracy: 0.9300\n",
      "Epoch 16/60\n",
      "16/16 [==============================] - 0s 4ms/step - loss: 0.3315 - sparse_categorical_accuracy: 0.9162 - val_loss: 0.3276 - val_sparse_categorical_accuracy: 0.9400\n",
      "Epoch 17/60\n",
      "16/16 [==============================] - 0s 3ms/step - loss: 0.3094 - sparse_categorical_accuracy: 0.9182 - val_loss: 0.3044 - val_sparse_categorical_accuracy: 0.9400\n",
      "Epoch 18/60\n",
      "16/16 [==============================] - 0s 3ms/step - loss: 0.2913 - sparse_categorical_accuracy: 0.9223 - val_loss: 0.2831 - val_sparse_categorical_accuracy: 0.9400\n",
      "Epoch 19/60\n",
      "16/16 [==============================] - 0s 3ms/step - loss: 0.2761 - sparse_categorical_accuracy: 0.9284 - val_loss: 0.2642 - val_sparse_categorical_accuracy: 0.9400\n",
      "Epoch 20/60\n",
      "16/16 [==============================] - 0s 2ms/step - loss: 0.2631 - sparse_categorical_accuracy: 0.9284 - val_loss: 0.2494 - val_sparse_categorical_accuracy: 0.9400\n",
      "Epoch 21/60\n",
      "16/16 [==============================] - 0s 3ms/step - loss: 0.2519 - sparse_categorical_accuracy: 0.9284 - val_loss: 0.2362 - val_sparse_categorical_accuracy: 0.9400\n",
      "Epoch 22/60\n",
      "16/16 [==============================] - 0s 4ms/step - loss: 0.2423 - sparse_categorical_accuracy: 0.9305 - val_loss: 0.2244 - val_sparse_categorical_accuracy: 0.9400\n",
      "Epoch 23/60\n",
      "16/16 [==============================] - 0s 4ms/step - loss: 0.2338 - sparse_categorical_accuracy: 0.9325 - val_loss: 0.2143 - val_sparse_categorical_accuracy: 0.9500\n",
      "Epoch 24/60\n",
      "16/16 [==============================] - 0s 3ms/step - loss: 0.2263 - sparse_categorical_accuracy: 0.9346 - val_loss: 0.2047 - val_sparse_categorical_accuracy: 0.9600\n",
      "Epoch 25/60\n",
      "16/16 [==============================] - 0s 3ms/step - loss: 0.2197 - sparse_categorical_accuracy: 0.9346 - val_loss: 0.1959 - val_sparse_categorical_accuracy: 0.9600\n",
      "Epoch 26/60\n",
      "16/16 [==============================] - 0s 3ms/step - loss: 0.2138 - sparse_categorical_accuracy: 0.9387 - val_loss: 0.1885 - val_sparse_categorical_accuracy: 0.9600\n",
      "Epoch 27/60\n",
      "16/16 [==============================] - 0s 3ms/step - loss: 0.2085 - sparse_categorical_accuracy: 0.9407 - val_loss: 0.1815 - val_sparse_categorical_accuracy: 0.9600\n",
      "Epoch 28/60\n",
      "16/16 [==============================] - 0s 3ms/step - loss: 0.2034 - sparse_categorical_accuracy: 0.9427 - val_loss: 0.1747 - val_sparse_categorical_accuracy: 0.9600\n",
      "Epoch 29/60\n",
      "16/16 [==============================] - 0s 3ms/step - loss: 0.1988 - sparse_categorical_accuracy: 0.9427 - val_loss: 0.1688 - val_sparse_categorical_accuracy: 0.9600\n",
      "Epoch 30/60\n",
      "16/16 [==============================] - 0s 3ms/step - loss: 0.1946 - sparse_categorical_accuracy: 0.9468 - val_loss: 0.1631 - val_sparse_categorical_accuracy: 0.9600\n",
      "Epoch 31/60\n",
      "16/16 [==============================] - 0s 3ms/step - loss: 0.1907 - sparse_categorical_accuracy: 0.9468 - val_loss: 0.1581 - val_sparse_categorical_accuracy: 0.9600\n",
      "Epoch 32/60\n",
      "16/16 [==============================] - 0s 2ms/step - loss: 0.1869 - sparse_categorical_accuracy: 0.9489 - val_loss: 0.1535 - val_sparse_categorical_accuracy: 0.9600\n",
      "Epoch 33/60\n",
      "16/16 [==============================] - 0s 3ms/step - loss: 0.1835 - sparse_categorical_accuracy: 0.9489 - val_loss: 0.1491 - val_sparse_categorical_accuracy: 0.9600\n",
      "Epoch 34/60\n",
      "16/16 [==============================] - 0s 4ms/step - loss: 0.1803 - sparse_categorical_accuracy: 0.9509 - val_loss: 0.1453 - val_sparse_categorical_accuracy: 0.9600\n",
      "Epoch 35/60\n",
      "16/16 [==============================] - 0s 3ms/step - loss: 0.1773 - sparse_categorical_accuracy: 0.9571 - val_loss: 0.1405 - val_sparse_categorical_accuracy: 0.9600\n",
      "Epoch 36/60\n",
      "16/16 [==============================] - 0s 3ms/step - loss: 0.1741 - sparse_categorical_accuracy: 0.9571 - val_loss: 0.1368 - val_sparse_categorical_accuracy: 0.9600\n",
      "Epoch 37/60\n",
      "16/16 [==============================] - 0s 5ms/step - loss: 0.1716 - sparse_categorical_accuracy: 0.9530 - val_loss: 0.1335 - val_sparse_categorical_accuracy: 0.9600\n",
      "Epoch 38/60\n",
      "16/16 [==============================] - 0s 5ms/step - loss: 0.1687 - sparse_categorical_accuracy: 0.9530 - val_loss: 0.1306 - val_sparse_categorical_accuracy: 0.9600\n",
      "Epoch 39/60\n",
      "16/16 [==============================] - 0s 5ms/step - loss: 0.1660 - sparse_categorical_accuracy: 0.9550 - val_loss: 0.1272 - val_sparse_categorical_accuracy: 0.9600\n",
      "Epoch 40/60\n",
      "16/16 [==============================] - 0s 4ms/step - loss: 0.1637 - sparse_categorical_accuracy: 0.9550 - val_loss: 0.1247 - val_sparse_categorical_accuracy: 0.9600\n",
      "Epoch 41/60\n",
      "16/16 [==============================] - 0s 5ms/step - loss: 0.1614 - sparse_categorical_accuracy: 0.9550 - val_loss: 0.1213 - val_sparse_categorical_accuracy: 0.9600\n",
      "Epoch 42/60\n",
      "16/16 [==============================] - 0s 4ms/step - loss: 0.1589 - sparse_categorical_accuracy: 0.9550 - val_loss: 0.1191 - val_sparse_categorical_accuracy: 0.9600\n",
      "Epoch 43/60\n",
      "16/16 [==============================] - 0s 4ms/step - loss: 0.1567 - sparse_categorical_accuracy: 0.9591 - val_loss: 0.1174 - val_sparse_categorical_accuracy: 0.9600\n",
      "Epoch 44/60\n",
      "16/16 [==============================] - 0s 8ms/step - loss: 0.1546 - sparse_categorical_accuracy: 0.9591 - val_loss: 0.1150 - val_sparse_categorical_accuracy: 0.9600\n",
      "Epoch 45/60\n",
      "16/16 [==============================] - 0s 3ms/step - loss: 0.1526 - sparse_categorical_accuracy: 0.9611 - val_loss: 0.1127 - val_sparse_categorical_accuracy: 0.9600\n",
      "Epoch 46/60\n",
      "16/16 [==============================] - 0s 3ms/step - loss: 0.1506 - sparse_categorical_accuracy: 0.9611 - val_loss: 0.1099 - val_sparse_categorical_accuracy: 0.9700\n"
     ]
    },
    {
     "name": "stdout",
     "output_type": "stream",
     "text": [
      "Epoch 47/60\n",
      "16/16 [==============================] - 0s 3ms/step - loss: 0.1487 - sparse_categorical_accuracy: 0.9591 - val_loss: 0.1070 - val_sparse_categorical_accuracy: 0.9700\n",
      "Epoch 48/60\n",
      "16/16 [==============================] - 0s 3ms/step - loss: 0.1465 - sparse_categorical_accuracy: 0.9611 - val_loss: 0.1059 - val_sparse_categorical_accuracy: 0.9700\n",
      "Epoch 49/60\n",
      "16/16 [==============================] - 0s 4ms/step - loss: 0.1447 - sparse_categorical_accuracy: 0.9611 - val_loss: 0.1034 - val_sparse_categorical_accuracy: 0.9700\n",
      "Epoch 50/60\n",
      "16/16 [==============================] - 0s 4ms/step - loss: 0.1428 - sparse_categorical_accuracy: 0.9591 - val_loss: 0.1017 - val_sparse_categorical_accuracy: 0.9700\n",
      "Epoch 51/60\n",
      "16/16 [==============================] - 0s 5ms/step - loss: 0.1412 - sparse_categorical_accuracy: 0.9611 - val_loss: 0.0999 - val_sparse_categorical_accuracy: 0.9700\n",
      "Epoch 52/60\n",
      "16/16 [==============================] - 0s 5ms/step - loss: 0.1392 - sparse_categorical_accuracy: 0.9632 - val_loss: 0.0982 - val_sparse_categorical_accuracy: 0.9800\n",
      "Epoch 53/60\n",
      "16/16 [==============================] - 0s 5ms/step - loss: 0.1377 - sparse_categorical_accuracy: 0.9632 - val_loss: 0.0968 - val_sparse_categorical_accuracy: 0.9800\n",
      "Epoch 54/60\n",
      "16/16 [==============================] - 0s 9ms/step - loss: 0.1360 - sparse_categorical_accuracy: 0.9632 - val_loss: 0.0954 - val_sparse_categorical_accuracy: 0.9800\n",
      "Epoch 55/60\n",
      "16/16 [==============================] - 0s 9ms/step - loss: 0.1346 - sparse_categorical_accuracy: 0.9632 - val_loss: 0.0936 - val_sparse_categorical_accuracy: 0.9800\n",
      "Epoch 56/60\n",
      "16/16 [==============================] - 0s 3ms/step - loss: 0.1328 - sparse_categorical_accuracy: 0.9611 - val_loss: 0.0921 - val_sparse_categorical_accuracy: 0.9800\n",
      "Epoch 57/60\n",
      "16/16 [==============================] - 0s 3ms/step - loss: 0.1314 - sparse_categorical_accuracy: 0.9611 - val_loss: 0.0903 - val_sparse_categorical_accuracy: 0.9800\n",
      "Epoch 58/60\n",
      "16/16 [==============================] - 0s 5ms/step - loss: 0.1300 - sparse_categorical_accuracy: 0.9611 - val_loss: 0.0885 - val_sparse_categorical_accuracy: 0.9800\n",
      "Epoch 59/60\n",
      "16/16 [==============================] - 0s 5ms/step - loss: 0.1285 - sparse_categorical_accuracy: 0.9611 - val_loss: 0.0870 - val_sparse_categorical_accuracy: 0.9800\n",
      "Epoch 60/60\n",
      "16/16 [==============================] - 0s 7ms/step - loss: 0.1272 - sparse_categorical_accuracy: 0.9632 - val_loss: 0.0860 - val_sparse_categorical_accuracy: 0.9800\n"
     ]
    }
   ],
   "source": [
    "from keras.callbacks import EarlyStopping\n",
    "EPOCHS = 60\n",
    "early_stopping_monitor = EarlyStopping(monitor = 'val_loss',patience=3)\n",
    "b_history_tanh = baseline_model_tanh.fit(training_examples, training_targets, epochs=EPOCHS,\n",
    "                    validation_data= (validation_examples, validation_targets), verbose=1,\n",
    "                    callbacks=[early_stopping_monitor])"
   ]
  },
  {
   "cell_type": "markdown",
   "metadata": {},
   "source": [
    "### Check minimum and maximum validation accuracy"
   ]
  },
  {
   "cell_type": "code",
   "execution_count": 41,
   "metadata": {},
   "outputs": [
    {
     "name": "stdout",
     "output_type": "stream",
     "text": [
      "Minimum accuracy of validation:  0.27000001072883606\n",
      "Maximum accuracy of validation:  0.9800000190734863\n"
     ]
    }
   ],
   "source": [
    "print(\"Minimum accuracy of validation: \", min(b_history_tanh.history['val_sparse_categorical_accuracy']))\n",
    "print(\"Maximum accuracy of validation: \", max(b_history_tanh.history['val_sparse_categorical_accuracy']))"
   ]
  },
  {
   "cell_type": "markdown",
   "metadata": {},
   "source": [
    "### Check minimum and maximum model accuracy\n"
   ]
  },
  {
   "cell_type": "code",
   "execution_count": 42,
   "metadata": {},
   "outputs": [
    {
     "name": "stdout",
     "output_type": "stream",
     "text": [
      "Minimum accuracy of model:  0.15132924914360046\n",
      "Maximum accuracy of model:  0.9631901979446411\n"
     ]
    }
   ],
   "source": [
    "print(\"Minimum accuracy of model: \", min(b_history_tanh.history['sparse_categorical_accuracy']))\n",
    "print(\"Maximum accuracy of model: \", max(b_history_tanh.history['sparse_categorical_accuracy']))"
   ]
  },
  {
   "cell_type": "markdown",
   "metadata": {},
   "source": [
    "### Plot "
   ]
  },
  {
   "cell_type": "code",
   "execution_count": 43,
   "metadata": {},
   "outputs": [
    {
     "data": {
      "image/png": "[encoded data removed]",
      "text/plain": [
       "<Figure size 1152x720 with 1 Axes>"
      ]
     },
     "metadata": {
      "needs_background": "light"
     },
     "output_type": "display_data"
    }
   ],
   "source": [
    "plot_history([('Baseline', b_history), \n",
    "            ('tanh', b_history_tanh)])"
   ]
  },
  {
   "cell_type": "markdown",
   "metadata": {},
   "source": [
    "## 3. Comparison of Results \n",
    "\n",
    "\n",
    "\n"
   ]
  },
  {
   "cell_type": "markdown",
   "metadata": {},
   "source": [
    "##### a. 1 Hidden Layer vs 2 Hidden Layers:"
   ]
  },
  {
   "cell_type": "markdown",
   "metadata": {},
   "source": [
    "Number of hidden layers is related to model capacity. As number of layers increase, capacity of model will increase and is able to learn more complex functions and thus results in better performance. In this model, we see that the model with 2 hidden layers is performing slightly better than model with 1 hidden layer. The generalization error is less in model with 2 hidden layer. It is better to add more layers to the model than adding more neurons to one existing layer as deeper networks are a more efficient way of utilizing model capacity.Generally speaking, wide networks are good at memorization, but not so good at generalization where as deeper networks are good at generalization and more complex functions can be learned."
   ]
  },
  {
   "cell_type": "markdown",
   "metadata": {},
   "source": [
    "##### b.  Number of neurons in hidden layers between (a)2/3 the size of the input layer, plus the size of the output layer, and (b) twice the size of the input layer:\n"
   ]
  },
  {
   "cell_type": "markdown",
   "metadata": {},
   "source": [
    "Too few neurons in hidden layers may result in underfitting while having too many neurons may result in overfitting. In this model, number of neurons in hidden layers with twice the size of the input layer is giving better results and accuracy than number of neurons with 2/3 the size of the input layer. Because while increasing the number of neurons we are increasing the capacity of the model which result in  better performance. However, increasing it furthur might result in overfitting of the model. "
   ]
  },
  {
   "cell_type": "markdown",
   "metadata": {},
   "source": [
    "#####  c. Regularization:"
   ]
  },
  {
   "cell_type": "markdown",
   "metadata": {},
   "source": [
    "Regularization is a technique used in neural networks to reduce the generalization gap. It overcomes the issue of overfitting. When the capacity of a model is increased to reduce the training error, there is a possibility of model memorizing the data points which basically results in model performing very well on training data but gives poor performance on new data or validation data. This issue can be resolved using regularization. In this model, L1 regularization  is used  which performs the feature selection and overcomes the issue of overfitting and generaization error."
   ]
  },
  {
   "cell_type": "markdown",
   "metadata": {},
   "source": [
    "##### d. Activation function - ReLU and your choice:"
   ]
  },
  {
   "cell_type": "markdown",
   "metadata": {},
   "source": [
    "'baseline_model' is built using ReLU and 'baseline_model_tanh' is built using tanh activation function. \n",
    "\n",
    "ReLu is slightly performing better than Tanh in terms of accuracy and generalization. 'baseline_model' uses ReLU in input and hidden layers and softmax function for output layer. ReLu is less computationally expensive than tanh because it involves simpler mathematical operations and softmax function is used in the output layer for multiclass classification.\n",
    "'baseline_model_tanh' uses tanh in input and hidden layers and softmax as output function.tanh is better at handling negative values. But, it is computationally more expensive than ReLU."
   ]
  },
  {
   "cell_type": "code",
   "execution_count": null,
   "metadata": {},
   "outputs": [],
   "source": []
  }
 ],
 "metadata": {
  "kernelspec": {
   "display_name": "Python 3",
   "language": "python",
   "name": "python3"
  },
  "language_info": {
   "codemirror_mode": {
    "name": "ipython",
    "version": 3
   },
   "file_extension": ".py",
   "mimetype": "text/x-python",
   "name": "python",
   "nbconvert_exporter": "python",
   "pygments_lexer": "ipython3",
   "version": "3.7.3"
  }
 },
 "nbformat": 4,
 "nbformat_minor": 2
}
