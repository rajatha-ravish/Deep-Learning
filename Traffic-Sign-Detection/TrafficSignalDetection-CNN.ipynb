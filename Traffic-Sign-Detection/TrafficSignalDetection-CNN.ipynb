{
 "cells": [
  {
   "cell_type": "markdown",
   "metadata": {},
   "source": [
    "### Import  Libraries"
   ]
  },
  {
   "cell_type": "code",
   "execution_count": 2,
   "metadata": {},
   "outputs": [],
   "source": [
    "import numpy as np \n",
    "import pandas as pd \n",
    "import matplotlib.pyplot as plt\n",
    "import tensorflow as tf\n",
    "import cv2\n",
    "from PIL import Image\n",
    "import os"
   ]
  },
  {
   "cell_type": "markdown",
   "metadata": {},
   "source": [
    "### Read input images and put them into a numpy array"
   ]
  },
  {
   "cell_type": "code",
   "execution_count": 3,
   "metadata": {},
   "outputs": [
    {
     "name": "stdout",
     "output_type": "stream",
     "text": [
      "C:\\Users\\rajat\\Desktop\\DL-project\\Train\\0\\\n",
      "C:\\Users\\rajat\\Desktop\\DL-project\\Train\\1\\\n",
      "C:\\Users\\rajat\\Desktop\\DL-project\\Train\\2\\\n",
      "C:\\Users\\rajat\\Desktop\\DL-project\\Train\\3\\\n",
      "C:\\Users\\rajat\\Desktop\\DL-project\\Train\\4\\\n",
      "C:\\Users\\rajat\\Desktop\\DL-project\\Train\\5\\\n",
      "C:\\Users\\rajat\\Desktop\\DL-project\\Train\\6\\\n",
      "C:\\Users\\rajat\\Desktop\\DL-project\\Train\\7\\\n",
      "C:\\Users\\rajat\\Desktop\\DL-project\\Train\\8\\\n",
      "C:\\Users\\rajat\\Desktop\\DL-project\\Train\\9\\\n",
      "C:\\Users\\rajat\\Desktop\\DL-project\\Train\\10\\\n",
      "C:\\Users\\rajat\\Desktop\\DL-project\\Train\\11\\\n",
      "C:\\Users\\rajat\\Desktop\\DL-project\\Train\\12\\\n",
      "C:\\Users\\rajat\\Desktop\\DL-project\\Train\\13\\\n",
      "C:\\Users\\rajat\\Desktop\\DL-project\\Train\\14\\\n",
      "C:\\Users\\rajat\\Desktop\\DL-project\\Train\\15\\\n",
      "C:\\Users\\rajat\\Desktop\\DL-project\\Train\\16\\\n",
      "C:\\Users\\rajat\\Desktop\\DL-project\\Train\\17\\\n",
      "C:\\Users\\rajat\\Desktop\\DL-project\\Train\\18\\\n",
      "C:\\Users\\rajat\\Desktop\\DL-project\\Train\\19\\\n",
      "C:\\Users\\rajat\\Desktop\\DL-project\\Train\\20\\\n",
      "C:\\Users\\rajat\\Desktop\\DL-project\\Train\\21\\\n",
      "C:\\Users\\rajat\\Desktop\\DL-project\\Train\\22\\\n",
      "C:\\Users\\rajat\\Desktop\\DL-project\\Train\\23\\\n",
      "C:\\Users\\rajat\\Desktop\\DL-project\\Train\\24\\\n",
      "C:\\Users\\rajat\\Desktop\\DL-project\\Train\\25\\\n",
      "C:\\Users\\rajat\\Desktop\\DL-project\\Train\\26\\\n",
      "C:\\Users\\rajat\\Desktop\\DL-project\\Train\\27\\\n",
      "C:\\Users\\rajat\\Desktop\\DL-project\\Train\\28\\\n",
      "C:\\Users\\rajat\\Desktop\\DL-project\\Train\\29\\\n",
      "C:\\Users\\rajat\\Desktop\\DL-project\\Train\\30\\\n",
      "C:\\Users\\rajat\\Desktop\\DL-project\\Train\\31\\\n",
      "C:\\Users\\rajat\\Desktop\\DL-project\\Train\\32\\\n",
      "C:\\Users\\rajat\\Desktop\\DL-project\\Train\\33\\\n",
      "C:\\Users\\rajat\\Desktop\\DL-project\\Train\\34\\\n",
      "C:\\Users\\rajat\\Desktop\\DL-project\\Train\\35\\\n",
      "C:\\Users\\rajat\\Desktop\\DL-project\\Train\\36\\\n",
      "C:\\Users\\rajat\\Desktop\\DL-project\\Train\\37\\\n",
      "C:\\Users\\rajat\\Desktop\\DL-project\\Train\\38\\\n",
      "C:\\Users\\rajat\\Desktop\\DL-project\\Train\\39\\\n",
      "C:\\Users\\rajat\\Desktop\\DL-project\\Train\\40\\\n",
      "C:\\Users\\rajat\\Desktop\\DL-project\\Train\\41\\\n",
      "C:\\Users\\rajat\\Desktop\\DL-project\\Train\\42\\\n"
     ]
    }
   ],
   "source": [
    "\n",
    "data=[]\n",
    "labels=[]\n",
    "\n",
    "height = 30\n",
    "width = 30\n",
    "channels = 3\n",
    "classes = 43\n",
    "n_inputs = height * width*channels\n",
    "\n",
    "for i in range(classes) :\n",
    "    path = \"C:\\\\Users\\\\rajat\\\\Desktop\\\\DL-project\\\\Train\\\\{0}\\\\\".format(i)\n",
    "    print(path)\n",
    "    Class=os.listdir(path)\n",
    "    for a in Class:\n",
    "        try:\n",
    "            image=cv2.imread(path+a)\n",
    "            image_from_array = Image.fromarray(image, 'RGB')\n",
    "            size_image = image_from_array.resize((height, width))\n",
    "            data.append(np.array(size_image))\n",
    "            labels.append(i)\n",
    "        except AttributeError:\n",
    "            print(\" \")\n",
    "            \n",
    "Cells=np.array(data)\n",
    "labels=np.array(labels)\n",
    "\n",
    "#Randomize the order of the input images\n",
    "s=np.arange(Cells.shape[0])\n",
    "np.random.seed(43)\n",
    "np.random.shuffle(s)\n",
    "Cells=Cells[s]\n",
    "labels=labels[s]"
   ]
  },
  {
   "cell_type": "markdown",
   "metadata": {},
   "source": [
    "### Split images into train and validation sets"
   ]
  },
  {
   "cell_type": "code",
   "execution_count": 4,
   "metadata": {},
   "outputs": [],
   "source": [
    "(X_train,X_val)=Cells[(int)(0.2*len(labels)):],Cells[:(int)(0.2*len(labels))]\n",
    "X_train = X_train.astype('float32')/255 \n",
    "X_val = X_val.astype('float32')/255\n",
    "(y_train,y_val)=labels[(int)(0.2*len(labels)):],labels[:(int)(0.2*len(labels))]\n",
    "\n",
    "#Using one hote encoding for the train and validation labels\n",
    "from keras.utils import to_categorical\n",
    "y_train = to_categorical(y_train, 43)\n",
    "y_val = to_categorical(y_val, 43)"
   ]
  },
  {
   "cell_type": "markdown",
   "metadata": {},
   "source": [
    "### Build Model"
   ]
  },
  {
   "cell_type": "code",
   "execution_count": 5,
   "metadata": {},
   "outputs": [
    {
     "name": "stdout",
     "output_type": "stream",
     "text": [
      "Model: \"sequential\"\n",
      "_________________________________________________________________\n",
      "Layer (type)                 Output Shape              Param #   \n",
      "=================================================================\n",
      "conv2d (Conv2D)              (None, 26, 26, 32)        2432      \n",
      "_________________________________________________________________\n",
      "conv2d_1 (Conv2D)            (None, 24, 24, 64)        18496     \n",
      "_________________________________________________________________\n",
      "max_pooling2d (MaxPooling2D) (None, 12, 12, 64)        0         \n",
      "_________________________________________________________________\n",
      "dropout (Dropout)            (None, 12, 12, 64)        0         \n",
      "_________________________________________________________________\n",
      "conv2d_2 (Conv2D)            (None, 10, 10, 64)        36928     \n",
      "_________________________________________________________________\n",
      "max_pooling2d_1 (MaxPooling2 (None, 5, 5, 64)          0         \n",
      "_________________________________________________________________\n",
      "dropout_1 (Dropout)          (None, 5, 5, 64)          0         \n",
      "_________________________________________________________________\n",
      "flatten (Flatten)            (None, 1600)              0         \n",
      "_________________________________________________________________\n",
      "dense (Dense)                (None, 256)               409856    \n",
      "_________________________________________________________________\n",
      "dropout_2 (Dropout)          (None, 256)               0         \n",
      "_________________________________________________________________\n",
      "dense_1 (Dense)              (None, 43)                11051     \n",
      "=================================================================\n",
      "Total params: 478,763\n",
      "Trainable params: 478,763\n",
      "Non-trainable params: 0\n",
      "_________________________________________________________________\n"
     ]
    }
   ],
   "source": [
    "from keras.models import Sequential\n",
    "from keras.layers import Conv2D, MaxPool2D, Dense, Flatten, Dropout\n",
    "\n",
    "model = Sequential()\n",
    "model.add(Conv2D(filters=32, kernel_size=(5,5), activation='relu', input_shape=X_train.shape[1:]))\n",
    "model.add(Conv2D(filters=64, kernel_size=(3, 3), activation='relu'))\n",
    "model.add(MaxPool2D(pool_size=(2, 2)))\n",
    "model.add(Dropout(rate=0.25))\n",
    "model.add(Conv2D(filters=64, kernel_size=(3, 3), activation='relu'))\n",
    "model.add(MaxPool2D(pool_size=(2, 2)))\n",
    "model.add(Dropout(rate=0.25))\n",
    "model.add(Flatten())\n",
    "model.add(Dense(256, activation='sigmoid'))\n",
    "model.add(Dropout(rate=0.5))\n",
    "model.add(Dense(43, activation='softmax'))\n",
    "model.summary()\n"
   ]
  },
  {
   "cell_type": "markdown",
   "metadata": {},
   "source": [
    "### Compilation of the model"
   ]
  },
  {
   "cell_type": "code",
   "execution_count": 7,
   "metadata": {},
   "outputs": [],
   "source": [
    "model.compile(\n",
    "    loss='categorical_crossentropy', \n",
    "    optimizer='RMSprop', \n",
    "    metrics=['accuracy']\n",
    ")"
   ]
  },
  {
   "cell_type": "markdown",
   "metadata": {},
   "source": [
    "### Fit model"
   ]
  },
  {
   "cell_type": "code",
   "execution_count": 8,
   "metadata": {},
   "outputs": [
    {
     "name": "stdout",
     "output_type": "stream",
     "text": [
      "Epoch 1/20\n",
      "491/491 [==============================] - 63s 127ms/step - loss: 1.5486 - accuracy: 0.5740 - val_loss: 0.3967 - val_accuracy: 0.8955\n",
      "Epoch 2/20\n",
      "491/491 [==============================] - 62s 126ms/step - loss: 0.3293 - accuracy: 0.9066 - val_loss: 0.1131 - val_accuracy: 0.9705\n",
      "Epoch 3/20\n",
      "491/491 [==============================] - 63s 128ms/step - loss: 0.1510 - accuracy: 0.9588 - val_loss: 0.0566 - val_accuracy: 0.9857\n",
      "Epoch 4/20\n",
      "491/491 [==============================] - 62s 126ms/step - loss: 0.0937 - accuracy: 0.9732 - val_loss: 0.0382 - val_accuracy: 0.9904\n",
      "Epoch 5/20\n",
      "491/491 [==============================] - 63s 129ms/step - loss: 0.0704 - accuracy: 0.9795 - val_loss: 0.0344 - val_accuracy: 0.9908\n",
      "Epoch 6/20\n",
      "491/491 [==============================] - 57s 115ms/step - loss: 0.0533 - accuracy: 0.9842 - val_loss: 0.0279 - val_accuracy: 0.9927\n",
      "Epoch 7/20\n",
      "491/491 [==============================] - 57s 115ms/step - loss: 0.0426 - accuracy: 0.9869 - val_loss: 0.0274 - val_accuracy: 0.9934\n",
      "Epoch 8/20\n",
      "491/491 [==============================] - 57s 116ms/step - loss: 0.0404 - accuracy: 0.9884 - val_loss: 0.0237 - val_accuracy: 0.9940\n",
      "Epoch 9/20\n",
      "491/491 [==============================] - 57s 116ms/step - loss: 0.0357 - accuracy: 0.9896 - val_loss: 0.0238 - val_accuracy: 0.9945\n",
      "Epoch 10/20\n",
      "491/491 [==============================] - 57s 116ms/step - loss: 0.0355 - accuracy: 0.9897 - val_loss: 0.0254 - val_accuracy: 0.9948\n",
      "Epoch 11/20\n",
      "491/491 [==============================] - 57s 117ms/step - loss: 0.0351 - accuracy: 0.9893 - val_loss: 0.0202 - val_accuracy: 0.9960\n",
      "Epoch 12/20\n",
      "491/491 [==============================] - 57s 117ms/step - loss: 0.0292 - accuracy: 0.9915 - val_loss: 0.0243 - val_accuracy: 0.9946\n",
      "Epoch 13/20\n",
      "491/491 [==============================] - 57s 117ms/step - loss: 0.0271 - accuracy: 0.9919 - val_loss: 0.0220 - val_accuracy: 0.9954\n",
      "Epoch 14/20\n",
      "491/491 [==============================] - 58s 119ms/step - loss: 0.0253 - accuracy: 0.9926 - val_loss: 0.0276 - val_accuracy: 0.9946\n",
      "Epoch 15/20\n",
      "491/491 [==============================] - 58s 118ms/step - loss: 0.0241 - accuracy: 0.9925 - val_loss: 0.0236 - val_accuracy: 0.9950\n",
      "Epoch 16/20\n",
      "491/491 [==============================] - 58s 118ms/step - loss: 0.0234 - accuracy: 0.9929 - val_loss: 0.0201 - val_accuracy: 0.9955\n",
      "Epoch 17/20\n",
      "491/491 [==============================] - 59s 121ms/step - loss: 0.0253 - accuracy: 0.9923 - val_loss: 0.0226 - val_accuracy: 0.9958\n",
      "Epoch 18/20\n",
      "491/491 [==============================] - 58s 118ms/step - loss: 0.0238 - accuracy: 0.9925 - val_loss: 0.0227 - val_accuracy: 0.9955\n",
      "Epoch 19/20\n",
      "491/491 [==============================] - 262s 534ms/step - loss: 0.0244 - accuracy: 0.9919 - val_loss: 0.0207 - val_accuracy: 0.9959\n",
      "Epoch 20/20\n",
      "491/491 [==============================] - 73s 148ms/step - loss: 0.0233 - accuracy: 0.9930 - val_loss: 0.0170 - val_accuracy: 0.9973\n"
     ]
    }
   ],
   "source": [
    "epochs = 20\n",
    "history = model.fit(X_train, y_train, batch_size=64, epochs=epochs,\n",
    "validation_data=(X_val, y_val))\n"
   ]
  },
  {
   "cell_type": "markdown",
   "metadata": {},
   "source": [
    "### Plot Graph"
   ]
  },
  {
   "cell_type": "code",
   "execution_count": 9,
   "metadata": {},
   "outputs": [
    {
     "data": {
      "text/plain": [
       "<matplotlib.legend.Legend at 0x18525cbf5e0>"
      ]
     },
     "execution_count": 9,
     "metadata": {},
     "output_type": "execute_result"
    },
    {
     "data": {
      "image/png": "[encoded data removed]",
      "text/plain": [
       "<Figure size 432x288 with 1 Axes>"
      ]
     },
     "metadata": {
      "needs_background": "light"
     },
     "output_type": "display_data"
    },
    {
     "data": {
      "image/png": "[encoded data removed]",
      "text/plain": [
       "<Figure size 432x288 with 1 Axes>"
      ]
     },
     "metadata": {
      "needs_background": "light"
     },
     "output_type": "display_data"
    }
   ],
   "source": [
    "import matplotlib.pyplot as plt\n",
    "\n",
    "plt.figure(0)\n",
    "plt.plot(history.history['accuracy'], label='training accuracy')\n",
    "plt.plot(history.history['val_accuracy'], label='val accuracy')\n",
    "plt.title('Accuracy')\n",
    "plt.xlabel('epochs')\n",
    "plt.ylabel('accuracy')\n",
    "plt.legend()\n",
    "\n",
    "plt.figure(1)\n",
    "plt.plot(history.history['loss'], label='training loss')\n",
    "plt.plot(history.history['val_loss'], label='val loss')\n",
    "plt.title('Loss')\n",
    "plt.xlabel('epochs')\n",
    "plt.ylabel('loss')\n",
    "plt.legend()"
   ]
  },
  {
   "cell_type": "markdown",
   "metadata": {},
   "source": [
    "### Prediction on test data"
   ]
  },
  {
   "cell_type": "code",
   "execution_count": 10,
   "metadata": {},
   "outputs": [
    {
     "name": "stdout",
     "output_type": "stream",
     "text": [
      "WARNING:tensorflow:From <ipython-input-10-c0f106dd76a1>:17: Sequential.predict_classes (from tensorflow.python.keras.engine.sequential) is deprecated and will be removed after 2021-01-01.\n",
      "Instructions for updating:\n",
      "Please use instead:* `np.argmax(model.predict(x), axis=-1)`,   if your model does multi-class classification   (e.g. if it uses a `softmax` last-layer activation).* `(model.predict(x) > 0.5).astype(\"int32\")`,   if your model does binary classification   (e.g. if it uses a `sigmoid` last-layer activation).\n"
     ]
    }
   ],
   "source": [
    "y_test=pd.read_csv(\"C:\\\\Users\\\\rajat\\\\Desktop\\\\DL-project\\\\Test.csv\")\n",
    "labels=y_test['Path'].to_numpy()\n",
    "y_test=y_test['ClassId'].values\n",
    "\n",
    "data=[]\n",
    "\n",
    "for f in labels:\n",
    "    image=cv2.imread('C:\\\\Users\\\\rajat\\\\Desktop\\\\DL-project\\\\'+f.replace('Test\\\\', ''))\n",
    "    image_from_array = Image.fromarray(image, 'RGB')\n",
    "    size_image = image_from_array.resize((height, width))\n",
    "    data.append(np.array(size_image))\n",
    "\n",
    "X_test=np.array(data)\n",
    "X_test = X_test.astype('float32')/255 \n",
    "pred = model.predict_classes(X_test)"
   ]
  },
  {
   "cell_type": "markdown",
   "metadata": {},
   "source": [
    "### Accuracy with the test data"
   ]
  },
  {
   "cell_type": "code",
   "execution_count": 11,
   "metadata": {},
   "outputs": [
    {
     "data": {
      "text/plain": [
       "0.9747426761678543"
      ]
     },
     "execution_count": 11,
     "metadata": {},
     "output_type": "execute_result"
    }
   ],
   "source": [
    "from sklearn.metrics import accuracy_score\n",
    "accuracy_score(y_test, pred)"
   ]
  },
  {
   "cell_type": "markdown",
   "metadata": {},
   "source": [
    "### Save Model"
   ]
  },
  {
   "cell_type": "code",
   "execution_count": 12,
   "metadata": {},
   "outputs": [],
   "source": [
    "\n",
    "#os.chdir('C:\\\\Users\\\\rajat\\\\Desktop\\\\DL-project')\n",
    "#os.mkdir('training')\n",
    "\n",
    "#np.save('./training/data',data)\n",
    "#np.save('./training/target',labels)\n",
    "\n",
    "model.save(\"TSR_CNN.h5\")\n"
   ]
  },
  {
   "cell_type": "markdown",
   "metadata": {},
   "source": [
    "### Load Model"
   ]
  },
  {
   "cell_type": "code",
   "execution_count": 10,
   "metadata": {},
   "outputs": [],
   "source": [
    "from keras.models import load_model\n",
    "model = load_model('TSR_CNN.h5')"
   ]
  },
  {
   "cell_type": "markdown",
   "metadata": {},
   "source": [
    "### Classes of Traffic Signs"
   ]
  },
  {
   "cell_type": "code",
   "execution_count": 11,
   "metadata": {},
   "outputs": [],
   "source": [
    "\n",
    "classes = { 0:'Speed limit (20km/h)',\n",
    "            1:'Speed limit (30km/h)', \n",
    "            2:'Speed limit (50km/h)', \n",
    "            3:'Speed limit (60km/h)', \n",
    "            4:'Speed limit (70km/h)', \n",
    "            5:'Speed limit (80km/h)', \n",
    "            6:'End of speed limit (80km/h)', \n",
    "            7:'Speed limit (100km/h)', \n",
    "            8:'Speed limit (120km/h)', \n",
    "            9:'No passing', \n",
    "            10:'No passing veh over 3.5 tons', \n",
    "            11:'Right-of-way at intersection', \n",
    "            12:'Priority road', \n",
    "            13:'Yield', \n",
    "            14:'Stop', \n",
    "            15:'No vehicles', \n",
    "            16:'Veh > 3.5 tons prohibited', \n",
    "            17:'No entry', \n",
    "            18:'General caution', \n",
    "            19:'Dangerous curve left', \n",
    "            20:'Dangerous curve right', \n",
    "            21:'Double curve', \n",
    "            22:'Bumpy road', \n",
    "            23:'Slippery road', \n",
    "            24:'Road narrows on the right', \n",
    "            25:'Road work', \n",
    "            26:'Traffic signals', \n",
    "            27:'Pedestrians', \n",
    "            28:'Children crossing', \n",
    "            29:'Bicycles crossing', \n",
    "            30:'Beware of ice/snow',\n",
    "            31:'Wild animals crossing', \n",
    "            32:'End speed + passing limits', \n",
    "            33:'Turn right ahead', \n",
    "            34:'Turn left ahead', \n",
    "            35:'Ahead only', \n",
    "            36:'Go straight or right', \n",
    "            37:'Go straight or left', \n",
    "            38:'Keep right', \n",
    "            39:'Keep left', \n",
    "            40:'Roundabout mandatory', \n",
    "            41:'End of no passing', \n",
    "            42:'End no passing veh > 3.5 tons' }"
   ]
  },
  {
   "cell_type": "markdown",
   "metadata": {},
   "source": [
    "### To test on Test Images"
   ]
  },
  {
   "cell_type": "code",
   "execution_count": 12,
   "metadata": {},
   "outputs": [],
   "source": [
    "from PIL import Image\n",
    "import numpy as np\n",
    "import matplotlib.pyplot as plt\n",
    "def test_on_img(img):\n",
    "    data=[]\n",
    "    image = Image.open(img)\n",
    "    image = image.resize((30,30))\n",
    "    data.append(np.array(image))\n",
    "    X_test=np.array(data)\n",
    "    Y_pred = model.predict_classes(X_test)\n",
    "    return image,Y_pred"
   ]
  },
  {
   "cell_type": "markdown",
   "metadata": {},
   "source": [
    "### Predictions"
   ]
  },
  {
   "cell_type": "code",
   "execution_count": 13,
   "metadata": {},
   "outputs": [
    {
     "name": "stdout",
     "output_type": "stream",
     "text": [
      "Predicted traffic sign is:  Speed limit (30km/h)\n"
     ]
    },
    {
     "data": {
      "image/png": "[encoded data removed]",
      "text/plain": [
       "<Figure size 432x288 with 1 Axes>"
      ]
     },
     "metadata": {
      "needs_background": "light"
     },
     "output_type": "display_data"
    }
   ],
   "source": [
    "plot,prediction = test_on_img(\"C:\\\\Users\\\\rajat\\\\Desktop\\\\DL-project\\\\Test\\\\00024.png\")\n",
    "s = [str(i) for i in prediction] \n",
    "a = 0\n",
    "a = int(\"\".join(s)) \n",
    "print(\"Predicted traffic sign is: \", classes[a])\n",
    "plt.imshow(plot)\n",
    "plt.show()"
   ]
  },
  {
   "cell_type": "code",
   "execution_count": 14,
   "metadata": {},
   "outputs": [
    {
     "name": "stdout",
     "output_type": "stream",
     "text": [
      "Predicted traffic sign is:  General caution\n"
     ]
    },
    {
     "data": {
      "image/png": "[encoded data removed]",
      "text/plain": [
       "<Figure size 432x288 with 1 Axes>"
      ]
     },
     "metadata": {
      "needs_background": "light"
     },
     "output_type": "display_data"
    }
   ],
   "source": [
    "plot,prediction = test_on_img(\"C:\\\\Users\\\\rajat\\\\Desktop\\\\DL-project\\\\Test\\\\00042.png\")\n",
    "s = [str(i) for i in prediction] \n",
    "a = 0\n",
    "a = int(\"\".join(s)) \n",
    "print(\"Predicted traffic sign is: \", classes[a])\n",
    "plt.imshow(plot)\n",
    "plt.show()"
   ]
  },
  {
   "cell_type": "code",
   "execution_count": 15,
   "metadata": {},
   "outputs": [
    {
     "name": "stdout",
     "output_type": "stream",
     "text": [
      "Predicted traffic sign is:  Veh > 3.5 tons prohibited\n"
     ]
    },
    {
     "data": {
      "image/png": "[encoded data removed]",
      "text/plain": [
       "<Figure size 432x288 with 1 Axes>"
      ]
     },
     "metadata": {
      "needs_background": "light"
     },
     "output_type": "display_data"
    }
   ],
   "source": [
    "plot,prediction = test_on_img(\"C:\\\\Users\\\\rajat\\\\Desktop\\\\DL-project\\\\Test\\\\00352.png\")\n",
    "s = [str(i) for i in prediction] \n",
    "a = 0\n",
    "a = int(\"\".join(s)) \n",
    "print(\"Predicted traffic sign is: \", classes[a])\n",
    "plt.imshow(plot)\n",
    "plt.show()"
   ]
  },
  {
   "cell_type": "code",
   "execution_count": 16,
   "metadata": {},
   "outputs": [
    {
     "name": "stdout",
     "output_type": "stream",
     "text": [
      "Predicted traffic sign is:  Road work\n"
     ]
    },
    {
     "data": {
      "image/png": "[encoded data removed]",
      "text/plain": [
       "<Figure size 432x288 with 1 Axes>"
      ]
     },
     "metadata": {
      "needs_background": "light"
     },
     "output_type": "display_data"
    }
   ],
   "source": [
    "plot,prediction = test_on_img(\"C:\\\\Users\\\\rajat\\\\Desktop\\\\DL-project\\\\Test\\\\00008.png\")\n",
    "s = [str(i) for i in prediction] \n",
    "a = 0\n",
    "a = int(\"\".join(s)) \n",
    "print(\"Predicted traffic sign is: \", classes[a])\n",
    "plt.imshow(plot)\n",
    "plt.show()"
   ]
  },
  {
   "cell_type": "code",
   "execution_count": 9,
   "metadata": {},
   "outputs": [
    {
     "name": "stdout",
     "output_type": "stream",
     "text": [
      "Predicted traffic sign is:  Beware of ice/snow\n"
     ]
    },
    {
     "data": {
      "image/png": "[encoded data removed]",
      "text/plain": [
       "<Figure size 432x288 with 1 Axes>"
      ]
     },
     "metadata": {
      "needs_background": "light"
     },
     "output_type": "display_data"
    }
   ],
   "source": [
    "plot,prediction = test_on_img(\"C:\\\\Users\\\\rajat\\\\Desktop\\\\DL-project\\\\Test\\\\00016.png\")\n",
    "s = [str(i) for i in prediction] \n",
    "a = 0\n",
    "a = int(\"\".join(s)) \n",
    "print(\"Predicted traffic sign is: \", classes[a])\n",
    "plt.imshow(plot)\n",
    "plt.show()"
   ]
  }
 ],
 "metadata": {
  "kernelspec": {
   "display_name": "Python 3",
   "language": "python",
   "name": "python3"
  },
  "language_info": {
   "codemirror_mode": {
    "name": "ipython",
    "version": 3
   },
   "file_extension": ".py",
   "mimetype": "text/x-python",
   "name": "python",
   "nbconvert_exporter": "python",
   "pygments_lexer": "ipython3",
   "version": "3.7.3"
  }
 },
 "nbformat": 4,
 "nbformat_minor": 4
}
