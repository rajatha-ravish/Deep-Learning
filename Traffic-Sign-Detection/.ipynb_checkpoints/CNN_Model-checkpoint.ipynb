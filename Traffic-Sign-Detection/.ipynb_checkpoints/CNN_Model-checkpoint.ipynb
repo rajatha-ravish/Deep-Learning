{
 "cells": [
  {
   "cell_type": "code",
   "execution_count": null,
   "metadata": {},
   "outputs": [],
   "source": [
    "#Import important libraries"
   ]
  },
  {
   "cell_type": "code",
   "execution_count": 4,
   "metadata": {},
   "outputs": [],
   "source": [
    "import numpy as np \n",
    "import pandas as pd \n",
    "import matplotlib.pyplot as plt\n",
    "import tensorflow as tf\n",
    "import cv2\n",
    "from PIL import Image\n",
    "import os"
   ]
  },
  {
   "cell_type": "code",
   "execution_count": 3,
   "metadata": {},
   "outputs": [
    {
     "name": "stdout",
     "output_type": "stream",
     "text": [
      "C:\\Users\\karis\\Downloads\\archive\\Train\\0\\\n",
      "C:\\Users\\karis\\Downloads\\archive\\Train\\1\\\n",
      "C:\\Users\\karis\\Downloads\\archive\\Train\\2\\\n",
      "C:\\Users\\karis\\Downloads\\archive\\Train\\3\\\n",
      "C:\\Users\\karis\\Downloads\\archive\\Train\\4\\\n",
      "C:\\Users\\karis\\Downloads\\archive\\Train\\5\\\n",
      "C:\\Users\\karis\\Downloads\\archive\\Train\\6\\\n",
      "C:\\Users\\karis\\Downloads\\archive\\Train\\7\\\n",
      "C:\\Users\\karis\\Downloads\\archive\\Train\\8\\\n",
      "C:\\Users\\karis\\Downloads\\archive\\Train\\9\\\n",
      "C:\\Users\\karis\\Downloads\\archive\\Train\\10\\\n",
      "C:\\Users\\karis\\Downloads\\archive\\Train\\11\\\n",
      "C:\\Users\\karis\\Downloads\\archive\\Train\\12\\\n",
      "C:\\Users\\karis\\Downloads\\archive\\Train\\13\\\n",
      "C:\\Users\\karis\\Downloads\\archive\\Train\\14\\\n",
      "C:\\Users\\karis\\Downloads\\archive\\Train\\15\\\n",
      "C:\\Users\\karis\\Downloads\\archive\\Train\\16\\\n",
      "C:\\Users\\karis\\Downloads\\archive\\Train\\17\\\n",
      "C:\\Users\\karis\\Downloads\\archive\\Train\\18\\\n",
      "C:\\Users\\karis\\Downloads\\archive\\Train\\19\\\n",
      "C:\\Users\\karis\\Downloads\\archive\\Train\\20\\\n",
      "C:\\Users\\karis\\Downloads\\archive\\Train\\21\\\n",
      "C:\\Users\\karis\\Downloads\\archive\\Train\\22\\\n",
      "C:\\Users\\karis\\Downloads\\archive\\Train\\23\\\n",
      "C:\\Users\\karis\\Downloads\\archive\\Train\\24\\\n",
      "C:\\Users\\karis\\Downloads\\archive\\Train\\25\\\n",
      "C:\\Users\\karis\\Downloads\\archive\\Train\\26\\\n",
      "C:\\Users\\karis\\Downloads\\archive\\Train\\27\\\n",
      "C:\\Users\\karis\\Downloads\\archive\\Train\\28\\\n",
      "C:\\Users\\karis\\Downloads\\archive\\Train\\29\\\n",
      "C:\\Users\\karis\\Downloads\\archive\\Train\\30\\\n",
      "C:\\Users\\karis\\Downloads\\archive\\Train\\31\\\n",
      "C:\\Users\\karis\\Downloads\\archive\\Train\\32\\\n",
      "C:\\Users\\karis\\Downloads\\archive\\Train\\33\\\n",
      "C:\\Users\\karis\\Downloads\\archive\\Train\\34\\\n",
      "C:\\Users\\karis\\Downloads\\archive\\Train\\35\\\n",
      "C:\\Users\\karis\\Downloads\\archive\\Train\\36\\\n",
      "C:\\Users\\karis\\Downloads\\archive\\Train\\37\\\n",
      "C:\\Users\\karis\\Downloads\\archive\\Train\\38\\\n",
      "C:\\Users\\karis\\Downloads\\archive\\Train\\39\\\n",
      "C:\\Users\\karis\\Downloads\\archive\\Train\\40\\\n",
      "C:\\Users\\karis\\Downloads\\archive\\Train\\41\\\n",
      "C:\\Users\\karis\\Downloads\\archive\\Train\\42\\\n"
     ]
    }
   ],
   "source": [
    "# Reading the input images and putting them into a numpy array\n",
    "\n",
    "data=[]\n",
    "labels=[]\n",
    "\n",
    "height = 30\n",
    "width = 30\n",
    "channels = 3\n",
    "classes = 43\n",
    "n_inputs = height * width*channels\n",
    "\n",
    "for i in range(classes) :\n",
    "    path = \"C:\\\\Users\\\\karis\\\\Downloads\\\\archive\\\\Train\\\\{0}\\\\\".format(i)\n",
    "    print(path)\n",
    "    Class=os.listdir(path)\n",
    "    for a in Class:\n",
    "        try:\n",
    "            image=cv2.imread(path+a)\n",
    "            image_from_array = Image.fromarray(image, 'RGB')\n",
    "            size_image = image_from_array.resize((height, width))\n",
    "            data.append(np.array(size_image))\n",
    "            labels.append(i)\n",
    "        except AttributeError:\n",
    "            print(\" \")\n",
    "            \n",
    "Cells=np.array(data)\n",
    "labels=np.array(labels)\n",
    "\n",
    "#Randomize the order of the input images\n",
    "s=np.arange(Cells.shape[0])\n",
    "np.random.seed(43)\n",
    "np.random.shuffle(s)\n",
    "Cells=Cells[s]\n",
    "labels=labels[s]"
   ]
  },
  {
   "cell_type": "code",
   "execution_count": 5,
   "metadata": {},
   "outputs": [
    {
     "name": "stderr",
     "output_type": "stream",
     "text": [
      "Using TensorFlow backend.\n"
     ]
    }
   ],
   "source": [
    "#Splitting the images into train and validation sets\n",
    "\n",
    "(X_train,X_val)=Cells[(int)(0.2*len(labels)):],Cells[:(int)(0.2*len(labels))]\n",
    "X_train = X_train.astype('float32')/255 \n",
    "X_val = X_val.astype('float32')/255\n",
    "(y_train,y_val)=labels[(int)(0.2*len(labels)):],labels[:(int)(0.2*len(labels))]\n",
    "\n",
    "#Using one hote encoding for the train and validation labels\n",
    "from keras.utils import to_categorical\n",
    "y_train = to_categorical(y_train, 43)\n",
    "y_val = to_categorical(y_val, 43)"
   ]
  },
  {
   "cell_type": "code",
   "execution_count": 6,
   "metadata": {},
   "outputs": [
    {
     "name": "stdout",
     "output_type": "stream",
     "text": [
      "Model: \"sequential_1\"\n",
      "_________________________________________________________________\n",
      "Layer (type)                 Output Shape              Param #   \n",
      "=================================================================\n",
      "conv2d_1 (Conv2D)            (None, 26, 26, 32)        2432      \n",
      "_________________________________________________________________\n",
      "conv2d_2 (Conv2D)            (None, 24, 24, 64)        18496     \n",
      "_________________________________________________________________\n",
      "max_pooling2d_1 (MaxPooling2 (None, 12, 12, 64)        0         \n",
      "_________________________________________________________________\n",
      "dropout_1 (Dropout)          (None, 12, 12, 64)        0         \n",
      "_________________________________________________________________\n",
      "conv2d_3 (Conv2D)            (None, 10, 10, 64)        36928     \n",
      "_________________________________________________________________\n",
      "max_pooling2d_2 (MaxPooling2 (None, 5, 5, 64)          0         \n",
      "_________________________________________________________________\n",
      "dropout_2 (Dropout)          (None, 5, 5, 64)          0         \n",
      "_________________________________________________________________\n",
      "flatten_1 (Flatten)          (None, 1600)              0         \n",
      "_________________________________________________________________\n",
      "dense_1 (Dense)              (None, 256)               409856    \n",
      "_________________________________________________________________\n",
      "dropout_3 (Dropout)          (None, 256)               0         \n",
      "_________________________________________________________________\n",
      "dense_2 (Dense)              (None, 43)                11051     \n",
      "=================================================================\n",
      "Total params: 478,763\n",
      "Trainable params: 478,763\n",
      "Non-trainable params: 0\n",
      "_________________________________________________________________\n"
     ]
    }
   ],
   "source": [
    "# Build Model\n",
    "\n",
    "\n",
    "from keras.models import Sequential\n",
    "from keras.layers import Conv2D, MaxPool2D, Dense, Flatten, Dropout\n",
    "\n",
    "model = Sequential()\n",
    "model.add(Conv2D(filters=32, kernel_size=(5,5), activation='relu', input_shape=X_train.shape[1:]))\n",
    "model.add(Conv2D(filters=64, kernel_size=(3, 3), activation='relu'))\n",
    "model.add(MaxPool2D(pool_size=(2, 2)))\n",
    "model.add(Dropout(rate=0.25))\n",
    "model.add(Conv2D(filters=64, kernel_size=(3, 3), activation='relu'))\n",
    "model.add(MaxPool2D(pool_size=(2, 2)))\n",
    "model.add(Dropout(rate=0.25))\n",
    "model.add(Flatten())\n",
    "model.add(Dense(256, activation='sigmoid'))\n",
    "model.add(Dropout(rate=0.5))\n",
    "model.add(Dense(43, activation='softmax'))\n",
    "\n",
    "model.summary()\n"
   ]
  },
  {
   "cell_type": "code",
   "execution_count": 7,
   "metadata": {},
   "outputs": [],
   "source": [
    "#Compilation of the model\n",
    "\n",
    "model.compile(\n",
    "    loss='categorical_crossentropy', \n",
    "    optimizer='rmsprop', \n",
    "    metrics=['accuracy']\n",
    ")"
   ]
  },
  {
   "cell_type": "code",
   "execution_count": 8,
   "metadata": {},
   "outputs": [
    {
     "name": "stdout",
     "output_type": "stream",
     "text": [
      "Train on 31368 samples, validate on 7841 samples\n",
      "Epoch 1/20\n",
      "31368/31368 [==============================] - 127s 4ms/step - loss: 1.6335 - accuracy: 0.5506 - val_loss: 0.4313 - val_accuracy: 0.8957\n",
      "Epoch 2/20\n",
      "31368/31368 [==============================] - 131s 4ms/step - loss: 0.3491 - accuracy: 0.8975 - val_loss: 0.2109 - val_accuracy: 0.9446\n",
      "Epoch 3/20\n",
      "31368/31368 [==============================] - 129s 4ms/step - loss: 0.1662 - accuracy: 0.9529 - val_loss: 0.0636 - val_accuracy: 0.9844\n",
      "Epoch 4/20\n",
      "31368/31368 [==============================] - 127s 4ms/step - loss: 0.1036 - accuracy: 0.9699 - val_loss: 0.0410 - val_accuracy: 0.9897\n",
      "Epoch 5/20\n",
      "31368/31368 [==============================] - 130s 4ms/step - loss: 0.0745 - accuracy: 0.9791 - val_loss: 0.0363 - val_accuracy: 0.9907\n",
      "Epoch 6/20\n",
      "31368/31368 [==============================] - 129s 4ms/step - loss: 0.0620 - accuracy: 0.9825 - val_loss: 0.0324 - val_accuracy: 0.9922\n",
      "Epoch 7/20\n",
      "31368/31368 [==============================] - 132s 4ms/step - loss: 0.0502 - accuracy: 0.9858 - val_loss: 0.0258 - val_accuracy: 0.9941\n",
      "Epoch 8/20\n",
      "31368/31368 [==============================] - 133s 4ms/step - loss: 0.0431 - accuracy: 0.9873 - val_loss: 0.0280 - val_accuracy: 0.9934\n",
      "Epoch 9/20\n",
      "31368/31368 [==============================] - 133s 4ms/step - loss: 0.0408 - accuracy: 0.9888 - val_loss: 0.0246 - val_accuracy: 0.9945\n",
      "Epoch 10/20\n",
      "31368/31368 [==============================] - 134s 4ms/step - loss: 0.0373 - accuracy: 0.9886 - val_loss: 0.0252 - val_accuracy: 0.9954\n",
      "Epoch 11/20\n",
      "31368/31368 [==============================] - 126s 4ms/step - loss: 0.0362 - accuracy: 0.9896 - val_loss: 0.0235 - val_accuracy: 0.9962\n",
      "Epoch 12/20\n",
      "31368/31368 [==============================] - 122s 4ms/step - loss: 0.0308 - accuracy: 0.9908 - val_loss: 0.0269 - val_accuracy: 0.9949\n",
      "Epoch 13/20\n",
      "31368/31368 [==============================] - 123s 4ms/step - loss: 0.0303 - accuracy: 0.9908 - val_loss: 0.0258 - val_accuracy: 0.9959\n",
      "Epoch 14/20\n",
      "31368/31368 [==============================] - 123s 4ms/step - loss: 0.0286 - accuracy: 0.9912 - val_loss: 0.0256 - val_accuracy: 0.9950\n",
      "Epoch 15/20\n",
      "31368/31368 [==============================] - 121s 4ms/step - loss: 0.0253 - accuracy: 0.9921 - val_loss: 0.0307 - val_accuracy: 0.9943\n",
      "Epoch 16/20\n",
      "31368/31368 [==============================] - 126s 4ms/step - loss: 0.0258 - accuracy: 0.9918 - val_loss: 0.0234 - val_accuracy: 0.9953\n",
      "Epoch 17/20\n",
      "31368/31368 [==============================] - 126s 4ms/step - loss: 0.0268 - accuracy: 0.9913 - val_loss: 0.0212 - val_accuracy: 0.9968\n",
      "Epoch 18/20\n",
      "31368/31368 [==============================] - 126s 4ms/step - loss: 0.0268 - accuracy: 0.9919 - val_loss: 0.0276 - val_accuracy: 0.9950\n",
      "Epoch 19/20\n",
      "31368/31368 [==============================] - 124s 4ms/step - loss: 0.0241 - accuracy: 0.9931 - val_loss: 0.0296 - val_accuracy: 0.9945\n",
      "Epoch 20/20\n",
      "31368/31368 [==============================] - 127s 4ms/step - loss: 0.0247 - accuracy: 0.9928 - val_loss: 0.0258 - val_accuracy: 0.9954\n"
     ]
    }
   ],
   "source": [
    "#fit model\n",
    "\n",
    "epochs = 20\n",
    "history = model.fit(X_train, y_train, batch_size=64, epochs=epochs,\n",
    "validation_data=(X_val, y_val))\n"
   ]
  },
  {
   "cell_type": "code",
   "execution_count": 9,
   "metadata": {},
   "outputs": [
    {
     "data": {
      "text/plain": [
       "<matplotlib.legend.Legend at 0x188192e0148>"
      ]
     },
     "execution_count": 9,
     "metadata": {},
     "output_type": "execute_result"
    },
    {
     "data": {
      "image/png": "[encoded data removed]",
      "text/plain": [
       "<Figure size 432x288 with 1 Axes>"
      ]
     },
     "metadata": {
      "needs_background": "light"
     },
     "output_type": "display_data"
    },
    {
     "data": {
      "image/png": "[encoded data removed]",
      "text/plain": [
       "<Figure size 432x288 with 1 Axes>"
      ]
     },
     "metadata": {
      "needs_background": "light"
     },
     "output_type": "display_data"
    }
   ],
   "source": [
    "#Display of the accuracy and the loss values\n",
    "\n",
    "import matplotlib.pyplot as plt\n",
    "\n",
    "plt.figure(0)\n",
    "plt.plot(history.history['accuracy'], label='training accuracy')\n",
    "plt.plot(history.history['val_accuracy'], label='val accuracy')\n",
    "plt.title('Accuracy')\n",
    "plt.xlabel('epochs')\n",
    "plt.ylabel('accuracy')\n",
    "plt.legend()\n",
    "\n",
    "plt.figure(1)\n",
    "plt.plot(history.history['loss'], label='training loss')\n",
    "plt.plot(history.history['val_loss'], label='val loss')\n",
    "plt.title('Loss')\n",
    "plt.xlabel('epochs')\n",
    "plt.ylabel('loss')\n",
    "plt.legend()"
   ]
  },
  {
   "cell_type": "code",
   "execution_count": 12,
   "metadata": {},
   "outputs": [],
   "source": [
    "#Predicting with the test data\n",
    "\n",
    "y_test=pd.read_csv(\"C:\\\\Users\\\\karis\\\\Downloads\\\\archive\\\\Test.csv\")\n",
    "labels=y_test['Path'].to_numpy()\n",
    "y_test=y_test['ClassId'].values\n",
    "\n",
    "data=[]\n",
    "\n",
    "for f in labels:\n",
    "    image=cv2.imread('C:\\\\Users\\\\karis\\\\Downloads\\\\archive\\\\'+f.replace('Test\\\\', ''))\n",
    "    image_from_array = Image.fromarray(image, 'RGB')\n",
    "    size_image = image_from_array.resize((height, width))\n",
    "    data.append(np.array(size_image))\n",
    "\n",
    "X_test=np.array(data)\n",
    "X_test = X_test.astype('float32')/255 \n",
    "pred = model.predict_classes(X_test)"
   ]
  },
  {
   "cell_type": "code",
   "execution_count": 13,
   "metadata": {},
   "outputs": [
    {
     "data": {
      "text/plain": [
       "0.9680126682501979"
      ]
     },
     "execution_count": 13,
     "metadata": {},
     "output_type": "execute_result"
    }
   ],
   "source": [
    "#Accuracy with the test data\n",
    "\n",
    "from sklearn.metrics import accuracy_score\n",
    "accuracy_score(y_test, pred)"
   ]
  },
  {
   "cell_type": "code",
   "execution_count": 14,
   "metadata": {},
   "outputs": [],
   "source": [
    "#Save the model\n",
    "\n",
    "os.chdir('C:\\\\Users\\\\karis\\\\Downloads\\\\archive')\n",
    "#os.mkdir('training')\n",
    "\n",
    "np.save('./training/data',data)\n",
    "np.save('./training/target',labels)\n",
    "\n",
    "model.save(\"./training/TSR1.h5\")\n"
   ]
  },
  {
   "cell_type": "code",
   "execution_count": 15,
   "metadata": {},
   "outputs": [],
   "source": [
    "#load model\n",
    "\n",
    "import os\n",
    "os.chdir(r'C:\\\\Users\\\\karis\\\\Downloads\\\\archive')\n",
    "from keras.models import load_model\n",
    "model = load_model('./training/TSR1.h5')"
   ]
  },
  {
   "cell_type": "code",
   "execution_count": 16,
   "metadata": {},
   "outputs": [],
   "source": [
    "# Classes of traffic signs\n",
    "classes = { 0:'Speed limit (20km/h)',\n",
    "            1:'Speed limit (30km/h)', \n",
    "            2:'Speed limit (50km/h)', \n",
    "            3:'Speed limit (60km/h)', \n",
    "            4:'Speed limit (70km/h)', \n",
    "            5:'Speed limit (80km/h)', \n",
    "            6:'End of speed limit (80km/h)', \n",
    "            7:'Speed limit (100km/h)', \n",
    "            8:'Speed limit (120km/h)', \n",
    "            9:'No passing', \n",
    "            10:'No passing veh over 3.5 tons', \n",
    "            11:'Right-of-way at intersection', \n",
    "            12:'Priority road', \n",
    "            13:'Yield', \n",
    "            14:'Stop', \n",
    "            15:'No vehicles', \n",
    "            16:'Veh > 3.5 tons prohibited', \n",
    "            17:'No entry', \n",
    "            18:'General caution', \n",
    "            19:'Dangerous curve left', \n",
    "            20:'Dangerous curve right', \n",
    "            21:'Double curve', \n",
    "            22:'Bumpy road', \n",
    "            23:'Slippery road', \n",
    "            24:'Road narrows on the right', \n",
    "            25:'Road work', \n",
    "            26:'Traffic signals', \n",
    "            27:'Pedestrians', \n",
    "            28:'Children crossing', \n",
    "            29:'Bicycles crossing', \n",
    "            30:'Beware of ice/snow',\n",
    "            31:'Wild animals crossing', \n",
    "            32:'End speed + passing limits', \n",
    "            33:'Turn right ahead', \n",
    "            34:'Turn left ahead', \n",
    "            35:'Ahead only', \n",
    "            36:'Go straight or right', \n",
    "            37:'Go straight or left', \n",
    "            38:'Keep right', \n",
    "            39:'Keep left', \n",
    "            40:'Roundabout mandatory', \n",
    "            41:'End of no passing', \n",
    "            42:'End no passing veh > 3.5 tons' }"
   ]
  },
  {
   "cell_type": "code",
   "execution_count": 17,
   "metadata": {},
   "outputs": [],
   "source": [
    "from PIL import Image\n",
    "import numpy as np\n",
    "import matplotlib.pyplot as plt\n",
    "def test_on_img(img):\n",
    "    data=[]\n",
    "    image = Image.open(img)\n",
    "    image = image.resize((30,30))\n",
    "    data.append(np.array(image))\n",
    "    X_test=np.array(data)\n",
    "    Y_pred = model.predict_classes(X_test)\n",
    "    return image,Y_pred"
   ]
  },
  {
   "cell_type": "code",
   "execution_count": 18,
   "metadata": {},
   "outputs": [
    {
     "name": "stdout",
     "output_type": "stream",
     "text": [
      "Predicted traffic sign is:  Speed limit (30km/h)\n"
     ]
    },
    {
     "data": {
      "image/png": "[encoded data removed]",
      "text/plain": [
       "<Figure size 432x288 with 1 Axes>"
      ]
     },
     "metadata": {
      "needs_background": "light"
     },
     "output_type": "display_data"
    }
   ],
   "source": [
    "# Predictions\n",
    "plot,prediction = test_on_img('C:\\\\Users\\\\karis\\\\Downloads\\\\archive\\\\Test\\\\00024.png')\n",
    "s = [str(i) for i in prediction] \n",
    "a = 0\n",
    "a = int(\"\".join(s)) \n",
    "print(\"Predicted traffic sign is: \", classes[a])\n",
    "plt.imshow(plot)\n",
    "plt.show()"
   ]
  },
  {
   "cell_type": "code",
   "execution_count": 19,
   "metadata": {},
   "outputs": [
    {
     "name": "stdout",
     "output_type": "stream",
     "text": [
      "Predicted traffic sign is:  General caution\n"
     ]
    },
    {
     "data": {
      "image/png": "[encoded data removed]",
      "text/plain": [
       "<Figure size 432x288 with 1 Axes>"
      ]
     },
     "metadata": {
      "needs_background": "light"
     },
     "output_type": "display_data"
    }
   ],
   "source": [
    "plot,prediction = test_on_img('C:\\\\Users\\\\karis\\\\Downloads\\\\archive\\\\Test\\\\00042.png')\n",
    "s = [str(i) for i in prediction] \n",
    "a = 0\n",
    "a = int(\"\".join(s)) \n",
    "print(\"Predicted traffic sign is: \", classes[a])\n",
    "plt.imshow(plot)\n",
    "plt.show()"
   ]
  },
  {
   "cell_type": "code",
   "execution_count": 20,
   "metadata": {},
   "outputs": [
    {
     "name": "stdout",
     "output_type": "stream",
     "text": [
      "Predicted traffic sign is:  Roundabout mandatory\n"
     ]
    },
    {
     "data": {
      "image/png": "[encoded data removed]",
      "text/plain": [
       "<Figure size 432x288 with 1 Axes>"
      ]
     },
     "metadata": {
      "needs_background": "light"
     },
     "output_type": "display_data"
    }
   ],
   "source": [
    "plot,prediction = test_on_img('C:\\\\Users\\\\karis\\\\Downloads\\\\archive\\\\Test\\\\00016.png')\n",
    "s = [str(i) for i in prediction] \n",
    "a = 0\n",
    "a = int(\"\".join(s)) \n",
    "print(\"Predicted traffic sign is: \", classes[a])\n",
    "plt.imshow(plot)\n",
    "plt.show()"
   ]
  },
  {
   "cell_type": "code",
   "execution_count": 21,
   "metadata": {},
   "outputs": [
    {
     "name": "stdout",
     "output_type": "stream",
     "text": [
      "Predicted traffic sign is:  Veh > 3.5 tons prohibited\n"
     ]
    },
    {
     "data": {
      "image/png": "[encoded data removed]",
      "text/plain": [
       "<Figure size 432x288 with 1 Axes>"
      ]
     },
     "metadata": {
      "needs_background": "light"
     },
     "output_type": "display_data"
    }
   ],
   "source": [
    "plot,prediction = test_on_img('C:\\\\Users\\\\karis\\\\Downloads\\\\archive\\\\Test\\\\00352.png')\n",
    "s = [str(i) for i in prediction] \n",
    "a = 0\n",
    "a = int(\"\".join(s)) \n",
    "print(\"Predicted traffic sign is: \", classes[a])\n",
    "plt.imshow(plot)\n",
    "plt.show()"
   ]
  },
  {
   "cell_type": "code",
   "execution_count": 22,
   "metadata": {},
   "outputs": [
    {
     "name": "stdout",
     "output_type": "stream",
     "text": [
      "Predicted traffic sign is:  Road work\n"
     ]
    },
    {
     "data": {
      "image/png": "[encoded data removed]",
      "text/plain": [
       "<Figure size 432x288 with 1 Axes>"
      ]
     },
     "metadata": {
      "needs_background": "light"
     },
     "output_type": "display_data"
    }
   ],
   "source": [
    "plot,prediction = test_on_img('C:\\\\Users\\\\karis\\\\Downloads\\\\archive\\\\Test\\\\00008.png')\n",
    "s = [str(i) for i in prediction] \n",
    "a = 0\n",
    "a = int(\"\".join(s)) \n",
    "print(\"Predicted traffic sign is: \", classes[a])\n",
    "plt.imshow(plot)\n",
    "plt.show()"
   ]
  }
 ],
 "metadata": {
  "kernelspec": {
   "display_name": "Python 3",
   "language": "python",
   "name": "python3"
  },
  "language_info": {
   "codemirror_mode": {
    "name": "ipython",
    "version": 3
   },
   "file_extension": ".py",
   "mimetype": "text/x-python",
   "name": "python",
   "nbconvert_exporter": "python",
   "pygments_lexer": "ipython3",
   "version": "3.7.3"
  }
 },
 "nbformat": 4,
 "nbformat_minor": 4
}
