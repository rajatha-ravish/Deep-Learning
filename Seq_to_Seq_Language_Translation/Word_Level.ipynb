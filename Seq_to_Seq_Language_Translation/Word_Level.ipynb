{
 "cells": [
  {
   "cell_type": "markdown",
   "metadata": {
    "id": "ZBMJLXi5Y6ch"
   },
   "source": [
    "#### Build a word-level model Seq2Seq Language Translation model English - Hindi"
   ]
  },
  {
   "cell_type": "markdown",
   "metadata": {},
   "source": [
    "#### Import Libraries"
   ]
  },
  {
   "cell_type": "code",
   "execution_count": 1,
   "metadata": {
    "id": "j14C3Qx_2Hvp"
   },
   "outputs": [],
   "source": [
    "import pandas as pd\n",
    "import numpy as np\n",
    "import string\n",
    "from string import digits\n",
    "import matplotlib.pyplot as plt\n",
    "%matplotlib inline\n",
    "import re\n",
    "from sklearn.utils import shuffle\n",
    "from sklearn.model_selection import train_test_split\n",
    "from tensorflow.keras.layers import Input, LSTM, Embedding, Dense\n",
    "from tensorflow.keras.models import Model\n"
   ]
  },
  {
   "cell_type": "markdown",
   "metadata": {},
   "source": [
    "#### Mount Drive"
   ]
  },
  {
   "cell_type": "code",
   "execution_count": null,
   "metadata": {
    "colab": {
     "base_uri": "https://localhost:8080/"
    },
    "id": "lEC37N8K2ZBS",
    "outputId": "c482f32c-493c-449a-ad18-603ccae1e6c2"
   },
   "outputs": [],
   "source": [
    "from google.colab import drive\n",
    "drive.mount('/content/drive')"
   ]
  },
  {
   "cell_type": "markdown",
   "metadata": {},
   "source": [
    "#### Load and Preprocess Data"
   ]
  },
  {
   "cell_type": "code",
   "execution_count": 3,
   "metadata": {
    "id": "CgX8JYTI2Pp-"
   },
   "outputs": [],
   "source": [
    "lines= pd.read_table('drive/My Drive/hin.txt', names=['eng', 'hin', 'na'])\n",
    "lines = lines.drop(columns = ['na'])"
   ]
  },
  {
   "cell_type": "code",
   "execution_count": 4,
   "metadata": {
    "id": "c7L8DH9B2P3r"
   },
   "outputs": [],
   "source": [
    "# Lowercase all characters\n",
    "lines.eng=lines.eng.apply(lambda x: x.lower())\n",
    "lines.hin=lines.hin.apply(lambda x: x.lower())\n",
    "\n",
    "# Remove quotes\n",
    "lines.eng=lines.eng.apply(lambda x: re.sub(\"'\", '', x))\n",
    "lines.hin=lines.hin.apply(lambda x: re.sub(\"'\", '', x))\n",
    "\n",
    "exclude = set(string.punctuation) # Set of all special characters\n",
    "# Remove all the special characters\n",
    "lines.eng=lines.eng.apply(lambda x: ''.join(ch for ch in x if ch not in exclude))\n",
    "lines.hin=lines.hin.apply(lambda x: ''.join(ch for ch in x if ch not in exclude))\n",
    "\n",
    "# Remove extra spaces\n",
    "lines.eng=lines.eng.apply(lambda x: x.strip())\n",
    "lines.hin=lines.hin.apply(lambda x: x.strip())\n",
    "lines.eng=lines.eng.apply(lambda x: re.sub(\" +\", \" \", x))\n",
    "lines.hin=lines.hin.apply(lambda x: re.sub(\" +\", \" \", x))\n",
    "\n",
    "# Add start and end tokens to target sequences\n",
    "lines.hin = lines.hin.apply(lambda x : 'START_ '+ x + ' _END')"
   ]
  },
  {
   "cell_type": "code",
   "execution_count": 5,
   "metadata": {
    "id": "SGXmFnKU3Jot"
   },
   "outputs": [],
   "source": [
    "# Vocabulary of English\n",
    "all_eng_words=set()\n",
    "for eng in lines.eng:\n",
    "    for word in eng.split():\n",
    "        if word not in all_eng_words:\n",
    "            all_eng_words.add(word)\n",
    "\n",
    "# Vocabulary of hindi\n",
    "all_hindi_words=set()\n",
    "for hin in lines.hin:\n",
    "    for word in hin.split():\n",
    "        if word not in all_hindi_words:\n",
    "            all_hindi_words.add(word)"
   ]
  },
  {
   "cell_type": "code",
   "execution_count": 6,
   "metadata": {
    "colab": {
     "base_uri": "https://localhost:8080/"
    },
    "id": "8OtsqQtj3PXx",
    "outputId": "12f359f8-2497-407f-9096-9776202b1eab"
   },
   "outputs": [
    {
     "data": {
      "text/plain": [
       "22"
      ]
     },
     "execution_count": 6,
     "metadata": {
      "tags": []
     },
     "output_type": "execute_result"
    }
   ],
   "source": [
    "# Max Length of source sequence\n",
    "length_list=[]\n",
    "for l in lines.eng:\n",
    "    length_list.append(len(l.split(' ')))\n",
    "max_length_src = np.max(length_list)\n",
    "max_length_src\n",
    "\n"
   ]
  },
  {
   "cell_type": "code",
   "execution_count": 7,
   "metadata": {
    "colab": {
     "base_uri": "https://localhost:8080/"
    },
    "id": "bCNXQy_usK4l",
    "outputId": "003a6559-e189-439e-d97e-ab373aa70caa"
   },
   "outputs": [
    {
     "data": {
      "text/plain": [
       "27"
      ]
     },
     "execution_count": 7,
     "metadata": {
      "tags": []
     },
     "output_type": "execute_result"
    }
   ],
   "source": [
    "# Max Length of target sequence\n",
    "length_list=[]\n",
    "for l in lines.hin:\n",
    "    length_list.append(len(l.split(' ')))\n",
    "max_length_tar = np.max(length_list)\n",
    "max_length_tar"
   ]
  },
  {
   "cell_type": "code",
   "execution_count": 8,
   "metadata": {
    "colab": {
     "base_uri": "https://localhost:8080/"
    },
    "id": "FMW0fU0G3Pft",
    "outputId": "edf350e2-b70d-4350-e63e-d05c63ae94fb"
   },
   "outputs": [
    {
     "data": {
      "text/plain": [
       "(2367, 2980)"
      ]
     },
     "execution_count": 8,
     "metadata": {
      "tags": []
     },
     "output_type": "execute_result"
    }
   ],
   "source": [
    "input_words = sorted(list(all_eng_words))\n",
    "target_words = sorted(list(all_hindi_words))\n",
    "num_encoder_tokens = len(all_eng_words)\n",
    "num_decoder_tokens = len(all_hindi_words)\n",
    "num_encoder_tokens, num_decoder_tokens"
   ]
  },
  {
   "cell_type": "code",
   "execution_count": 9,
   "metadata": {
    "colab": {
     "base_uri": "https://localhost:8080/"
    },
    "id": "pGGSB7AX3a-h",
    "outputId": "db71b02c-abc0-4fd8-c67e-cc311916dc9d"
   },
   "outputs": [
    {
     "data": {
      "text/plain": [
       "2368"
      ]
     },
     "execution_count": 9,
     "metadata": {
      "tags": []
     },
     "output_type": "execute_result"
    }
   ],
   "source": [
    "num_decoder_tokens += 1 # For zero padding\n",
    "num_decoder_tokens\n",
    "num_encoder_tokens += 1 \n",
    "num_encoder_tokens"
   ]
  },
  {
   "cell_type": "code",
   "execution_count": 10,
   "metadata": {
    "id": "IXSraRNL3bDf"
   },
   "outputs": [],
   "source": [
    "input_token_index = dict([(word, i+1) for i, word in enumerate(input_words)])\n",
    "target_token_index = dict([(word, i+1) for i, word in enumerate(target_words)])\n"
   ]
  },
  {
   "cell_type": "code",
   "execution_count": 11,
   "metadata": {
    "id": "UcIoFaFq3mcP"
   },
   "outputs": [],
   "source": [
    "\n",
    "reverse_input_char_index = dict((i, word) for word, i in input_token_index.items())\n",
    "reverse_target_char_index = dict((i, word) for word, i in target_token_index.items())\n"
   ]
  },
  {
   "cell_type": "code",
   "execution_count": 12,
   "metadata": {
    "colab": {
     "base_uri": "https://localhost:8080/",
     "height": 203
    },
    "id": "kfdx-L-D3qCZ",
    "outputId": "f782b7dd-b3e1-4508-d0be-d8b238983567"
   },
   "outputs": [
    {
     "data": {
      "text/html": [
       "<div>\n",
       "<style scoped>\n",
       "    .dataframe tbody tr th:only-of-type {\n",
       "        vertical-align: middle;\n",
       "    }\n",
       "\n",
       "    .dataframe tbody tr th {\n",
       "        vertical-align: top;\n",
       "    }\n",
       "\n",
       "    .dataframe thead th {\n",
       "        text-align: right;\n",
       "    }\n",
       "</style>\n",
       "<table border=\"1\" class=\"dataframe\">\n",
       "  <thead>\n",
       "    <tr style=\"text-align: right;\">\n",
       "      <th></th>\n",
       "      <th>eng</th>\n",
       "      <th>hin</th>\n",
       "    </tr>\n",
       "  </thead>\n",
       "  <tbody>\n",
       "    <tr>\n",
       "      <th>1350</th>\n",
       "      <td>i worked on the farm all day</td>\n",
       "      <td>START_ मैंने पूरे दिन खेत में काम किया। _END</td>\n",
       "    </tr>\n",
       "    <tr>\n",
       "      <th>890</th>\n",
       "      <td>hes always dissatisfied</td>\n",
       "      <td>START_ वह कभी भी संतुष्ट नहीं होता। _END</td>\n",
       "    </tr>\n",
       "    <tr>\n",
       "      <th>918</th>\n",
       "      <td>i will explain it to him</td>\n",
       "      <td>START_ मैं उसको यह बात समझाउँगा। _END</td>\n",
       "    </tr>\n",
       "    <tr>\n",
       "      <th>1186</th>\n",
       "      <td>what happened to our order</td>\n",
       "      <td>START_ हमारे औरडर का क्या हुआ _END</td>\n",
       "    </tr>\n",
       "    <tr>\n",
       "      <th>1260</th>\n",
       "      <td>she declined the invitation</td>\n",
       "      <td>START_ उसने आमंत्रण को स्वीकार नहीं किया। _END</td>\n",
       "    </tr>\n",
       "  </tbody>\n",
       "</table>\n",
       "</div>"
      ],
      "text/plain": [
       "                               eng                                             hin\n",
       "1350  i worked on the farm all day    START_ मैंने पूरे दिन खेत में काम किया। _END\n",
       "890        hes always dissatisfied        START_ वह कभी भी संतुष्ट नहीं होता। _END\n",
       "918       i will explain it to him           START_ मैं उसको यह बात समझाउँगा। _END\n",
       "1186    what happened to our order              START_ हमारे औरडर का क्या हुआ _END\n",
       "1260   she declined the invitation  START_ उसने आमंत्रण को स्वीकार नहीं किया। _END"
      ]
     },
     "execution_count": 12,
     "metadata": {
      "tags": []
     },
     "output_type": "execute_result"
    }
   ],
   "source": [
    "lines = shuffle(lines)\n",
    "lines.head()"
   ]
  },
  {
   "cell_type": "markdown",
   "metadata": {},
   "source": [
    "#### Train and Validation Split "
   ]
  },
  {
   "cell_type": "code",
   "execution_count": 13,
   "metadata": {
    "colab": {
     "base_uri": "https://localhost:8080/"
    },
    "id": "GZCnMi3Z3qF9",
    "outputId": "42f38412-0684-4785-cca0-1dd3c91cd0cf"
   },
   "outputs": [
    {
     "data": {
      "text/plain": [
       "((2218,), (555,))"
      ]
     },
     "execution_count": 13,
     "metadata": {
      "tags": []
     },
     "output_type": "execute_result"
    }
   ],
   "source": [
    "# Train - Test Split\n",
    "X, y = lines.eng, lines.hin\n",
    "X_train, X_test, y_train, y_test = train_test_split(X, y, test_size = 0.2)\n",
    "X_train.shape, X_test.shape"
   ]
  },
  {
   "cell_type": "code",
   "execution_count": 14,
   "metadata": {
    "id": "D35vtgUj3z39"
   },
   "outputs": [],
   "source": [
    "def generate_batch(X = X_train, y = y_train, batch_size = 64):\n",
    "    ''' Generate a batch of data '''\n",
    "    while True:\n",
    "        for j in range(0, len(X), batch_size):\n",
    "            encoder_input_data = np.zeros((batch_size, max_length_src),dtype='float32')\n",
    "            decoder_input_data = np.zeros((batch_size, max_length_tar),dtype='float32')\n",
    "            decoder_target_data = np.zeros((batch_size, max_length_tar, num_decoder_tokens),dtype='float32')\n",
    "            for i, (input_text, target_text) in enumerate(zip(X[j:j+batch_size], y[j:j+batch_size])):\n",
    "                for t, word in enumerate(input_text.split()):\n",
    "                    encoder_input_data[i, t] = input_token_index[word] # encoder input seq\n",
    "                for t, word in enumerate(target_text.split()):\n",
    "                    if t<len(target_text.split())-1:\n",
    "                        decoder_input_data[i, t] = target_token_index[word] # decoder input seq\n",
    "                    if t>0:\n",
    "                        decoder_target_data[i, t - 1, target_token_index[word]] = 1.\n",
    "            yield([encoder_input_data, decoder_input_data], decoder_target_data)"
   ]
  },
  {
   "cell_type": "code",
   "execution_count": 15,
   "metadata": {
    "id": "zrLjMflS3z-6"
   },
   "outputs": [],
   "source": [
    "latent_dim = 256"
   ]
  },
  {
   "cell_type": "code",
   "execution_count": 16,
   "metadata": {
    "id": "WJz2r30J38Js"
   },
   "outputs": [],
   "source": [
    "# Encoder\n",
    "encoder_inputs = Input(shape=(None,))\n",
    "enc_emb =  Embedding(num_encoder_tokens, latent_dim, mask_zero = True)(encoder_inputs)\n",
    "encoder_lstm = LSTM(latent_dim, return_state=True)\n",
    "encoder_outputs, state_h, state_c = encoder_lstm(enc_emb)\n",
    "encoder_states = [state_h, state_c]\n"
   ]
  },
  {
   "cell_type": "markdown",
   "metadata": {},
   "source": [
    "#### Create Model "
   ]
  },
  {
   "cell_type": "code",
   "execution_count": 17,
   "metadata": {
    "id": "6moPgr6m38Nl"
   },
   "outputs": [],
   "source": [
    "decoder_inputs = Input(shape=(None,))\n",
    "dec_emb_layer = Embedding(num_decoder_tokens, latent_dim, mask_zero = True)\n",
    "dec_emb = dec_emb_layer(decoder_inputs)\n",
    "decoder_lstm = LSTM(latent_dim, return_sequences=True, return_state=True)\n",
    "decoder_outputs, _, _ = decoder_lstm(dec_emb,\n",
    "                                     initial_state=encoder_states)\n",
    "decoder_dense = Dense(num_decoder_tokens, activation='softmax')\n",
    "decoder_outputs = decoder_dense(decoder_outputs)\n",
    "model = Model([encoder_inputs, decoder_inputs], decoder_outputs)"
   ]
  },
  {
   "cell_type": "markdown",
   "metadata": {},
   "source": [
    "#### Compile Model"
   ]
  },
  {
   "cell_type": "code",
   "execution_count": 18,
   "metadata": {
    "id": "EDEbVIAd4Fjn"
   },
   "outputs": [],
   "source": [
    "model.compile(optimizer='rmsprop', loss='categorical_crossentropy', metrics=['acc'])"
   ]
  },
  {
   "cell_type": "code",
   "execution_count": 19,
   "metadata": {
    "id": "0l5b0mn84FwM"
   },
   "outputs": [],
   "source": [
    "train_samples = len(X_train)\n",
    "val_samples = len(X_test)\n",
    "batch_size = 64\n",
    "epochs = 150"
   ]
  },
  {
   "cell_type": "code",
   "execution_count": 20,
   "metadata": {
    "colab": {
     "base_uri": "https://localhost:8080/"
    },
    "id": "bI5wCSe5tUql",
    "outputId": "1a9589fa-8974-4933-854a-a38e3bc79059"
   },
   "outputs": [
    {
     "name": "stdout",
     "output_type": "stream",
     "text": [
      "WARNING:tensorflow:From <ipython-input-20-dc64566948be>:5: Model.fit_generator (from tensorflow.python.keras.engine.training) is deprecated and will be removed in a future version.\n",
      "Instructions for updating:\n",
      "Please use Model.fit, which supports generators.\n",
      "Epoch 1/150\n",
      "34/34 [==============================] - 27s 797ms/step - loss: 1.7884 - acc: 0.1346 - val_loss: 1.7337 - val_acc: 0.1421\n",
      "Epoch 2/150\n",
      "34/34 [==============================] - 25s 725ms/step - loss: 1.5738 - acc: 0.1515 - val_loss: 1.7057 - val_acc: 0.1450\n",
      "Epoch 3/150\n",
      "34/34 [==============================] - 25s 725ms/step - loss: 1.5152 - acc: 0.1548 - val_loss: 1.6872 - val_acc: 0.1579\n",
      "Epoch 4/150\n",
      "34/34 [==============================] - 25s 728ms/step - loss: 1.4716 - acc: 0.1639 - val_loss: 1.6899 - val_acc: 0.1547\n",
      "Epoch 5/150\n",
      "34/34 [==============================] - 25s 724ms/step - loss: 1.4365 - acc: 0.1776 - val_loss: 1.6681 - val_acc: 0.1747\n",
      "Epoch 6/150\n",
      "34/34 [==============================] - 25s 723ms/step - loss: 1.3904 - acc: 0.1926 - val_loss: 1.6677 - val_acc: 0.1767\n",
      "Epoch 7/150\n",
      "34/34 [==============================] - 25s 724ms/step - loss: 1.3455 - acc: 0.2018 - val_loss: 1.6526 - val_acc: 0.1881\n",
      "Epoch 8/150\n",
      "34/34 [==============================] - 25s 729ms/step - loss: 1.3079 - acc: 0.2116 - val_loss: 1.6419 - val_acc: 0.1940\n",
      "Epoch 9/150\n",
      "34/34 [==============================] - 25s 727ms/step - loss: 1.2737 - acc: 0.2206 - val_loss: 1.6361 - val_acc: 0.2003\n",
      "Epoch 10/150\n",
      "34/34 [==============================] - 25s 737ms/step - loss: 1.2354 - acc: 0.2292 - val_loss: 1.6332 - val_acc: 0.2078\n",
      "Epoch 11/150\n",
      "34/34 [==============================] - 24s 720ms/step - loss: 1.2043 - acc: 0.2367 - val_loss: 1.6197 - val_acc: 0.2161\n",
      "Epoch 12/150\n",
      "34/34 [==============================] - 25s 725ms/step - loss: 1.1664 - acc: 0.2496 - val_loss: 1.6105 - val_acc: 0.2166\n",
      "Epoch 13/150\n",
      "34/34 [==============================] - 25s 723ms/step - loss: 1.1352 - acc: 0.2593 - val_loss: 1.6101 - val_acc: 0.2171\n",
      "Epoch 14/150\n",
      "34/34 [==============================] - 25s 725ms/step - loss: 1.1036 - acc: 0.2726 - val_loss: 1.6017 - val_acc: 0.2242\n",
      "Epoch 15/150\n",
      "34/34 [==============================] - 25s 726ms/step - loss: 1.0693 - acc: 0.2874 - val_loss: 1.5989 - val_acc: 0.2327\n",
      "Epoch 16/150\n",
      "34/34 [==============================] - 26s 763ms/step - loss: 1.0372 - acc: 0.2981 - val_loss: 1.5890 - val_acc: 0.2337\n",
      "Epoch 17/150\n",
      "34/34 [==============================] - 29s 844ms/step - loss: 1.0073 - acc: 0.3107 - val_loss: 1.5897 - val_acc: 0.2376\n",
      "Epoch 18/150\n",
      "34/34 [==============================] - 25s 722ms/step - loss: 0.9801 - acc: 0.3217 - val_loss: 1.5856 - val_acc: 0.2407\n",
      "Epoch 19/150\n",
      "34/34 [==============================] - 24s 720ms/step - loss: 0.9478 - acc: 0.3327 - val_loss: 1.5845 - val_acc: 0.2403\n",
      "Epoch 20/150\n",
      "34/34 [==============================] - 24s 720ms/step - loss: 0.9140 - acc: 0.3483 - val_loss: 1.5823 - val_acc: 0.2476\n",
      "Epoch 21/150\n",
      "34/34 [==============================] - 24s 718ms/step - loss: 0.8867 - acc: 0.3618 - val_loss: 1.5782 - val_acc: 0.2483\n",
      "Epoch 22/150\n",
      "34/34 [==============================] - 25s 724ms/step - loss: 0.8582 - acc: 0.3773 - val_loss: 1.5814 - val_acc: 0.2517\n",
      "Epoch 23/150\n",
      "34/34 [==============================] - 25s 721ms/step - loss: 0.8307 - acc: 0.3929 - val_loss: 1.5792 - val_acc: 0.2549\n",
      "Epoch 24/150\n",
      "34/34 [==============================] - 25s 728ms/step - loss: 0.8016 - acc: 0.4093 - val_loss: 1.5773 - val_acc: 0.2583\n",
      "Epoch 25/150\n",
      "34/34 [==============================] - 24s 714ms/step - loss: 0.7755 - acc: 0.4241 - val_loss: 1.5775 - val_acc: 0.2593\n",
      "Epoch 26/150\n",
      "34/34 [==============================] - 25s 723ms/step - loss: 0.7433 - acc: 0.4462 - val_loss: 1.5768 - val_acc: 0.2607\n",
      "Epoch 27/150\n",
      "34/34 [==============================] - 24s 720ms/step - loss: 0.7148 - acc: 0.4642 - val_loss: 1.5804 - val_acc: 0.2658\n",
      "Epoch 28/150\n",
      "34/34 [==============================] - 24s 719ms/step - loss: 0.6886 - acc: 0.4863 - val_loss: 1.5837 - val_acc: 0.2731\n",
      "Epoch 29/150\n",
      "34/34 [==============================] - 24s 720ms/step - loss: 0.6613 - acc: 0.5076 - val_loss: 1.5852 - val_acc: 0.2727\n",
      "Epoch 30/150\n",
      "34/34 [==============================] - 25s 722ms/step - loss: 0.6371 - acc: 0.5258 - val_loss: 1.5904 - val_acc: 0.2722\n",
      "Epoch 31/150\n",
      "34/34 [==============================] - 25s 721ms/step - loss: 0.6106 - acc: 0.5478 - val_loss: 1.5979 - val_acc: 0.2773\n",
      "Epoch 32/150\n",
      "34/34 [==============================] - 24s 720ms/step - loss: 0.5836 - acc: 0.5709 - val_loss: 1.5926 - val_acc: 0.2800\n",
      "Epoch 33/150\n",
      "34/34 [==============================] - 25s 721ms/step - loss: 0.5585 - acc: 0.5903 - val_loss: 1.5896 - val_acc: 0.2775\n",
      "Epoch 34/150\n",
      "34/34 [==============================] - 25s 728ms/step - loss: 0.5342 - acc: 0.6111 - val_loss: 1.5960 - val_acc: 0.2819\n",
      "Epoch 35/150\n",
      "34/34 [==============================] - 24s 719ms/step - loss: 0.5087 - acc: 0.6344 - val_loss: 1.5914 - val_acc: 0.2861\n",
      "Epoch 36/150\n",
      "34/34 [==============================] - 25s 723ms/step - loss: 0.4913 - acc: 0.6545 - val_loss: 1.5885 - val_acc: 0.2856\n",
      "Epoch 37/150\n",
      "34/34 [==============================] - 24s 718ms/step - loss: 0.4612 - acc: 0.6744 - val_loss: 1.5913 - val_acc: 0.2848\n",
      "Epoch 38/150\n",
      "34/34 [==============================] - 24s 715ms/step - loss: 0.4386 - acc: 0.6964 - val_loss: 1.6033 - val_acc: 0.2836\n",
      "Epoch 39/150\n",
      "34/34 [==============================] - 24s 718ms/step - loss: 0.4174 - acc: 0.7142 - val_loss: 1.5965 - val_acc: 0.2887\n",
      "Epoch 40/150\n",
      "34/34 [==============================] - 24s 716ms/step - loss: 0.3977 - acc: 0.7312 - val_loss: 1.5929 - val_acc: 0.2878\n",
      "Epoch 41/150\n",
      "34/34 [==============================] - 24s 713ms/step - loss: 0.3752 - acc: 0.7512 - val_loss: 1.5983 - val_acc: 0.2900\n",
      "Epoch 42/150\n",
      "34/34 [==============================] - 24s 713ms/step - loss: 0.3535 - acc: 0.7707 - val_loss: 1.6047 - val_acc: 0.2948\n",
      "Epoch 43/150\n",
      "34/34 [==============================] - 24s 715ms/step - loss: 0.3337 - acc: 0.7877 - val_loss: 1.6101 - val_acc: 0.2917\n",
      "Epoch 44/150\n",
      "34/34 [==============================] - 24s 717ms/step - loss: 0.3157 - acc: 0.8040 - val_loss: 1.6099 - val_acc: 0.2943\n",
      "Epoch 45/150\n",
      "34/34 [==============================] - 24s 715ms/step - loss: 0.2953 - acc: 0.8214 - val_loss: 1.6180 - val_acc: 0.2953\n",
      "Epoch 46/150\n",
      "34/34 [==============================] - 24s 713ms/step - loss: 0.2777 - acc: 0.8356 - val_loss: 1.6255 - val_acc: 0.2953\n",
      "Epoch 47/150\n",
      "34/34 [==============================] - 25s 723ms/step - loss: 0.2606 - acc: 0.8494 - val_loss: 1.6257 - val_acc: 0.2912\n",
      "Epoch 48/150\n",
      "34/34 [==============================] - 24s 718ms/step - loss: 0.2446 - acc: 0.8608 - val_loss: 1.6321 - val_acc: 0.2946\n",
      "Epoch 49/150\n",
      "34/34 [==============================] - 24s 714ms/step - loss: 0.2276 - acc: 0.8754 - val_loss: 1.6356 - val_acc: 0.2978\n",
      "Epoch 50/150\n",
      "34/34 [==============================] - 24s 713ms/step - loss: 0.2123 - acc: 0.8859 - val_loss: 1.6399 - val_acc: 0.3009\n",
      "Epoch 51/150\n",
      "34/34 [==============================] - 24s 712ms/step - loss: 0.1962 - acc: 0.8982 - val_loss: 1.6490 - val_acc: 0.2990\n",
      "Epoch 52/150\n",
      "34/34 [==============================] - 24s 717ms/step - loss: 0.1822 - acc: 0.9099 - val_loss: 1.6547 - val_acc: 0.3053\n",
      "Epoch 53/150\n",
      "34/34 [==============================] - 24s 715ms/step - loss: 0.1706 - acc: 0.9176 - val_loss: 1.6610 - val_acc: 0.3031\n",
      "Epoch 54/150\n",
      "34/34 [==============================] - 25s 721ms/step - loss: 0.1567 - acc: 0.9280 - val_loss: 1.6724 - val_acc: 0.3051\n",
      "Epoch 55/150\n",
      "34/34 [==============================] - 24s 710ms/step - loss: 0.1434 - acc: 0.9391 - val_loss: 1.6755 - val_acc: 0.3043\n",
      "Epoch 56/150\n",
      "34/34 [==============================] - 24s 713ms/step - loss: 0.1336 - acc: 0.9449 - val_loss: 1.6867 - val_acc: 0.2958\n",
      "Epoch 57/150\n",
      "34/34 [==============================] - 24s 713ms/step - loss: 0.1224 - acc: 0.9517 - val_loss: 1.6947 - val_acc: 0.3034\n",
      "Epoch 58/150\n",
      "34/34 [==============================] - 24s 715ms/step - loss: 0.1126 - acc: 0.9575 - val_loss: 1.7040 - val_acc: 0.3012\n",
      "Epoch 59/150\n",
      "34/34 [==============================] - 25s 722ms/step - loss: 0.1026 - acc: 0.9636 - val_loss: 1.7092 - val_acc: 0.3017\n",
      "Epoch 60/150\n",
      "34/34 [==============================] - 24s 713ms/step - loss: 0.0938 - acc: 0.9683 - val_loss: 1.7156 - val_acc: 0.3019\n",
      "Epoch 61/150\n",
      "34/34 [==============================] - 24s 713ms/step - loss: 0.0848 - acc: 0.9718 - val_loss: 1.7261 - val_acc: 0.2985\n",
      "Epoch 62/150\n",
      "34/34 [==============================] - 24s 711ms/step - loss: 0.0771 - acc: 0.9748 - val_loss: 1.7382 - val_acc: 0.3021\n",
      "Epoch 63/150\n",
      "34/34 [==============================] - 24s 711ms/step - loss: 0.0705 - acc: 0.9792 - val_loss: 1.7433 - val_acc: 0.2968\n",
      "Epoch 64/150\n",
      "34/34 [==============================] - 24s 710ms/step - loss: 0.0638 - acc: 0.9821 - val_loss: 1.7522 - val_acc: 0.3007\n",
      "Epoch 65/150\n",
      "34/34 [==============================] - 24s 708ms/step - loss: 0.0579 - acc: 0.9825 - val_loss: 1.7501 - val_acc: 0.3012\n",
      "Epoch 66/150\n",
      "34/34 [==============================] - 24s 710ms/step - loss: 0.0510 - acc: 0.9861 - val_loss: 1.7600 - val_acc: 0.2987\n",
      "Epoch 67/150\n",
      "34/34 [==============================] - 24s 704ms/step - loss: 0.0476 - acc: 0.9855 - val_loss: 1.7584 - val_acc: 0.3031\n",
      "Epoch 68/150\n",
      "34/34 [==============================] - 24s 707ms/step - loss: 0.0430 - acc: 0.9871 - val_loss: 1.7614 - val_acc: 0.3029\n",
      "Epoch 69/150\n",
      "34/34 [==============================] - 24s 713ms/step - loss: 0.0381 - acc: 0.9886 - val_loss: 1.7734 - val_acc: 0.3043\n",
      "Epoch 70/150\n",
      "34/34 [==============================] - 24s 710ms/step - loss: 0.0343 - acc: 0.9889 - val_loss: 1.7765 - val_acc: 0.3038\n",
      "Epoch 71/150\n",
      "34/34 [==============================] - 24s 713ms/step - loss: 0.0313 - acc: 0.9897 - val_loss: 1.7832 - val_acc: 0.3034\n",
      "Epoch 72/150\n",
      "34/34 [==============================] - 24s 718ms/step - loss: 0.0287 - acc: 0.9896 - val_loss: 1.7843 - val_acc: 0.3034\n",
      "Epoch 73/150\n",
      "34/34 [==============================] - 24s 714ms/step - loss: 0.0252 - acc: 0.9898 - val_loss: 1.7917 - val_acc: 0.3063\n",
      "Epoch 74/150\n",
      "34/34 [==============================] - 24s 711ms/step - loss: 0.0233 - acc: 0.9902 - val_loss: 1.7999 - val_acc: 0.3024\n",
      "Epoch 75/150\n",
      "34/34 [==============================] - 24s 711ms/step - loss: 0.0212 - acc: 0.9901 - val_loss: 1.8116 - val_acc: 0.3041\n",
      "Epoch 76/150\n",
      "34/34 [==============================] - 24s 715ms/step - loss: 0.0193 - acc: 0.9905 - val_loss: 1.8245 - val_acc: 0.3031\n",
      "Epoch 77/150\n",
      "34/34 [==============================] - 24s 714ms/step - loss: 0.0177 - acc: 0.9908 - val_loss: 1.8316 - val_acc: 0.3053\n",
      "Epoch 78/150\n",
      "34/34 [==============================] - 24s 714ms/step - loss: 0.0162 - acc: 0.9906 - val_loss: 1.8385 - val_acc: 0.3002\n",
      "Epoch 79/150\n",
      "34/34 [==============================] - 24s 716ms/step - loss: 0.0151 - acc: 0.9908 - val_loss: 1.8470 - val_acc: 0.3014\n",
      "Epoch 80/150\n",
      "34/34 [==============================] - 24s 717ms/step - loss: 0.0140 - acc: 0.9907 - val_loss: 1.8539 - val_acc: 0.3031\n",
      "Epoch 81/150\n",
      "34/34 [==============================] - 24s 718ms/step - loss: 0.0129 - acc: 0.9914 - val_loss: 1.8714 - val_acc: 0.3002\n",
      "Epoch 82/150\n",
      "34/34 [==============================] - 24s 717ms/step - loss: 0.0119 - acc: 0.9909 - val_loss: 1.8723 - val_acc: 0.3000\n",
      "Epoch 83/150\n",
      "34/34 [==============================] - 24s 714ms/step - loss: 0.0115 - acc: 0.9903 - val_loss: 1.8795 - val_acc: 0.3031\n",
      "Epoch 84/150\n",
      "34/34 [==============================] - 25s 726ms/step - loss: 0.0105 - acc: 0.9909 - val_loss: 1.8940 - val_acc: 0.3017\n",
      "Epoch 85/150\n",
      "34/34 [==============================] - 25s 721ms/step - loss: 0.0101 - acc: 0.9909 - val_loss: 1.8947 - val_acc: 0.3021\n",
      "Epoch 86/150\n",
      "34/34 [==============================] - 24s 718ms/step - loss: 0.0100 - acc: 0.9903 - val_loss: 1.9150 - val_acc: 0.3024\n",
      "Epoch 87/150\n",
      "34/34 [==============================] - 24s 719ms/step - loss: 0.0097 - acc: 0.9904 - val_loss: 1.9078 - val_acc: 0.3038\n",
      "Epoch 88/150\n",
      "34/34 [==============================] - 25s 721ms/step - loss: 0.0095 - acc: 0.9903 - val_loss: 1.9145 - val_acc: 0.3043\n",
      "Epoch 89/150\n",
      "34/34 [==============================] - 24s 718ms/step - loss: 0.0090 - acc: 0.9908 - val_loss: 1.9157 - val_acc: 0.3058\n",
      "Epoch 90/150\n",
      "34/34 [==============================] - 24s 717ms/step - loss: 0.0084 - acc: 0.9909 - val_loss: 1.9232 - val_acc: 0.3068\n",
      "Epoch 91/150\n",
      "34/34 [==============================] - 24s 720ms/step - loss: 0.0093 - acc: 0.9897 - val_loss: 1.9236 - val_acc: 0.3000\n",
      "Epoch 92/150\n",
      "34/34 [==============================] - 24s 717ms/step - loss: 0.0086 - acc: 0.9904 - val_loss: 1.9300 - val_acc: 0.3009\n",
      "Epoch 93/150\n",
      "34/34 [==============================] - 24s 713ms/step - loss: 0.0088 - acc: 0.9897 - val_loss: 1.9337 - val_acc: 0.2995\n",
      "Epoch 94/150\n",
      "34/34 [==============================] - 24s 710ms/step - loss: 0.0085 - acc: 0.9900 - val_loss: 1.9376 - val_acc: 0.3034\n",
      "Epoch 95/150\n",
      "34/34 [==============================] - 24s 713ms/step - loss: 0.0081 - acc: 0.9898 - val_loss: 1.9509 - val_acc: 0.3029\n",
      "Epoch 96/150\n",
      "34/34 [==============================] - 24s 713ms/step - loss: 0.0084 - acc: 0.9890 - val_loss: 1.9504 - val_acc: 0.3075\n",
      "Epoch 97/150\n",
      "34/34 [==============================] - 25s 721ms/step - loss: 0.0085 - acc: 0.9886 - val_loss: 1.9581 - val_acc: 0.3075\n",
      "Epoch 98/150\n",
      "34/34 [==============================] - 24s 705ms/step - loss: 0.0086 - acc: 0.9892 - val_loss: 1.9587 - val_acc: 0.3104\n",
      "Epoch 99/150\n",
      "34/34 [==============================] - 24s 713ms/step - loss: 0.0084 - acc: 0.9887 - val_loss: 1.9577 - val_acc: 0.3077\n",
      "Epoch 100/150\n",
      "34/34 [==============================] - 24s 712ms/step - loss: 0.0081 - acc: 0.9885 - val_loss: 1.9681 - val_acc: 0.3048\n",
      "Epoch 101/150\n",
      "34/34 [==============================] - 24s 712ms/step - loss: 0.0090 - acc: 0.9879 - val_loss: 1.9749 - val_acc: 0.3056\n",
      "Epoch 102/150\n",
      "34/34 [==============================] - 24s 710ms/step - loss: 0.0082 - acc: 0.9880 - val_loss: 1.9804 - val_acc: 0.3070\n",
      "Epoch 103/150\n",
      "34/34 [==============================] - 24s 708ms/step - loss: 0.0084 - acc: 0.9876 - val_loss: 1.9797 - val_acc: 0.3095\n",
      "Epoch 104/150\n",
      "34/34 [==============================] - 24s 705ms/step - loss: 0.0080 - acc: 0.9877 - val_loss: 1.9795 - val_acc: 0.3092\n",
      "Epoch 105/150\n",
      "34/34 [==============================] - 24s 710ms/step - loss: 0.0083 - acc: 0.9869 - val_loss: 1.9844 - val_acc: 0.3109\n",
      "Epoch 106/150\n",
      "34/34 [==============================] - 24s 713ms/step - loss: 0.0087 - acc: 0.9868 - val_loss: 1.9917 - val_acc: 0.3131\n",
      "Epoch 107/150\n",
      "34/34 [==============================] - 24s 714ms/step - loss: 0.0083 - acc: 0.9863 - val_loss: 1.9892 - val_acc: 0.3068\n",
      "Epoch 108/150\n",
      "34/34 [==============================] - 24s 716ms/step - loss: 0.0079 - acc: 0.9865 - val_loss: 1.9984 - val_acc: 0.3102\n",
      "Epoch 109/150\n",
      "34/34 [==============================] - 25s 725ms/step - loss: 0.0080 - acc: 0.9868 - val_loss: 2.0038 - val_acc: 0.3104\n",
      "Epoch 110/150\n",
      "34/34 [==============================] - 25s 724ms/step - loss: 0.0077 - acc: 0.9870 - val_loss: 2.0104 - val_acc: 0.3136\n",
      "Epoch 111/150\n",
      "34/34 [==============================] - 24s 719ms/step - loss: 0.0074 - acc: 0.9868 - val_loss: 2.0141 - val_acc: 0.3107\n",
      "Epoch 112/150\n",
      "34/34 [==============================] - 24s 720ms/step - loss: 0.0084 - acc: 0.9860 - val_loss: 2.0040 - val_acc: 0.3107\n",
      "Epoch 113/150\n",
      "34/34 [==============================] - 24s 718ms/step - loss: 0.0076 - acc: 0.9866 - val_loss: 2.0083 - val_acc: 0.3097\n",
      "Epoch 114/150\n",
      "34/34 [==============================] - 24s 720ms/step - loss: 0.0075 - acc: 0.9866 - val_loss: 2.0104 - val_acc: 0.3107\n",
      "Epoch 115/150\n",
      "34/34 [==============================] - 24s 717ms/step - loss: 0.0076 - acc: 0.9860 - val_loss: 2.0115 - val_acc: 0.3112\n",
      "Epoch 116/150\n",
      "34/34 [==============================] - 24s 714ms/step - loss: 0.0071 - acc: 0.9864 - val_loss: 2.0219 - val_acc: 0.3095\n",
      "Epoch 117/150\n",
      "34/34 [==============================] - 24s 720ms/step - loss: 0.0074 - acc: 0.9863 - val_loss: 2.0188 - val_acc: 0.3099\n",
      "Epoch 118/150\n",
      "34/34 [==============================] - 24s 716ms/step - loss: 0.0071 - acc: 0.9863 - val_loss: 2.0366 - val_acc: 0.3114\n",
      "Epoch 119/150\n",
      "34/34 [==============================] - 24s 717ms/step - loss: 0.0073 - acc: 0.9862 - val_loss: 2.0383 - val_acc: 0.3119\n",
      "Epoch 120/150\n",
      "34/34 [==============================] - 24s 712ms/step - loss: 0.0070 - acc: 0.9859 - val_loss: 2.0388 - val_acc: 0.3107\n",
      "Epoch 121/150\n",
      "34/34 [==============================] - 24s 714ms/step - loss: 0.0071 - acc: 0.9862 - val_loss: 2.0470 - val_acc: 0.3134\n",
      "Epoch 122/150\n",
      "34/34 [==============================] - 25s 725ms/step - loss: 0.0069 - acc: 0.9860 - val_loss: 2.0424 - val_acc: 0.3109\n",
      "Epoch 123/150\n",
      "34/34 [==============================] - 24s 712ms/step - loss: 0.0071 - acc: 0.9857 - val_loss: 2.0505 - val_acc: 0.3129\n",
      "Epoch 124/150\n",
      "34/34 [==============================] - 24s 713ms/step - loss: 0.0066 - acc: 0.9866 - val_loss: 2.0591 - val_acc: 0.3136\n",
      "Epoch 125/150\n",
      "34/34 [==============================] - 24s 713ms/step - loss: 0.0073 - acc: 0.9854 - val_loss: 2.0540 - val_acc: 0.3068\n",
      "Epoch 126/150\n",
      "34/34 [==============================] - 24s 714ms/step - loss: 0.0068 - acc: 0.9860 - val_loss: 2.0702 - val_acc: 0.3126\n",
      "Epoch 127/150\n",
      "34/34 [==============================] - 24s 710ms/step - loss: 0.0068 - acc: 0.9858 - val_loss: 2.0744 - val_acc: 0.3102\n",
      "Epoch 128/150\n",
      "34/34 [==============================] - 24s 708ms/step - loss: 0.0066 - acc: 0.9862 - val_loss: 2.0718 - val_acc: 0.3102\n",
      "Epoch 129/150\n",
      "34/34 [==============================] - 24s 712ms/step - loss: 0.0063 - acc: 0.9866 - val_loss: 2.0763 - val_acc: 0.3119\n",
      "Epoch 130/150\n",
      "34/34 [==============================] - 24s 713ms/step - loss: 0.0066 - acc: 0.9855 - val_loss: 2.0810 - val_acc: 0.3124\n",
      "Epoch 131/150\n",
      "34/34 [==============================] - 24s 712ms/step - loss: 0.0066 - acc: 0.9856 - val_loss: 2.0775 - val_acc: 0.3134\n",
      "Epoch 132/150\n",
      "34/34 [==============================] - 24s 712ms/step - loss: 0.0067 - acc: 0.9851 - val_loss: 2.0764 - val_acc: 0.3146\n",
      "Epoch 133/150\n",
      "34/34 [==============================] - 24s 714ms/step - loss: 0.0065 - acc: 0.9855 - val_loss: 2.0921 - val_acc: 0.3107\n",
      "Epoch 134/150\n",
      "34/34 [==============================] - 25s 736ms/step - loss: 0.0062 - acc: 0.9862 - val_loss: 2.0875 - val_acc: 0.3177\n",
      "Epoch 135/150\n",
      "34/34 [==============================] - 24s 711ms/step - loss: 0.0064 - acc: 0.9858 - val_loss: 2.0949 - val_acc: 0.3158\n",
      "Epoch 136/150\n",
      "34/34 [==============================] - 24s 711ms/step - loss: 0.0063 - acc: 0.9856 - val_loss: 2.0924 - val_acc: 0.3151\n",
      "Epoch 137/150\n",
      "34/34 [==============================] - 24s 713ms/step - loss: 0.0062 - acc: 0.9856 - val_loss: 2.0975 - val_acc: 0.3141\n",
      "Epoch 138/150\n",
      "34/34 [==============================] - 24s 710ms/step - loss: 0.0062 - acc: 0.9855 - val_loss: 2.1014 - val_acc: 0.3158\n",
      "Epoch 139/150\n",
      "34/34 [==============================] - 24s 719ms/step - loss: 0.0062 - acc: 0.9854 - val_loss: 2.0955 - val_acc: 0.3146\n",
      "Epoch 140/150\n",
      "34/34 [==============================] - 24s 714ms/step - loss: 0.0062 - acc: 0.9857 - val_loss: 2.0969 - val_acc: 0.3126\n",
      "Epoch 141/150\n",
      "34/34 [==============================] - 24s 717ms/step - loss: 0.0061 - acc: 0.9862 - val_loss: 2.1013 - val_acc: 0.3131\n",
      "Epoch 142/150\n",
      "34/34 [==============================] - 24s 713ms/step - loss: 0.0061 - acc: 0.9857 - val_loss: 2.0920 - val_acc: 0.3136\n",
      "Epoch 143/150\n",
      "34/34 [==============================] - 24s 709ms/step - loss: 0.0060 - acc: 0.9861 - val_loss: 2.1035 - val_acc: 0.3131\n",
      "Epoch 144/150\n",
      "34/34 [==============================] - 24s 709ms/step - loss: 0.0060 - acc: 0.9859 - val_loss: 2.1046 - val_acc: 0.3109\n",
      "Epoch 145/150\n",
      "34/34 [==============================] - 24s 711ms/step - loss: 0.0061 - acc: 0.9857 - val_loss: 2.1156 - val_acc: 0.3114\n",
      "Epoch 146/150\n",
      "34/34 [==============================] - 25s 724ms/step - loss: 0.0061 - acc: 0.9856 - val_loss: 2.1208 - val_acc: 0.3129\n",
      "Epoch 147/150\n",
      "34/34 [==============================] - 24s 718ms/step - loss: 0.0060 - acc: 0.9858 - val_loss: 2.1311 - val_acc: 0.3168\n",
      "Epoch 148/150\n",
      "34/34 [==============================] - 24s 713ms/step - loss: 0.0061 - acc: 0.9859 - val_loss: 2.1315 - val_acc: 0.3187\n",
      "Epoch 149/150\n",
      "34/34 [==============================] - 24s 714ms/step - loss: 0.0059 - acc: 0.9855 - val_loss: 2.1348 - val_acc: 0.3155\n",
      "Epoch 150/150\n",
      "34/34 [==============================] - 24s 716ms/step - loss: 0.0060 - acc: 0.9854 - val_loss: 2.1355 - val_acc: 0.3138\n"
     ]
    }
   ],
   "source": [
    "history = model.fit_generator(generator = generate_batch(X_train, y_train, batch_size = batch_size),\n",
    "                    steps_per_epoch = train_samples//batch_size,\n",
    "                    epochs=epochs,\n",
    "                    validation_data = generate_batch(X_test, y_test, batch_size = batch_size),\n",
    "                    validation_steps = val_samples//batch_size)"
   ]
  },
  {
   "cell_type": "markdown",
   "metadata": {},
   "source": [
    "#### Predictions"
   ]
  },
  {
   "cell_type": "code",
   "execution_count": 21,
   "metadata": {
    "id": "hAifz-yVmedF"
   },
   "outputs": [],
   "source": [
    "encoder_model = Model(encoder_inputs, encoder_states)\n",
    "decoder_state_input_h = Input(shape=(latent_dim,))\n",
    "decoder_state_input_c = Input(shape=(latent_dim,))\n",
    "decoder_states_inputs = [decoder_state_input_h, decoder_state_input_c]\n",
    "\n",
    "dec_emb2= dec_emb_layer(decoder_inputs)\n",
    "decoder_outputs2, state_h2, state_c2 = decoder_lstm(dec_emb2, initial_state=decoder_states_inputs)\n",
    "decoder_states2 = [state_h2, state_c2]\n",
    "decoder_outputs2 = decoder_dense(decoder_outputs2)\n",
    "decoder_model = Model(\n",
    "    [decoder_inputs] + decoder_states_inputs,\n",
    "    [decoder_outputs2] + decoder_states2)"
   ]
  },
  {
   "cell_type": "code",
   "execution_count": 22,
   "metadata": {
    "id": "dWXxeFzEmlGA"
   },
   "outputs": [],
   "source": [
    "def decode_sequence(input_seq):\n",
    "    states_value = encoder_model.predict(input_seq)\n",
    "    target_seq = np.zeros((1,1))\n",
    "    target_seq[0, 0] = target_token_index['START_']\n",
    "    stop_condition = False\n",
    "    decoded_sentence = ''\n",
    "    while not stop_condition:\n",
    "        output_tokens, h, c = decoder_model.predict([target_seq] + states_value)\n",
    "        sampled_token_index = np.argmax(output_tokens[0, -1, :])\n",
    "        sampled_char = reverse_target_char_index[sampled_token_index]\n",
    "        decoded_sentence += ' '+sampled_char\n",
    "        if (sampled_char == '_END' or\n",
    "           len(decoded_sentence) > 50):\n",
    "            stop_condition = True\n",
    "        target_seq = np.zeros((1,1))\n",
    "        target_seq[0, 0] = sampled_token_index\n",
    "        states_value = [h, c]\n",
    "\n",
    "    return decoded_sentence"
   ]
  },
  {
   "cell_type": "code",
   "execution_count": 23,
   "metadata": {
    "id": "sZ3cVVbSmruM"
   },
   "outputs": [],
   "source": [
    "val_gen = generate_batch(X_test, y_test, batch_size = 1)\n",
    "k=-1"
   ]
  },
  {
   "cell_type": "markdown",
   "metadata": {},
   "source": [
    "#### Inference Samples"
   ]
  },
  {
   "cell_type": "code",
   "execution_count": 28,
   "metadata": {
    "colab": {
     "base_uri": "https://localhost:8080/"
    },
    "id": "1WIxOc7xmyOD",
    "outputId": "1fd825a1-9f56-49ed-ec3c-31d12d2fd20d"
   },
   "outputs": [
    {
     "name": "stdout",
     "output_type": "stream",
     "text": [
      "Input English sentence: he is digging his own grave\n",
      "Predicted Hindi Translation:  वह अपने ओर जैसी है। \n",
      "\n",
      "\n",
      "Input English sentence: my sister has long legs\n",
      "Predicted Hindi Translation:  मेरी बहन मेरी बहन से चुकी है। \n",
      "\n",
      "\n",
      "Input English sentence: the law says that all men are equal\n",
      "Predicted Hindi Translation:  उन्हें सूरज के डूबने से अपनी मंजिल तक पहुँच जाए\n",
      "\n",
      "\n",
      "Input English sentence: are you busy today\n",
      "Predicted Hindi Translation:  तुम्हारे पास आज समय है क्या \n",
      "\n",
      "\n",
      "Input English sentence: i cant move\n",
      "Predicted Hindi Translation:  मुझे याद नहीं। \n",
      "\n",
      "\n"
     ]
    }
   ],
   "source": [
    "for dd in range(900,905):\n",
    "  k+=1\n",
    "  (input_seq, actual_output), _ = next(val_gen)\n",
    "  decoded_sentence = decode_sequence(input_seq)\n",
    "  print('Input English sentence:', X_test[k:k+1].values[0])\n",
    "  print('Predicted Hindi Translation:', decoded_sentence[:-4])\n",
    "  print('\\n')"
   ]
  }
 ],
 "metadata": {
  "colab": {
   "collapsed_sections": [],
   "name": "word_level.ipynb",
   "provenance": []
  },
  "kernelspec": {
   "display_name": "Python 3",
   "language": "python",
   "name": "python3"
  },
  "language_info": {
   "codemirror_mode": {
    "name": "ipython",
    "version": 3
   },
   "file_extension": ".py",
   "mimetype": "text/x-python",
   "name": "python",
   "nbconvert_exporter": "python",
   "pygments_lexer": "ipython3",
   "version": "3.7.3"
  }
 },
 "nbformat": 4,
 "nbformat_minor": 1
}
